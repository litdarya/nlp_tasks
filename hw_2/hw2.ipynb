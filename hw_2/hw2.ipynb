{
 "cells": [
  {
   "cell_type": "markdown",
   "metadata": {},
   "source": [
    "# Домашнее задание 2\n",
    "## Yes/No Questions\n",
    "\n",
    "deadline: 16 апреля 2020 2019, 09:00\n",
    "\n",
    "В этом домашнем задании вы будете работать с корпусом BoolQ. Корпус состоит из вопросов, предполагающих бинарный ответ (да / нет), абзацев из Википедии,  содержащих ответ на вопрос, заголовка статьи, из которой извлечен абзац и непосредственно ответа (true / false).\n",
    "\n",
    "Корпус описан в статье:\n",
    "\n",
    "Christopher Clark, Kenton Lee, Ming-Wei Chang, Tom Kwiatkowski, Michael Collins, Kristina Toutanova\n",
    "BoolQ: Exploring the Surprising Difficulty of Natural Yes/No Questions\n",
    "\n",
    "https://arxiv.org/abs/1905.10044\n",
    "\n",
    "\n",
    "Корпус (train-dev split) доступен в репозитории проекта:  https://github.com/google-research-datasets/boolean-questions\n",
    "\n",
    "Используйте для обучения train часть корпуса, для валидации и тестирования – dev часть. \n",
    "\n",
    "Каждый бонус пункт оцениватся в 1 балл. "
   ]
  },
  {
   "cell_type": "markdown",
   "metadata": {},
   "source": [
    "### Пример вопроса: \n",
    "question: is batman and robin a sequel to batman forever\n",
    "\n",
    "title: Batman & Robin (film)\n",
    "\n",
    "answer: true\n",
    "\n",
    "passage: With the box office success of Batman Forever in June 1995, Warner Bros. immediately commissioned a sequel. They hired director Joel Schumacher and writer Akiva Goldsman to reprise their duties the following August, and decided it was best to fast track production for a June 1997 target release date, which is a break from the usual 3-year gap between films. Schumacher wanted to homage both the broad camp style of the 1960s television series and the work of Dick Sprang. The storyline of Batman & Robin was conceived by Schumacher and Goldsman during pre-production on A Time to Kill. Portions of Mr. Freeze's back-story were based on the Batman: The Animated Series episode ''Heart of Ice'', written by Paul Dini."
   ]
  },
  {
   "cell_type": "markdown",
   "metadata": {},
   "source": [
    "## ПРАВИЛА\n",
    "1. Домашнее задание выполняется в группе до 3-х человек.\n",
    "2. Домашнее задание сдается через anytask, инвайты будут дополнительно высланы.\n",
    "3. Домашнее задание оформляется в виде отчета либо в .pdf файле, либо ipython-тетрадке. \n",
    "4. Отчет должен содержать: нумерацию заданий и пунктов, которые вы выполнили, код решения, и понятное пошаговое описание того, что вы сделали. Отчет должен быть написан в академическом стиле, без излишнего использования сленга и с соблюдением норм русского языка.\n",
    "5. Не стоит копировать фрагменты лекций, статей и Википедии в ваш отчет.\n",
    "6. Отчеты, состоящие исключительно из кода, не будут проверены и будут автоматически оценены нулевой оценкой.\n",
    "7. Плагиат и любое недобросоветсное цитирование приводит к обнуление оценки. "
   ]
  },
  {
   "cell_type": "markdown",
   "metadata": {},
   "source": [
    "## Часть 1. [1 балл] Эксплоративный анализ\n",
    "1. Посчитайте долю yes и no классов в корпусе\n",
    "2. Оцените среднюю длину вопроса\n",
    "3. Оцените среднюю длину параграфа\n",
    "4. Предположите, по каким эвристикам были собраны вопросы (или найдите ответ в статье). Продемонстриуйте, как эти эвристики повлияли на структуру корпуса. "
   ]
  },
  {
   "cell_type": "markdown",
   "metadata": {},
   "source": [
    "## Часть 2. [1 балл] Baseline\n",
    "1. Оцените accuracy точность совсем простого базового решения: присвоить каждой паре вопрос-ответ в dev части самый частый класс из train части\n",
    "2. Оцените accuracy чуть более сложного базового решения: fasttext на текстах, состоящих из склееных вопросов и абзацев (' '.join([question, passage]))\n",
    "\n",
    "Почему fasttext плохо справляется с этой задачей?"
   ]
  },
  {
   "cell_type": "markdown",
   "metadata": {},
   "source": [
    "## Часть 3. [1 балл] Используем эмбеддинги предложений\n",
    "1. Постройте BERT эмбеддинги вопроса и абзаца. Обучите логистическую регрессию на конкатенированных эмбеддингах вопроса и абзаца и оцените accuracy этого решения. \n",
    "\n",
    "[bonus] Используйте другие модели эмбеддингов, доступные, например, в библиотеке 🤗 Transformers. Какая модель эмбеддингов даст лучшие результаты?\n",
    "\n",
    "[bonus] Предложите метод аугментации данных и продемонстрируйте его эффективность. "
   ]
  },
  {
   "cell_type": "markdown",
   "metadata": {},
   "source": [
    "## Часть 3. [3 балла] DrQA-подобная архитектура\n",
    "\n",
    "Основана на статье: Reading Wikipedia to Answer Open-Domain Questions\n",
    "\n",
    "Danqi Chen, Adam Fisch, Jason Weston, Antoine Bordes\n",
    "\n",
    "https://arxiv.org/abs/1704.00051\n",
    "\n",
    "Архитектура DrQA предложена для задачи SQuAD, но легко может быть адаптирована к текущему заданию. Модель состоит из следующих блоков:\n",
    "1. Кодировщик абзаца [paragraph encoding] – LSTM, получаящая на вход вектора слов, состоящие из: \n",
    "* эмбеддинга слова (w2v или fasttext)\n",
    "* дополнительных признаков-индикаторов, кодирующих в виде one-hot векторов часть речи слова, является ли оно именованной сущностью или нет, встречается ли слово в вопросе или нет \n",
    "* выровненного эмбеддинга вопроса, получаемого с использованием soft attention между эмбеддингами слов из абзаца и эмбеддингом вопроса.\n",
    "\n",
    "$f_{align}(p_i) = \\sum_j􏰂 a_{i,j} E(q_j)$, где $E(q_j)$ – эмбеддинг слова из вопроса. Формула для $a_{i,j}$ приведена в статье. \n",
    "\n",
    "2. Кодировщик вопроса [question encoding] – LSTM, получаящая на вход эмбеддинги слов из вопроса. Выход кодировщика: $q = 􏰂\\sum_j􏰂  b_j q_j$. Формула для $b_{j}$ приведена в статье. \n",
    "\n",
    "3. Слой предсказания. \n",
    "\n",
    "Предложите, как можно было модифицировать последний слой предсказания в архитектуре DrQA, с учетом того, что итоговое предсказание – это метка yes / no, предсказание которой проще, чем предсказание спана ответа для SQuAD.\n",
    "\n",
    "Оцените качество этой модели для решения задачи. \n",
    "\n",
    "[bonus] Замените входные эмбеддинги и все дополнительные признаки, используемые кодировщиками, на BERT эмбеддинги. Улучшит ли это качество результатов?"
   ]
  },
  {
   "cell_type": "markdown",
   "metadata": {},
   "source": [
    "## Часть 4. [3 балла] BiDAF-подобная архитектура\n",
    "\n",
    "Основана на статье: Bidirectional Attention Flow for Machine Comprehension\n",
    "\n",
    "Minjoon Seo, Aniruddha Kembhavi, Ali Farhadi, Hannaneh Hajishirzi\n",
    "\n",
    "https://arxiv.org/abs/1611.01603\n",
    "\n",
    "Архитектура BiDAF предложена для задачи SQuAD, но легко может быть адаптирована к текущему заданию. Модель состоит из следующих блоков:\n",
    "1. Кодировщик  получает на вход два представления слова: эмбеддинг слова и полученное из CNN посимвольное представление слова. Кодировщики для вопроса и для параграфа одинаковы. \n",
    "2. Слой внимания (детальное описание приведено в статье, см. пункт Attention Flow Layer)\n",
    "3. Промежуточный слой, который получает на вход контекстуализированные эмбеддинги слов из параграфа, состоящие из трех частей (выход кодировщика параграфа,   Query2Context (один вектор) и Context2Query (матрица) выравнивания\n",
    "\n",
    "4. Слой предсказания. \n",
    "\n",
    "Предложите, как можно было модифицировать последний слой предсказания в архитектуре BiDAF, с учетом того, что итоговое предсказание – это метка yes / no, предсказание которой проще, чем предсказание спана ответа для SQuAD.\n",
    "\n",
    "Оцените качество этой модели для решения задачи. \n",
    "\n",
    "[bonus] Замените входные эмбеддинги и все дополнительные признаки, используемые кодировщиками, на BERT эмбеддинги. Улучшит ли это качество результатов?"
   ]
  },
  {
   "cell_type": "markdown",
   "metadata": {},
   "source": [
    "Сравнение DrQA и BiDAF:\n",
    "    \n",
    "![](https://www.researchgate.net/profile/Felix_Wu6/publication/321069852/figure/fig1/AS:560800147881984@1510716582560/Schematic-layouts-of-the-BiDAF-left-and-DrQA-right-architectures-We-propose-to.png)"
   ]
  },
  {
   "cell_type": "markdown",
   "metadata": {},
   "source": [
    "## Часть 5. [1 балл] Итоги\n",
    "Напишите краткое резюме проделанной работы. Сравните результаты всех разработанных моделей. Что помогло вам в выполнении работы, чего не хватало?"
   ]
  },
  {
   "cell_type": "markdown",
   "metadata": {},
   "source": [
    "# Задание"
   ]
  },
  {
   "cell_type": "markdown",
   "metadata": {},
   "source": [
    "## Скачиваем данные"
   ]
  },
  {
   "cell_type": "code",
   "execution_count": 1,
   "metadata": {
    "ExecuteTime": {
     "end_time": "2020-04-12T21:09:17.031377Z",
     "start_time": "2020-04-12T21:09:17.027864Z"
    },
    "init_cell": true
   },
   "outputs": [],
   "source": [
    "import numpy as np\n",
    "import pandas as pd\n",
    "import json\n",
    "from sklearn.model_selection import train_test_split\n",
    "from typing import Tuple, List, Union, Dict, Iterable\n",
    "import seaborn as sns\n",
    "import matplotlib.pyplot as plt\n",
    "from scipy import stats\n",
    "\n",
    "N_THREADS = 56"
   ]
  },
  {
   "cell_type": "code",
   "execution_count": 5,
   "metadata": {
    "ExecuteTime": {
     "end_time": "2020-04-05T11:58:57.120103Z",
     "start_time": "2020-04-05T11:58:57.114411Z"
    }
   },
   "outputs": [],
   "source": [
    "def read_jsonl(path: str) -> pd.DataFrame:\n",
    "    df = pd.DataFrame(columns=['question', 'title', 'answer', 'passage'])\n",
    "    \n",
    "    with open(path, 'r') as f:\n",
    "        for line in f:\n",
    "            line_dict = json.loads(line.strip())\n",
    "            df = df.append(line_dict, ignore_index=True)\n",
    "\n",
    "    return df"
   ]
  },
  {
   "cell_type": "code",
   "execution_count": 6,
   "metadata": {
    "ExecuteTime": {
     "end_time": "2020-04-05T11:59:34.692067Z",
     "start_time": "2020-04-05T11:59:07.380171Z"
    }
   },
   "outputs": [],
   "source": [
    "# train_df = read_jsonl('train.jsonl')"
   ]
  },
  {
   "cell_type": "code",
   "execution_count": 7,
   "metadata": {
    "ExecuteTime": {
     "end_time": "2020-04-05T12:13:13.006179Z",
     "start_time": "2020-04-05T12:13:13.002987Z"
    }
   },
   "outputs": [],
   "source": [
    "# dev_df = read_jsonl('dev.jsonl')"
   ]
  },
  {
   "cell_type": "code",
   "execution_count": 9,
   "metadata": {
    "ExecuteTime": {
     "end_time": "2020-04-05T12:12:52.068675Z",
     "start_time": "2020-04-05T12:12:52.055793Z"
    }
   },
   "outputs": [],
   "source": [
    "# dev, test = train_test_split(dev_df, random_state=42, test_size=0.33, stratify=dev_df['answer'])"
   ]
  },
  {
   "cell_type": "code",
   "execution_count": 10,
   "metadata": {
    "ExecuteTime": {
     "end_time": "2020-04-05T12:12:58.897336Z",
     "start_time": "2020-04-05T12:12:58.645383Z"
    }
   },
   "outputs": [],
   "source": [
    "# train_df.to_csv('train.csv')\n",
    "# dev.to_csv('dev_split.csv')\n",
    "# test.to_csv('test.csv')"
   ]
  },
  {
   "cell_type": "markdown",
   "metadata": {},
   "source": [
    "Сразу разделили dev на dev и test, чтобы сравнивать все модели на одинаковых данных."
   ]
  },
  {
   "cell_type": "code",
   "execution_count": 2,
   "metadata": {
    "ExecuteTime": {
     "end_time": "2020-04-12T21:50:21.133623Z",
     "start_time": "2020-04-12T21:50:21.057963Z"
    },
    "init_cell": true
   },
   "outputs": [],
   "source": [
    "train_df = pd.read_csv('train.csv', index_col=0)\n",
    "dev_df = pd.read_csv('dev_split.csv', index_col=0)\n",
    "test_df = pd.read_csv('test.csv', index_col=0)"
   ]
  },
  {
   "cell_type": "code",
   "execution_count": 12,
   "metadata": {
    "ExecuteTime": {
     "end_time": "2020-04-05T12:13:19.106508Z",
     "start_time": "2020-04-05T12:13:19.095555Z"
    }
   },
   "outputs": [
    {
     "data": {
      "text/html": [
       "<div>\n",
       "<style scoped>\n",
       "    .dataframe tbody tr th:only-of-type {\n",
       "        vertical-align: middle;\n",
       "    }\n",
       "\n",
       "    .dataframe tbody tr th {\n",
       "        vertical-align: top;\n",
       "    }\n",
       "\n",
       "    .dataframe thead th {\n",
       "        text-align: right;\n",
       "    }\n",
       "</style>\n",
       "<table border=\"1\" class=\"dataframe\">\n",
       "  <thead>\n",
       "    <tr style=\"text-align: right;\">\n",
       "      <th></th>\n",
       "      <th>question</th>\n",
       "      <th>title</th>\n",
       "      <th>answer</th>\n",
       "      <th>passage</th>\n",
       "    </tr>\n",
       "  </thead>\n",
       "  <tbody>\n",
       "    <tr>\n",
       "      <th>0</th>\n",
       "      <td>do iran and afghanistan speak the same language</td>\n",
       "      <td>Persian language</td>\n",
       "      <td>True</td>\n",
       "      <td>Persian (/ˈpɜːrʒən, -ʃən/), also known by its ...</td>\n",
       "    </tr>\n",
       "    <tr>\n",
       "      <th>1</th>\n",
       "      <td>do good samaritan laws protect those who help ...</td>\n",
       "      <td>Good Samaritan law</td>\n",
       "      <td>True</td>\n",
       "      <td>Good Samaritan laws offer legal protection to ...</td>\n",
       "    </tr>\n",
       "    <tr>\n",
       "      <th>2</th>\n",
       "      <td>is windows movie maker part of windows essentials</td>\n",
       "      <td>Windows Movie Maker</td>\n",
       "      <td>True</td>\n",
       "      <td>Windows Movie Maker (formerly known as Windows...</td>\n",
       "    </tr>\n",
       "    <tr>\n",
       "      <th>3</th>\n",
       "      <td>is confectionary sugar the same as powdered sugar</td>\n",
       "      <td>Powdered sugar</td>\n",
       "      <td>True</td>\n",
       "      <td>Powdered sugar, also called confectioners' sug...</td>\n",
       "    </tr>\n",
       "    <tr>\n",
       "      <th>4</th>\n",
       "      <td>is elder scrolls online the same as skyrim</td>\n",
       "      <td>The Elder Scrolls Online</td>\n",
       "      <td>False</td>\n",
       "      <td>As with other games in The Elder Scrolls serie...</td>\n",
       "    </tr>\n",
       "  </tbody>\n",
       "</table>\n",
       "</div>"
      ],
      "text/plain": [
       "                                            question  \\\n",
       "0    do iran and afghanistan speak the same language   \n",
       "1  do good samaritan laws protect those who help ...   \n",
       "2  is windows movie maker part of windows essentials   \n",
       "3  is confectionary sugar the same as powdered sugar   \n",
       "4         is elder scrolls online the same as skyrim   \n",
       "\n",
       "                      title  answer  \\\n",
       "0          Persian language    True   \n",
       "1        Good Samaritan law    True   \n",
       "2       Windows Movie Maker    True   \n",
       "3            Powdered sugar    True   \n",
       "4  The Elder Scrolls Online   False   \n",
       "\n",
       "                                             passage  \n",
       "0  Persian (/ˈpɜːrʒən, -ʃən/), also known by its ...  \n",
       "1  Good Samaritan laws offer legal protection to ...  \n",
       "2  Windows Movie Maker (formerly known as Windows...  \n",
       "3  Powdered sugar, also called confectioners' sug...  \n",
       "4  As with other games in The Elder Scrolls serie...  "
      ]
     },
     "execution_count": 12,
     "metadata": {},
     "output_type": "execute_result"
    }
   ],
   "source": [
    "train_df.head()"
   ]
  },
  {
   "cell_type": "markdown",
   "metadata": {},
   "source": [
    "## Часть 1. [1 балл] Эксплоративный анализ"
   ]
  },
  {
   "cell_type": "markdown",
   "metadata": {},
   "source": [
    "### Посчитайте долю yes и no классов в корпусе"
   ]
  },
  {
   "cell_type": "code",
   "execution_count": 13,
   "metadata": {
    "ExecuteTime": {
     "end_time": "2020-04-05T12:15:38.155502Z",
     "start_time": "2020-04-05T12:15:38.149570Z"
    }
   },
   "outputs": [],
   "source": [
    "def calc_true_false_rate(df: pd.DataFrame, heading: str) -> Tuple[float, float]:\n",
    "    n = len(df)\n",
    "    true_cnt = len(df[df['answer'] == True])\n",
    "    false_cnt = n - true_cnt\n",
    "    print(f'{heading}: true_rate = {true_cnt / n}, false_cnt = {false_cnt / n}')\n",
    "    return true_cnt / n, false_cnt / n"
   ]
  },
  {
   "cell_type": "code",
   "execution_count": 14,
   "metadata": {
    "ExecuteTime": {
     "end_time": "2020-04-05T12:15:38.833806Z",
     "start_time": "2020-04-05T12:15:38.825952Z"
    }
   },
   "outputs": [
    {
     "name": "stdout",
     "output_type": "stream",
     "text": [
      "train_df: true_rate = 0.6231038506417736, false_cnt = 0.37689614935822635\n",
      "dev_df: true_rate = 0.6219178082191781, false_cnt = 0.3780821917808219\n",
      "test_df: true_rate = 0.6212962962962963, false_cnt = 0.3787037037037037\n"
     ]
    }
   ],
   "source": [
    "true_rate, false_rate = calc_true_false_rate(train_df, heading='train_df')\n",
    "_ = calc_true_false_rate(dev_df, heading='dev_df')\n",
    "_ = calc_true_false_rate(test_df, heading='test_df')"
   ]
  },
  {
   "cell_type": "markdown",
   "metadata": {},
   "source": [
    "**yes встречается примерно в 1.5 раза чаще, чем no**"
   ]
  },
  {
   "cell_type": "markdown",
   "metadata": {},
   "source": [
    "### Оцените среднюю длину вопроса"
   ]
  },
  {
   "cell_type": "code",
   "execution_count": 15,
   "metadata": {
    "ExecuteTime": {
     "end_time": "2020-04-05T12:26:27.639896Z",
     "start_time": "2020-04-05T12:26:27.634564Z"
    }
   },
   "outputs": [],
   "source": [
    "def avg_column_len(column: Iterable[str], heading: str):\n",
    "    avg_len_sym = np.mean([len(q) for q in column])\n",
    "    avg_len_words = np.mean([len(q.split()) for q in column])\n",
    "    print(\n",
    "        f'{heading}: avg_len_words = {avg_len_words}, avg_len_symbols = {avg_len_sym}'\n",
    "    )"
   ]
  },
  {
   "cell_type": "code",
   "execution_count": 16,
   "metadata": {
    "ExecuteTime": {
     "end_time": "2020-04-05T12:26:28.090895Z",
     "start_time": "2020-04-05T12:26:28.073896Z"
    }
   },
   "outputs": [
    {
     "name": "stdout",
     "output_type": "stream",
     "text": [
      "train_df: avg_len_words = 8.815742017608995, avg_len_symbols = 43.99193805028111\n",
      "dev_df: avg_len_words = 8.695890410958905, avg_len_symbols = 43.20319634703196\n",
      "test_df: avg_len_words = 8.72962962962963, avg_len_symbols = 43.21296296296296\n"
     ]
    }
   ],
   "source": [
    "avg_column_len(train_df['question'], heading='train_df')\n",
    "avg_column_len(dev_df['question'], heading='dev_df')\n",
    "avg_column_len(test_df['question'], heading='test_df')"
   ]
  },
  {
   "cell_type": "markdown",
   "metadata": {},
   "source": [
    "**средняя длина вопроса примерно 9 cлов, 44 символа**"
   ]
  },
  {
   "cell_type": "markdown",
   "metadata": {},
   "source": [
    "### Оцените среднюю длину параграфа"
   ]
  },
  {
   "cell_type": "code",
   "execution_count": 17,
   "metadata": {
    "ExecuteTime": {
     "end_time": "2020-04-05T12:26:43.944645Z",
     "start_time": "2020-04-05T12:26:43.873565Z"
    }
   },
   "outputs": [
    {
     "name": "stdout",
     "output_type": "stream",
     "text": [
      "train_df: avg_len_words = 93.16580036066617, avg_len_symbols = 565.6130264134931\n",
      "dev_df: avg_len_words = 91.61232876712329, avg_len_symbols = 555.4438356164384\n",
      "test_df: avg_len_words = 93.30740740740741, avg_len_symbols = 566.3694444444444\n"
     ]
    }
   ],
   "source": [
    "avg_column_len(train_df['passage'], heading='train_df')\n",
    "avg_column_len(dev_df['passage'], heading='dev_df')\n",
    "avg_column_len(test_df['passage'], heading='test_df')"
   ]
  },
  {
   "cell_type": "markdown",
   "metadata": {},
   "source": [
    "**средняя длина параграфа примерно 93 cлова, 566 символов**"
   ]
  },
  {
   "cell_type": "markdown",
   "metadata": {},
   "source": [
    "### Предположите, по каким эвристикам были собраны вопросы (или найдите ответ в статье). Продемонстриуйте, как эти эвристики повлияли на структуру корпуса. "
   ]
  },
  {
   "cell_type": "code",
   "execution_count": 18,
   "metadata": {
    "ExecuteTime": {
     "end_time": "2020-04-05T14:40:31.368987Z",
     "start_time": "2020-04-05T14:40:31.108265Z"
    }
   },
   "outputs": [
    {
     "data": {
      "image/png": "[encoded data removed]",
      "text/plain": [
       "<Figure size 432x288 with 1 Axes>"
      ]
     },
     "metadata": {
      "needs_background": "light"
     },
     "output_type": "display_data"
    }
   ],
   "source": [
    "plt = sns.distplot([len(q.split()) for q in train_df['passage']], kde=False)\n",
    "plt.set_title('passage length distribution')\n",
    "_ = plt.set_xlabel('passage length')"
   ]
  },
  {
   "cell_type": "code",
   "execution_count": 19,
   "metadata": {
    "ExecuteTime": {
     "end_time": "2020-04-05T14:41:07.267893Z",
     "start_time": "2020-04-05T14:41:07.043965Z"
    }
   },
   "outputs": [
    {
     "data": {
      "image/png": "[encoded data removed]",
      "text/plain": [
       "<Figure size 432x288 with 1 Axes>"
      ]
     },
     "metadata": {
      "needs_background": "light"
     },
     "output_type": "display_data"
    }
   ],
   "source": [
    "plt = sns.distplot([len(q.split()) for q in train_df['question']], kde=False)\n",
    "plt.set_title('question length distribution')\n",
    "_ = plt.set_xlabel('question length')"
   ]
  },
  {
   "cell_type": "markdown",
   "metadata": {},
   "source": [
    "В статье написано, что вопросы собирались из гугл запросов пользователей. Из всех запросов отбирались те, которые начинались со слов-индикаторов (did, do, does, is,.. etc), и были достаточного размера, также в первых пяти результатах поисковика была википедия. Затем разметчики отбирали \"хорошие\" вопросы (понятные, однозначные, про факты).\n",
    "\n",
    "\n",
    "Вопросов с положительным ответом чуть больше, чем с отрицательным. Возможно, это связано с тем, что люди чаще запрашивают вопросы с положительным ответом (проверяют факты, в которых не уверены, и оказываются правы).\n",
    "\n",
    "\n",
    "Обычно поисковые запросы не очень большие, что и видно из распределения. Все вопросы имеют примерно одинаковую длину. Причем длина не меньше 6, так как выбирались осмысленные запросы.\n",
    "\n",
    "Параграф должен содержать ответ на вопрос, поэтому минимальная длина 7 слов -- похоже на предложение, длинные параграфы (больше 150 слов) встречаются редко, вероятно, потому что в публицистическом стиле не используют длинные параграфы."
   ]
  },
  {
   "cell_type": "markdown",
   "metadata": {},
   "source": [
    "## Часть 2. [1 балл] Baseline"
   ]
  },
  {
   "cell_type": "markdown",
   "metadata": {},
   "source": [
    "### Оцените accuracy точность совсем простого базового решения: присвоить каждой паре вопрос-ответ в dev части самый частый класс из train части"
   ]
  },
  {
   "cell_type": "code",
   "execution_count": 21,
   "metadata": {},
   "outputs": [
    {
     "name": "stdout",
     "output_type": "stream",
     "text": [
      "Cloning into 'fastText'...\n",
      "remote: Enumerating objects: 84, done.\u001b[K\n",
      "remote: Counting objects: 100% (84/84), done.\u001b[K\n",
      "remote: Compressing objects: 100% (61/61), done.\u001b[K\n",
      "remote: Total 3768 (delta 35), reused 46 (delta 15), pack-reused 3684\u001b[K\n",
      "Receiving objects: 100% (3768/3768), 8.20 MiB | 11.14 MiB/s, done.\n",
      "Resolving deltas: 100% (2354/2354), done.\n"
     ]
    }
   ],
   "source": [
    "! git clone https://github.com/facebookresearch/fastText.git"
   ]
  },
  {
   "cell_type": "code",
   "execution_count": 22,
   "metadata": {},
   "outputs": [
    {
     "name": "stdout",
     "output_type": "stream",
     "text": [
      "Processing ./fastText\n",
      "Requirement already satisfied: pybind11>=2.2 in /home/ulyanin/jupyter-notebook/venv/lib/python3.7/site-packages (from fasttext==0.9.1) (2.5.0)\n",
      "Requirement already satisfied: setuptools>=0.7.0 in /home/ulyanin/jupyter-notebook/venv/lib/python3.7/site-packages (from fasttext==0.9.1) (41.2.0)\n",
      "Requirement already satisfied: numpy in /home/ulyanin/jupyter-notebook/venv/lib/python3.7/site-packages (from fasttext==0.9.1) (1.18.2)\n",
      "Building wheels for collected packages: fasttext\n",
      "  Building wheel for fasttext (setup.py) ... \u001b[?25ldone\n",
      "\u001b[?25h  Created wheel for fasttext: filename=fasttext-0.9.1-cp37-cp37m-linux_x86_64.whl size=2876657 sha256=ab12890b5620189346e2b5ce990a46410be62a8cb01c39b0fe148fdbf73d924b\n",
      "  Stored in directory: /place/vartmp/pip-ephem-wheel-cache-dvvtyhmw/wheels/e8/f4/68/b91846f92bea77b9d713f3a4d6d00d2d5494f6fdd52af412d2\n",
      "Successfully built fasttext\n",
      "Installing collected packages: fasttext\n",
      "Successfully installed fasttext-0.9.1\n",
      "\u001b[33mWARNING: You are using pip version 19.2.3, however version 20.0.2 is available.\n",
      "You should consider upgrading via the 'pip install --upgrade pip' command.\u001b[0m\n"
     ]
    }
   ],
   "source": [
    "! pip3 install fastText/."
   ]
  },
  {
   "cell_type": "code",
   "execution_count": 3,
   "metadata": {
    "ExecuteTime": {
     "end_time": "2020-04-12T21:09:17.217645Z",
     "start_time": "2020-04-12T21:09:17.214620Z"
    },
    "init_cell": true
   },
   "outputs": [],
   "source": [
    "import fasttext\n",
    "from sklearn.metrics import accuracy_score\n",
    "from nltk.tokenize import WordPunctTokenizer\n",
    "import csv\n",
    "from tqdm.notebook import tqdm as tqdm"
   ]
  },
  {
   "cell_type": "code",
   "execution_count": 26,
   "metadata": {
    "ExecuteTime": {
     "end_time": "2020-04-05T14:58:13.725422Z",
     "start_time": "2020-04-05T14:58:13.722045Z"
    }
   },
   "outputs": [],
   "source": [
    "def evaluate_simple_model(df):\n",
    "    y_true = df['answer'].to_list()\n",
    "    y_pred = np.repeat(True, len(y_true))\n",
    "    acc = accuracy_score(y_true=y_true, y_pred=y_pred)\n",
    "    print(f'basline (always true) accuracy = {acc}')"
   ]
  },
  {
   "cell_type": "code",
   "execution_count": 102,
   "metadata": {
    "ExecuteTime": {
     "end_time": "2020-04-05T14:58:30.142638Z",
     "start_time": "2020-04-05T14:58:30.137687Z"
    }
   },
   "outputs": [
    {
     "name": "stdout",
     "output_type": "stream",
     "text": [
      "basline (always true) accuracy = 0.6219178082191781\n"
     ]
    }
   ],
   "source": [
    "evaluate_simple_model(dev_df)"
   ]
  },
  {
   "cell_type": "markdown",
   "metadata": {},
   "source": [
    "### Оцените accuracy чуть более сложного базового решения: fasttext на текстах, состоящих из склееных вопросов и абзацев (' '.join([question, passage]))\n",
    "\n",
    "Почему fasttext плохо справляется с этой задачей?"
   ]
  },
  {
   "cell_type": "code",
   "execution_count": 27,
   "metadata": {
    "ExecuteTime": {
     "end_time": "2020-04-05T15:28:12.562686Z",
     "start_time": "2020-04-05T15:28:12.556954Z"
    }
   },
   "outputs": [],
   "source": [
    "def word_punkt_tokenize_and_lowercase(sentence: str) -> str:\n",
    "    if sentence.startswith('\"'):\n",
    "        sentence = sentence[1:]\n",
    "    if sentence.endswith('\"'):\n",
    "        sentence = sentence[:-1]\n",
    "    words = WordPunctTokenizer().tokenize(sentence)\n",
    "    words = list(map(lambda x: x.lower(), words))\n",
    "    return ' '.join(words)"
   ]
  },
  {
   "cell_type": "code",
   "execution_count": 28,
   "metadata": {
    "ExecuteTime": {
     "end_time": "2020-04-05T15:28:13.120484Z",
     "start_time": "2020-04-05T15:28:13.116926Z"
    }
   },
   "outputs": [],
   "source": [
    "def prepare_df(df: pd.DataFrame) -> pd.DataFrame:\n",
    "    prepared = df.copy()\n",
    "    prepared.passage = prepared.passage.apply(word_punkt_tokenize_and_lowercase)\n",
    "    prepared.question = prepared.question.apply(word_punkt_tokenize_and_lowercase)\n",
    "    prepared.title = prepared.title.apply(word_punkt_tokenize_and_lowercase)\n",
    "    return prepared"
   ]
  },
  {
   "cell_type": "code",
   "execution_count": 29,
   "metadata": {
    "ExecuteTime": {
     "end_time": "2020-04-05T15:28:14.592520Z",
     "start_time": "2020-04-05T15:28:13.726239Z"
    }
   },
   "outputs": [],
   "source": [
    "train_df_prepared = prepare_df(train_df)\n",
    "dev_df_prepared = prepare_df(dev_df)\n",
    "test_df_prepared = prepare_df(test_df)"
   ]
  },
  {
   "cell_type": "code",
   "execution_count": 30,
   "metadata": {
    "ExecuteTime": {
     "end_time": "2020-04-05T15:28:15.443604Z",
     "start_time": "2020-04-05T15:28:15.100982Z"
    }
   },
   "outputs": [],
   "source": [
    "train_df_prepared.to_csv('train_prepared.csv')\n",
    "dev_df_prepared.to_csv('dev_prepared.csv')\n",
    "test_df_prepared.to_csv('test_prepared.csv')"
   ]
  },
  {
   "cell_type": "code",
   "execution_count": 222,
   "metadata": {
    "ExecuteTime": {
     "end_time": "2020-04-12T21:50:46.028911Z",
     "start_time": "2020-04-12T21:50:45.945186Z"
    }
   },
   "outputs": [],
   "source": [
    "train_df = pd.read_csv('train_prepared.csv', index_col=0)\n",
    "dev_df = pd.read_csv('dev_prepared.csv', index_col=0)\n",
    "test_df = pd.read_csv('dev_prepared.csv', index_col=0)"
   ]
  },
  {
   "cell_type": "code",
   "execution_count": 32,
   "metadata": {
    "ExecuteTime": {
     "end_time": "2020-04-05T15:42:42.166187Z",
     "start_time": "2020-04-05T15:42:42.161686Z"
    }
   },
   "outputs": [],
   "source": [
    "def get_text_for_fastttext(df: pd.DataFrame, i: int, need_label=False) -> str:\n",
    "    text = ''\n",
    "    if need_label:\n",
    "        text = df.iloc[i]['label'] + ' '\n",
    "    text += ' '.join([df.iloc[i]['question'], df.iloc[i]['passage']])\n",
    "    return text"
   ]
  },
  {
   "cell_type": "code",
   "execution_count": 33,
   "metadata": {
    "ExecuteTime": {
     "end_time": "2020-04-05T15:51:09.294958Z",
     "start_time": "2020-04-05T15:51:09.290054Z"
    }
   },
   "outputs": [],
   "source": [
    "def answer_to_label(answer: bool) -> str:\n",
    "    return '__label__' + str(answer)\n",
    "\n",
    "def label_to_answer(label: str) -> bool:\n",
    "    if 'True' in label:\n",
    "        return True\n",
    "    elif 'False' in label:\n",
    "        return False\n",
    "    else:\n",
    "        assert False"
   ]
  },
  {
   "cell_type": "code",
   "execution_count": 34,
   "metadata": {
    "ExecuteTime": {
     "end_time": "2020-04-05T15:51:09.824460Z",
     "start_time": "2020-04-05T15:51:09.820551Z"
    }
   },
   "outputs": [],
   "source": [
    "def save_df_for_fasttext(df: pd.DataFrame, path: str):\n",
    "    df = df.copy()\n",
    "    df['label'] = df.answer.apply(answer_to_label)\n",
    "    with open(path, 'w') as out_f:\n",
    "        for i in range(len(df)):\n",
    "            line = get_text_for_fastttext(df, i, need_label=True)\n",
    "            print(line, file=out_f)"
   ]
  },
  {
   "cell_type": "code",
   "execution_count": 35,
   "metadata": {
    "ExecuteTime": {
     "end_time": "2020-04-05T15:51:14.169170Z",
     "start_time": "2020-04-05T15:51:10.196100Z"
    }
   },
   "outputs": [],
   "source": [
    "save_df_for_fasttext(train_df, 'train_for_fasttext.txt')"
   ]
  },
  {
   "cell_type": "code",
   "execution_count": 36,
   "metadata": {
    "ExecuteTime": {
     "end_time": "2020-04-05T15:59:33.910074Z",
     "start_time": "2020-04-05T15:58:19.274109Z"
    }
   },
   "outputs": [],
   "source": [
    "baseline_ft = fasttext.train_supervised(\n",
    "    'train_for_fasttext.txt',\n",
    "    epoch=1000,\n",
    "    dim=256,\n",
    "    thread=N_THREADS)"
   ]
  },
  {
   "cell_type": "code",
   "execution_count": 37,
   "metadata": {
    "ExecuteTime": {
     "end_time": "2020-04-05T16:05:00.456019Z",
     "start_time": "2020-04-05T16:05:00.449216Z"
    }
   },
   "outputs": [],
   "source": [
    "def evaluate_ft_model(model, df, do_print=False):\n",
    "    df = df.copy()\n",
    "    texts = []\n",
    "    for i in range(len(df)):\n",
    "        texts.append(get_text_for_fastttext(df, i))\n",
    "    y_true = df.answer.to_list()\n",
    "    y_pred = model.predict(texts)[0]\n",
    "    y_pred = np.array(y_pred).flatten()\n",
    "    y_pred = list(map(label_to_answer, y_pred))\n",
    "    acc = accuracy_score(y_true=y_true, y_pred=y_pred)\n",
    "    if do_print:\n",
    "        print(f'baseline fasttext accuracy = {acc}')\n",
    "    return acc"
   ]
  },
  {
   "cell_type": "code",
   "execution_count": 286,
   "metadata": {
    "ExecuteTime": {
     "end_time": "2020-04-05T16:35:33.831088Z",
     "start_time": "2020-04-05T16:35:33.820103Z"
    }
   },
   "outputs": [],
   "source": [
    "def train_evaluate_and_plot(train: pd.DataFrame, validate: pd.DataFrame, lr, epoch_list: List):\n",
    "    assert 0.1 <= lr <= 1.0\n",
    "    \n",
    "    train_accs = []\n",
    "    val_accs = []\n",
    "    fig = plt.figure()\n",
    "    ax1 = fig.add_subplot(1, 1, 1)\n",
    "    for epoch in tqdm(epoch_list):\n",
    "        ft_model = fasttext.train_supervised(\n",
    "            'train_for_fasttext.txt',\n",
    "            epoch=epoch,\n",
    "            dim=256,\n",
    "            lr=lr,\n",
    "            thread=N_THREADS\n",
    "        )\n",
    "        train_acc = evaluate_ft_model(ft_model, df=train)\n",
    "        val_acc = evaluate_ft_model(ft_model, df=validate)\n",
    "        train_accs.append(train_acc)\n",
    "        val_accs.append(val_acc)\n",
    "    i = np.argmax(val_accs)\n",
    "    plt.plot(epoch_list, train_accs)\n",
    "    plt.plot(epoch_list, val_accs)\n",
    "    plt.legend(['train', 'val'])\n",
    "    plt.title(f'lr={lr}')\n",
    "    plt.xlabel('epoch')\n",
    "    plt.ylabel('acc')\n",
    "    plt.show()\n",
    "    return epoch_list[i], val_accs[i]"
   ]
  },
  {
   "cell_type": "code",
   "execution_count": 295,
   "metadata": {
    "ExecuteTime": {
     "end_time": "2020-04-05T19:45:23.649150Z",
     "start_time": "2020-04-05T19:45:23.645294Z"
    }
   },
   "outputs": [],
   "source": [
    "def choose_best_params():\n",
    "    best_params = None\n",
    "    best_acc = 0\n",
    "    for lr in np.linspace(0.1, 1.0, 10):\n",
    "        epoch, acc = train_evaluate_and_plot(train_df, dev_df, lr=lr, epoch_list=[10, 20, 30, 50, 100])\n",
    "        if acc > best_acc:\n",
    "            best_params = (lr, epoch)\n",
    "            best_acc = acc\n",
    "            \n",
    "    return best_params + (best_acc,)"
   ]
  },
  {
   "cell_type": "code",
   "execution_count": 296,
   "metadata": {
    "ExecuteTime": {
     "end_time": "2020-04-05T19:50:56.649342Z",
     "start_time": "2020-04-05T19:45:24.389254Z"
    }
   },
   "outputs": [
    {
     "data": {
      "application/vnd.jupyter.widget-view+json": {
       "model_id": "9eb2d4021109488daae5add2f4b39d21",
       "version_major": 2,
       "version_minor": 0
      },
      "text/plain": [
       "HBox(children=(FloatProgress(value=0.0, max=5.0), HTML(value='')))"
      ]
     },
     "metadata": {},
     "output_type": "display_data"
    },
    {
     "name": "stdout",
     "output_type": "stream",
     "text": [
      "\n"
     ]
    },
    {
     "data": {
      "image/png": "[encoded data removed]",
      "text/plain": [
       "<Figure size 432x288 with 1 Axes>"
      ]
     },
     "metadata": {
      "needs_background": "light"
     },
     "output_type": "display_data"
    },
    {
     "data": {
      "application/vnd.jupyter.widget-view+json": {
       "model_id": "9efb13f64e6c42aab75e4c1489c43d89",
       "version_major": 2,
       "version_minor": 0
      },
      "text/plain": [
       "HBox(children=(FloatProgress(value=0.0, max=5.0), HTML(value='')))"
      ]
     },
     "metadata": {},
     "output_type": "display_data"
    },
    {
     "name": "stdout",
     "output_type": "stream",
     "text": [
      "\n"
     ]
    },
    {
     "data": {
      "image/png": "[encoded data removed]",
      "text/plain": [
       "<Figure size 432x288 with 1 Axes>"
      ]
     },
     "metadata": {
      "needs_background": "light"
     },
     "output_type": "display_data"
    },
    {
     "data": {
      "application/vnd.jupyter.widget-view+json": {
       "model_id": "0b8f537134ad47b6aee553c25ada831b",
       "version_major": 2,
       "version_minor": 0
      },
      "text/plain": [
       "HBox(children=(FloatProgress(value=0.0, max=5.0), HTML(value='')))"
      ]
     },
     "metadata": {},
     "output_type": "display_data"
    },
    {
     "name": "stdout",
     "output_type": "stream",
     "text": [
      "\n"
     ]
    },
    {
     "data": {
      "image/png": "[encoded data removed]",
      "text/plain": [
       "<Figure size 432x288 with 1 Axes>"
      ]
     },
     "metadata": {
      "needs_background": "light"
     },
     "output_type": "display_data"
    },
    {
     "data": {
      "application/vnd.jupyter.widget-view+json": {
       "model_id": "d1f5f7e3d12e41f283fb42b51ba75b66",
       "version_major": 2,
       "version_minor": 0
      },
      "text/plain": [
       "HBox(children=(FloatProgress(value=0.0, max=5.0), HTML(value='')))"
      ]
     },
     "metadata": {},
     "output_type": "display_data"
    },
    {
     "name": "stdout",
     "output_type": "stream",
     "text": [
      "\n"
     ]
    },
    {
     "data": {
      "image/png": "[encoded data removed]",
      "text/plain": [
       "<Figure size 432x288 with 1 Axes>"
      ]
     },
     "metadata": {
      "needs_background": "light"
     },
     "output_type": "display_data"
    },
    {
     "data": {
      "application/vnd.jupyter.widget-view+json": {
       "model_id": "f9b025135c2d4341b5a29ff51a49160d",
       "version_major": 2,
       "version_minor": 0
      },
      "text/plain": [
       "HBox(children=(FloatProgress(value=0.0, max=5.0), HTML(value='')))"
      ]
     },
     "metadata": {},
     "output_type": "display_data"
    },
    {
     "name": "stdout",
     "output_type": "stream",
     "text": [
      "\n"
     ]
    },
    {
     "data": {
      "image/png": "[encoded data removed]",
      "text/plain": [
       "<Figure size 432x288 with 1 Axes>"
      ]
     },
     "metadata": {
      "needs_background": "light"
     },
     "output_type": "display_data"
    },
    {
     "data": {
      "application/vnd.jupyter.widget-view+json": {
       "model_id": "40bb1cb7e9fe4abd85971bed7494fd6a",
       "version_major": 2,
       "version_minor": 0
      },
      "text/plain": [
       "HBox(children=(FloatProgress(value=0.0, max=5.0), HTML(value='')))"
      ]
     },
     "metadata": {},
     "output_type": "display_data"
    },
    {
     "name": "stdout",
     "output_type": "stream",
     "text": [
      "\n"
     ]
    },
    {
     "data": {
      "image/png": "[encoded data removed]",
      "text/plain": [
       "<Figure size 432x288 with 1 Axes>"
      ]
     },
     "metadata": {
      "needs_background": "light"
     },
     "output_type": "display_data"
    },
    {
     "data": {
      "application/vnd.jupyter.widget-view+json": {
       "model_id": "5ced4c33513f4404a36d293289adb120",
       "version_major": 2,
       "version_minor": 0
      },
      "text/plain": [
       "HBox(children=(FloatProgress(value=0.0, max=5.0), HTML(value='')))"
      ]
     },
     "metadata": {},
     "output_type": "display_data"
    },
    {
     "name": "stdout",
     "output_type": "stream",
     "text": [
      "\n"
     ]
    },
    {
     "data": {
      "image/png": "[encoded data removed]",
      "text/plain": [
       "<Figure size 432x288 with 1 Axes>"
      ]
     },
     "metadata": {
      "needs_background": "light"
     },
     "output_type": "display_data"
    },
    {
     "data": {
      "application/vnd.jupyter.widget-view+json": {
       "model_id": "810d5e5d21624911b460ad3d8730d775",
       "version_major": 2,
       "version_minor": 0
      },
      "text/plain": [
       "HBox(children=(FloatProgress(value=0.0, max=5.0), HTML(value='')))"
      ]
     },
     "metadata": {},
     "output_type": "display_data"
    },
    {
     "name": "stdout",
     "output_type": "stream",
     "text": [
      "\n"
     ]
    },
    {
     "data": {
      "image/png": "[encoded data removed]",
      "text/plain": [
       "<Figure size 432x288 with 1 Axes>"
      ]
     },
     "metadata": {
      "needs_background": "light"
     },
     "output_type": "display_data"
    },
    {
     "data": {
      "application/vnd.jupyter.widget-view+json": {
       "model_id": "f5c4a74a7c9a4831ba24d743635fe4fa",
       "version_major": 2,
       "version_minor": 0
      },
      "text/plain": [
       "HBox(children=(FloatProgress(value=0.0, max=5.0), HTML(value='')))"
      ]
     },
     "metadata": {},
     "output_type": "display_data"
    },
    {
     "name": "stdout",
     "output_type": "stream",
     "text": [
      "\n"
     ]
    },
    {
     "data": {
      "image/png": "[encoded data removed]",
      "text/plain": [
       "<Figure size 432x288 with 1 Axes>"
      ]
     },
     "metadata": {
      "needs_background": "light"
     },
     "output_type": "display_data"
    },
    {
     "data": {
      "application/vnd.jupyter.widget-view+json": {
       "model_id": "efcea4a0dd604434b8f4f720907f4557",
       "version_major": 2,
       "version_minor": 0
      },
      "text/plain": [
       "HBox(children=(FloatProgress(value=0.0, max=5.0), HTML(value='')))"
      ]
     },
     "metadata": {},
     "output_type": "display_data"
    },
    {
     "name": "stdout",
     "output_type": "stream",
     "text": [
      "\n"
     ]
    },
    {
     "data": {
      "image/png": "[encoded data removed]",
      "text/plain": [
       "<Figure size 432x288 with 1 Axes>"
      ]
     },
     "metadata": {
      "needs_background": "light"
     },
     "output_type": "display_data"
    }
   ],
   "source": [
    "ft_best_params = choose_best_params()"
   ]
  },
  {
   "cell_type": "code",
   "execution_count": 297,
   "metadata": {
    "ExecuteTime": {
     "end_time": "2020-04-05T21:19:03.989346Z",
     "start_time": "2020-04-05T21:19:03.984787Z"
    }
   },
   "outputs": [
    {
     "data": {
      "text/plain": [
       "(0.1, 10, 0.6561643835616439)"
      ]
     },
     "execution_count": 297,
     "metadata": {},
     "output_type": "execute_result"
    }
   ],
   "source": [
    "ft_best_params"
   ]
  },
  {
   "cell_type": "markdown",
   "metadata": {},
   "source": [
    "Fasttext лучше простого бейзлайна только на 3%.\n",
    "\n",
    "Модель не использует то, что вопрос и параграф существенно отличаются по смыслу. Эмбеддинг, который подается в логистическую регрессию, -- усреднение эмбедингов слов, длина вопроса значительно меньше длины параграфа, поэтому вклад вопроса в этом эмбеддинге небольшой."
   ]
  },
  {
   "cell_type": "markdown",
   "metadata": {},
   "source": [
    "## Часть 3. [1 балл] Используем эмбеддинги предложений"
   ]
  },
  {
   "cell_type": "markdown",
   "metadata": {},
   "source": [
    "### BERT эмбеддинги вопроса и абзаца"
   ]
  },
  {
   "cell_type": "code",
   "execution_count": 4,
   "metadata": {
    "ExecuteTime": {
     "end_time": "2020-04-12T21:09:17.299853Z",
     "start_time": "2020-04-12T21:09:17.219706Z"
    },
    "init_cell": true
   },
   "outputs": [
    {
     "name": "stderr",
     "output_type": "stream",
     "text": [
      "Using TensorFlow backend.\n"
     ]
    }
   ],
   "source": [
    "import logging\n",
    "from keras.preprocessing.sequence import pad_sequences\n",
    "import torch\n",
    "from transformers import BertTokenizer, BertModel, BertForMaskedLM\n",
    "import pickle\n",
    "import re"
   ]
  },
  {
   "cell_type": "code",
   "execution_count": 51,
   "metadata": {
    "ExecuteTime": {
     "end_time": "2020-04-09T13:25:16.444549Z",
     "start_time": "2020-04-09T13:25:16.436134Z"
    }
   },
   "outputs": [
    {
     "data": {
      "text/html": [
       "<div>\n",
       "<style scoped>\n",
       "    .dataframe tbody tr th:only-of-type {\n",
       "        vertical-align: middle;\n",
       "    }\n",
       "\n",
       "    .dataframe tbody tr th {\n",
       "        vertical-align: top;\n",
       "    }\n",
       "\n",
       "    .dataframe thead th {\n",
       "        text-align: right;\n",
       "    }\n",
       "</style>\n",
       "<table border=\"1\" class=\"dataframe\">\n",
       "  <thead>\n",
       "    <tr style=\"text-align: right;\">\n",
       "      <th></th>\n",
       "      <th>question</th>\n",
       "      <th>title</th>\n",
       "      <th>answer</th>\n",
       "      <th>passage</th>\n",
       "    </tr>\n",
       "  </thead>\n",
       "  <tbody>\n",
       "    <tr>\n",
       "      <th>0</th>\n",
       "      <td>do iran and afghanistan speak the same language</td>\n",
       "      <td>persian language</td>\n",
       "      <td>True</td>\n",
       "      <td>persian (/ ˈpɜːrʒən , - ʃən /), also known by ...</td>\n",
       "    </tr>\n",
       "    <tr>\n",
       "      <th>1</th>\n",
       "      <td>do good samaritan laws protect those who help ...</td>\n",
       "      <td>good samaritan law</td>\n",
       "      <td>True</td>\n",
       "      <td>good samaritan laws offer legal protection to ...</td>\n",
       "    </tr>\n",
       "    <tr>\n",
       "      <th>2</th>\n",
       "      <td>is windows movie maker part of windows essentials</td>\n",
       "      <td>windows movie maker</td>\n",
       "      <td>True</td>\n",
       "      <td>windows movie maker ( formerly known as window...</td>\n",
       "    </tr>\n",
       "    <tr>\n",
       "      <th>3</th>\n",
       "      <td>is confectionary sugar the same as powdered sugar</td>\n",
       "      <td>powdered sugar</td>\n",
       "      <td>True</td>\n",
       "      <td>powdered sugar , also called confectioners ' s...</td>\n",
       "    </tr>\n",
       "    <tr>\n",
       "      <th>4</th>\n",
       "      <td>is elder scrolls online the same as skyrim</td>\n",
       "      <td>the elder scrolls online</td>\n",
       "      <td>False</td>\n",
       "      <td>as with other games in the elder scrolls serie...</td>\n",
       "    </tr>\n",
       "  </tbody>\n",
       "</table>\n",
       "</div>"
      ],
      "text/plain": [
       "                                            question  \\\n",
       "0    do iran and afghanistan speak the same language   \n",
       "1  do good samaritan laws protect those who help ...   \n",
       "2  is windows movie maker part of windows essentials   \n",
       "3  is confectionary sugar the same as powdered sugar   \n",
       "4         is elder scrolls online the same as skyrim   \n",
       "\n",
       "                      title  answer  \\\n",
       "0          persian language    True   \n",
       "1        good samaritan law    True   \n",
       "2       windows movie maker    True   \n",
       "3            powdered sugar    True   \n",
       "4  the elder scrolls online   False   \n",
       "\n",
       "                                             passage  \n",
       "0  persian (/ ˈpɜːrʒən , - ʃən /), also known by ...  \n",
       "1  good samaritan laws offer legal protection to ...  \n",
       "2  windows movie maker ( formerly known as window...  \n",
       "3  powdered sugar , also called confectioners ' s...  \n",
       "4  as with other games in the elder scrolls serie...  "
      ]
     },
     "execution_count": 51,
     "metadata": {},
     "output_type": "execute_result"
    }
   ],
   "source": [
    "train_df.head()"
   ]
  },
  {
   "cell_type": "code",
   "execution_count": 5,
   "metadata": {
    "ExecuteTime": {
     "end_time": "2020-04-12T21:09:17.375662Z",
     "start_time": "2020-04-12T21:09:17.302963Z"
    },
    "init_cell": true
   },
   "outputs": [],
   "source": [
    "SEPARATOR = '[SEP]'\n",
    "CLS = '[CLS] '\n",
    "SENTENCE_END = ['.', '?', '!']\n",
    "OUTPUT_LAYER = 12\n",
    "MAX_LEN_PASSAGE = 350\n",
    "MAX_LEN_QUEST = 20"
   ]
  },
  {
   "cell_type": "code",
   "execution_count": 6,
   "metadata": {
    "ExecuteTime": {
     "end_time": "2020-04-12T21:09:17.475941Z",
     "start_time": "2020-04-12T21:09:17.377701Z"
    },
    "init_cell": true
   },
   "outputs": [],
   "source": [
    "def mark_text(row):\n",
    "    return CLS + row + SEPARATOR"
   ]
  },
  {
   "cell_type": "code",
   "execution_count": 7,
   "metadata": {
    "ExecuteTime": {
     "end_time": "2020-04-12T21:09:17.565081Z",
     "start_time": "2020-04-12T21:09:17.480905Z"
    },
    "init_cell": true
   },
   "outputs": [],
   "source": [
    "def mark_df(df: pd.DataFrame):\n",
    "    df['proc_passage'] = df['passage'].apply(mark_text)\n",
    "    df['proc_question'] = df['question'].apply(mark_text)\n",
    "    \n",
    "    return df"
   ]
  },
  {
   "cell_type": "code",
   "execution_count": 8,
   "metadata": {
    "ExecuteTime": {
     "end_time": "2020-04-12T10:24:11.479589Z",
     "start_time": "2020-04-12T10:24:11.386121Z"
    }
   },
   "outputs": [],
   "source": [
    "train_df = mark_df(train_df)\n",
    "dev_df = mark_df(dev_df)\n",
    "test_df = mark_df(test_df)"
   ]
  },
  {
   "cell_type": "code",
   "execution_count": 8,
   "metadata": {
    "ExecuteTime": {
     "end_time": "2020-04-12T21:09:17.654314Z",
     "start_time": "2020-04-12T21:09:17.568543Z"
    },
    "init_cell": true
   },
   "outputs": [],
   "source": [
    "def get_bert_embeds(marked_texts, max_len):\n",
    "    tokenizer = BertTokenizer.from_pretrained('bert-base-uncased')\n",
    "\n",
    "    tokenized_texts = [tokenizer.tokenize(text) for text in marked_texts]\n",
    "\n",
    "    input_ids = [tokenizer.convert_tokens_to_ids(text) for text in tokenized_texts]\n",
    "    input_ids = pad_sequences(input_ids,\n",
    "                              maxlen=max_len,\n",
    "                              dtype=\"long\",\n",
    "                              truncating=\"post\",\n",
    "                              padding=\"post\")\n",
    "\n",
    "    attention_masks = []\n",
    "    for seq in input_ids:\n",
    "        seq_mask = [int(i > 0) for i in seq]\n",
    "        attention_masks.append(seq_mask)\n",
    "\n",
    "    segments_ids = [[1] * max_len for text in tokenized_texts]\n",
    "\n",
    "    tokens_tensor = torch.tensor(input_ids)\n",
    "    segments_tensor = torch.tensor(segments_ids)\n",
    "    attention_tensor = torch.tensor(attention_masks)\n",
    "\n",
    "    model = BertModel.from_pretrained('bert-base-uncased',\n",
    "                                      output_hidden_states=True)\n",
    "    model = model.eval()\n",
    "\n",
    "    with torch.no_grad():\n",
    "        _, _, encoded_layers = model(input_ids=tokens_tensor,\n",
    "                                     attention_mask=attention_tensor,\n",
    "                                     token_type_ids=segments_tensor)\n",
    "\n",
    "    embeds = []\n",
    "    for embed in encoded_layers[OUTPUT_LAYER]:\n",
    "        embeds.append(torch.mean(embed, dim=0))\n",
    "\n",
    "    return embeds"
   ]
  },
  {
   "cell_type": "code",
   "execution_count": 9,
   "metadata": {
    "ExecuteTime": {
     "end_time": "2020-04-12T21:09:17.827746Z",
     "start_time": "2020-04-12T21:09:17.657043Z"
    },
    "init_cell": true
   },
   "outputs": [],
   "source": [
    "def bert_df(df, column, file_name, max_len):\n",
    "    BATCH_SIZE = 256\n",
    "\n",
    "    passages = df[column].to_list()\n",
    "    bert_passage = []\n",
    "    for idx in tqdm(range(0, len(passages), BATCH_SIZE)):\n",
    "        bert_passage.extend(\n",
    "            get_bert_embeds(passages[idx:min(len(passages), idx + BATCH_SIZE)], max_len)\n",
    "        )\n",
    "\n",
    "    print(f'Calculated embeds for {column}...')\n",
    "    \n",
    "    with open(f'bert_{column}_{file_name}.pickle', 'wb') as f:\n",
    "        pickle.dump(bert_passage, f)\n",
    "        \n",
    "    print(f'Saved embeds for {column}...')\n",
    "        \n",
    "    del bert_passage"
   ]
  },
  {
   "cell_type": "code",
   "execution_count": 77,
   "metadata": {
    "ExecuteTime": {
     "end_time": "2020-04-10T15:38:26.791837Z",
     "start_time": "2020-04-10T13:54:25.056703Z"
    }
   },
   "outputs": [
    {
     "data": {
      "application/vnd.jupyter.widget-view+json": {
       "model_id": "5b7c631db90a4ef0856b9922ec1d0f21",
       "version_major": 2,
       "version_minor": 0
      },
      "text/plain": [
       "HBox(children=(FloatProgress(value=0.0, max=37.0), HTML(value='')))"
      ]
     },
     "metadata": {},
     "output_type": "display_data"
    },
    {
     "name": "stdout",
     "output_type": "stream",
     "text": [
      "\n",
      "Calculated embeds for proc_passage...\n",
      "Saved embeds for proc_passage...\n"
     ]
    },
    {
     "data": {
      "application/vnd.jupyter.widget-view+json": {
       "model_id": "43d7dc4c077f4026b54fd1fab903ab70",
       "version_major": 2,
       "version_minor": 0
      },
      "text/plain": [
       "HBox(children=(FloatProgress(value=0.0, max=37.0), HTML(value='')))"
      ]
     },
     "metadata": {},
     "output_type": "display_data"
    },
    {
     "name": "stdout",
     "output_type": "stream",
     "text": [
      "\n",
      "Calculated embeds for proc_question...\n",
      "Saved embeds for proc_question...\n",
      "CPU times: user 5h 19min 37s, sys: 38min 52s, total: 5h 58min 30s\n",
      "Wall time: 1h 44min 1s\n"
     ]
    }
   ],
   "source": [
    "%%time\n",
    "bert_df(df=train_df, column='proc_passage', file_name='train', max_len=MAX_LEN_PASSAGE)\n",
    "bert_df(df=train_df, column='proc_question', file_name='train', max_len=MAX_LEN_QUEST)"
   ]
  },
  {
   "cell_type": "code",
   "execution_count": 78,
   "metadata": {
    "ExecuteTime": {
     "end_time": "2020-04-10T16:07:03.109160Z",
     "start_time": "2020-04-10T15:38:26.945228Z"
    }
   },
   "outputs": [
    {
     "data": {
      "application/vnd.jupyter.widget-view+json": {
       "model_id": "30a44d8b9f7245c9a71ae5f57db903b2",
       "version_major": 2,
       "version_minor": 0
      },
      "text/plain": [
       "HBox(children=(FloatProgress(value=0.0, max=9.0), HTML(value='')))"
      ]
     },
     "metadata": {},
     "output_type": "display_data"
    },
    {
     "name": "stdout",
     "output_type": "stream",
     "text": [
      "\n",
      "Calculated embeds for proc_passage...\n",
      "Saved embeds for proc_passage...\n"
     ]
    },
    {
     "data": {
      "application/vnd.jupyter.widget-view+json": {
       "model_id": "90f045e35b8948bcb87240a3b730b7e9",
       "version_major": 2,
       "version_minor": 0
      },
      "text/plain": [
       "HBox(children=(FloatProgress(value=0.0, max=9.0), HTML(value='')))"
      ]
     },
     "metadata": {},
     "output_type": "display_data"
    },
    {
     "name": "stdout",
     "output_type": "stream",
     "text": [
      "\n",
      "Calculated embeds for proc_question...\n",
      "Saved embeds for proc_question...\n",
      "CPU times: user 1h 20min 25s, sys: 5min 57s, total: 1h 26min 22s\n",
      "Wall time: 28min 35s\n"
     ]
    }
   ],
   "source": [
    "%%time\n",
    "bert_df(df=dev_df, column='proc_passage', file_name='dev', max_len=MAX_LEN_PASSAGE)\n",
    "bert_df(df=dev_df, column='proc_question', file_name='dev', max_len=MAX_LEN_QUEST)"
   ]
  },
  {
   "cell_type": "code",
   "execution_count": 79,
   "metadata": {
    "ExecuteTime": {
     "end_time": "2020-04-10T16:19:59.534166Z",
     "start_time": "2020-04-10T16:07:03.729180Z"
    }
   },
   "outputs": [
    {
     "data": {
      "application/vnd.jupyter.widget-view+json": {
       "model_id": "5fddb184685740a9a2f7e1a6e0bea4e9",
       "version_major": 2,
       "version_minor": 0
      },
      "text/plain": [
       "HBox(children=(FloatProgress(value=0.0, max=5.0), HTML(value='')))"
      ]
     },
     "metadata": {},
     "output_type": "display_data"
    },
    {
     "name": "stdout",
     "output_type": "stream",
     "text": [
      "\n",
      "Calculated embeds for proc_passage...\n",
      "Saved embeds for proc_passage...\n"
     ]
    },
    {
     "data": {
      "application/vnd.jupyter.widget-view+json": {
       "model_id": "e98f91ff83d9483da976dc0e65b7fd40",
       "version_major": 2,
       "version_minor": 0
      },
      "text/plain": [
       "HBox(children=(FloatProgress(value=0.0, max=5.0), HTML(value='')))"
      ]
     },
     "metadata": {},
     "output_type": "display_data"
    },
    {
     "name": "stdout",
     "output_type": "stream",
     "text": [
      "\n",
      "Calculated embeds for proc_question...\n",
      "Saved embeds for proc_question...\n",
      "CPU times: user 39min 50s, sys: 2min 47s, total: 42min 37s\n",
      "Wall time: 12min 55s\n"
     ]
    }
   ],
   "source": [
    "%%time\n",
    "bert_df(df=test_df, column='proc_passage', file_name='test', max_len=MAX_LEN_PASSAGE)\n",
    "bert_df(df=test_df, column='proc_question', file_name='test', max_len=MAX_LEN_QUEST)"
   ]
  },
  {
   "cell_type": "code",
   "execution_count": 10,
   "metadata": {
    "ExecuteTime": {
     "end_time": "2020-04-12T21:09:17.898298Z",
     "start_time": "2020-04-12T21:09:17.830570Z"
    },
    "init_cell": true
   },
   "outputs": [],
   "source": [
    "def load_embeddings(column, file_name):\n",
    "    with open(f'bert_{column}_{file_name}.pickle', 'rb') as f:\n",
    "        embeds = pickle.load(f)\n",
    "    return embeds"
   ]
  },
  {
   "cell_type": "code",
   "execution_count": 11,
   "metadata": {
    "ExecuteTime": {
     "end_time": "2020-04-12T21:09:18.018649Z",
     "start_time": "2020-04-12T21:09:17.900471Z"
    },
    "init_cell": true
   },
   "outputs": [],
   "source": [
    "def concat_question_passage(questions, passages):\n",
    "    unite = []\n",
    "    for q, p in zip(questions, passages):\n",
    "        unite.append(torch.cat((q, p), dim=0).numpy().flatten())\n",
    "    return unite"
   ]
  },
  {
   "cell_type": "code",
   "execution_count": 12,
   "metadata": {
    "ExecuteTime": {
     "end_time": "2020-04-12T21:09:18.086978Z",
     "start_time": "2020-04-12T21:09:18.021256Z"
    },
    "init_cell": true
   },
   "outputs": [],
   "source": [
    "def concat_embeddings(file_name):\n",
    "    passage = load_embeddings('proc_passage', file_name)\n",
    "    question = load_embeddings('proc_question', file_name)\n",
    "    return concat_question_passage(question, passage)"
   ]
  },
  {
   "cell_type": "code",
   "execution_count": 57,
   "metadata": {
    "ExecuteTime": {
     "end_time": "2020-04-10T16:20:35.164539Z",
     "start_time": "2020-04-10T16:20:01.651078Z"
    }
   },
   "outputs": [],
   "source": [
    "train_embeds = concat_embeddings('train')\n",
    "dev_embeds = concat_embeddings('dev')\n",
    "test_embeds = concat_embeddings('test')"
   ]
  },
  {
   "cell_type": "markdown",
   "metadata": {},
   "source": [
    "### Обучите логистическую регрессию на конкатенированных эмбеддингах вопроса и абзаца и оцените accuracy этого решения"
   ]
  },
  {
   "cell_type": "code",
   "execution_count": 13,
   "metadata": {
    "ExecuteTime": {
     "end_time": "2020-04-12T21:09:18.166096Z",
     "start_time": "2020-04-12T21:09:18.089530Z"
    },
    "init_cell": true
   },
   "outputs": [],
   "source": [
    "from sklearn.linear_model import LogisticRegressionCV"
   ]
  },
  {
   "cell_type": "code",
   "execution_count": 61,
   "metadata": {
    "ExecuteTime": {
     "end_time": "2020-04-10T16:26:51.450646Z",
     "start_time": "2020-04-10T16:20:35.318674Z"
    },
    "scrolled": true
   },
   "outputs": [],
   "source": [
    "clf = LogisticRegressionCV(cv=5,\n",
    "                           random_state=42,\n",
    "                           max_iter=1000,\n",
    "                           n_jobs=N_THREADS).fit(train_embeds, train_df.answer.to_list())"
   ]
  },
  {
   "cell_type": "code",
   "execution_count": 86,
   "metadata": {
    "ExecuteTime": {
     "end_time": "2020-04-10T16:26:51.754238Z",
     "start_time": "2020-04-10T16:26:51.453101Z"
    }
   },
   "outputs": [
    {
     "data": {
      "text/plain": [
       "0.6607305936073059"
      ]
     },
     "execution_count": 86,
     "metadata": {},
     "output_type": "execute_result"
    }
   ],
   "source": [
    "y_pred = clf.predict(dev_embeds)\n",
    "accuracy_score(y_true=dev_df.answer.to_list(), y_pred=y_pred)"
   ]
  },
  {
   "cell_type": "markdown",
   "metadata": {},
   "source": [
    "Результат незначительно лучше, чем у fasttext. Можно предположить, что проблема в том, что эмбеддинги вопроса и текста никак между собой не связаны."
   ]
  },
  {
   "cell_type": "markdown",
   "metadata": {},
   "source": [
    "## Часть 3. [3 балла] DrQA-подобная архитектура\n",
    "\n",
    "Основана на статье: Reading Wikipedia to Answer Open-Domain Questions\n",
    "\n",
    "Danqi Chen, Adam Fisch, Jason Weston, Antoine Bordes\n",
    "\n",
    "https://arxiv.org/abs/1704.00051\n",
    "\n",
    "Архитектура DrQA предложена для задачи SQuAD, но легко может быть адаптирована к текущему заданию. Модель состоит из следующих блоков:\n",
    "1. Кодировщик абзаца [paragraph encoding] – LSTM, получаящая на вход вектора слов, состоящие из: \n",
    "* эмбеддинга слова (w2v или fasttext)\n",
    "* дополнительных признаков-индикаторов, кодирующих в виде one-hot векторов часть речи слова, является ли оно именованной сущностью или нет, встречается ли слово в вопросе или нет \n",
    "* выровненного эмбеддинга вопроса, получаемого с использованием soft attention между эмбеддингами слов из абзаца и эмбеддингом вопроса.\n",
    "\n",
    "$f_{align}(p_i) = \\sum_j􏰂 a_{i,j} E(q_j)$, где $E(q_j)$ – эмбеддинг слова из вопроса. Формула для $a_{i,j}$ приведена в статье. \n",
    "\n",
    "2. Кодировщик вопроса [question encoding] – LSTM, получаящая на вход эмбеддинги слов из вопроса. Выход кодировщика: $q = 􏰂\\sum_j􏰂  b_j q_j$. Формула для $b_{j}$ приведена в статье. \n",
    "\n",
    "3. Слой предсказания. \n",
    "\n",
    "Предложите, как можно было модифицировать последний слой предсказания в архитектуре DrQA, с учетом того, что итоговое предсказание – это метка yes / no, предсказание которой проще, чем предсказание спана ответа для SQuAD.\n",
    "\n",
    "Оцените качество этой модели для решения задачи. \n",
    "\n",
    "[bonus] Замените входные эмбеддинги и все дополнительные признаки, используемые кодировщиками, на BERT эмбеддинги. Улучшит ли это качество результатов?"
   ]
  },
  {
   "cell_type": "markdown",
   "metadata": {},
   "source": [
    "Сравнение DrQA и BiDAF:\n",
    "    \n",
    "![](https://www.researchgate.net/profile/Felix_Wu6/publication/321069852/figure/fig1/AS:560800147881984@1510716582560/Schematic-layouts-of-the-BiDAF-left-and-DrQA-right-architectures-We-propose-to.png)"
   ]
  },
  {
   "cell_type": "code",
   "execution_count": 85,
   "metadata": {
    "ExecuteTime": {
     "end_time": "2020-04-12T21:09:23.522813Z",
     "start_time": "2020-04-12T21:09:23.519725Z"
    },
    "init_cell": true
   },
   "outputs": [],
   "source": [
    "from __future__ import absolute_import, division, print_function, unicode_literals\n",
    "\n",
    "import tensorflow as tf\n",
    "\n",
    "from tensorflow.keras import datasets, layers, models\n",
    "\n",
    "from sklearn.utils.class_weight import compute_sample_weight\n",
    "from collections import defaultdict\n",
    "import multiprocessing\n",
    "import nltk\n",
    "from sklearn.preprocessing import OneHotEncoder"
   ]
  },
  {
   "cell_type": "code",
   "execution_count": 204,
   "metadata": {},
   "outputs": [
    {
     "name": "stderr",
     "output_type": "stream",
     "text": [
      "[nltk_data] Downloading package maxent_ne_chunker to\n",
      "[nltk_data]     /home/ulyanin/nltk_data...\n",
      "[nltk_data]   Unzipping chunkers/maxent_ne_chunker.zip.\n"
     ]
    },
    {
     "data": {
      "text/plain": [
       "True"
      ]
     },
     "execution_count": 204,
     "metadata": {},
     "output_type": "execute_result"
    }
   ],
   "source": [
    "nltk.download('maxent_ne_chunker')"
   ]
  },
  {
   "cell_type": "markdown",
   "metadata": {},
   "source": [
    "### Получение эмбеддингов и фичей для параграфов и вопросов"
   ]
  },
  {
   "cell_type": "markdown",
   "metadata": {},
   "source": [
    "#### Эмбеддинги слов в параграфах и вопросах"
   ]
  },
  {
   "cell_type": "markdown",
   "metadata": {},
   "source": [
    "Берем готовую модель fasttext, делаем паддинг, получаем эмбеддинги"
   ]
  },
  {
   "cell_type": "code",
   "execution_count": 223,
   "metadata": {
    "ExecuteTime": {
     "end_time": "2020-04-12T22:15:38.027994Z",
     "start_time": "2020-04-12T22:15:38.014222Z"
    }
   },
   "outputs": [
    {
     "name": "stdout",
     "output_type": "stream",
     "text": [
      "cc.en.300.bin\n"
     ]
    }
   ],
   "source": [
    "import fasttext.util\n",
    "en_ft_name = fasttext.util.download_model('en', if_exists='ignore')  # English\n",
    "print(en_ft_name)"
   ]
  },
  {
   "cell_type": "code",
   "execution_count": 355,
   "metadata": {},
   "outputs": [],
   "source": [
    "FT_EMBEDS_DIM = 300"
   ]
  },
  {
   "cell_type": "code",
   "execution_count": 224,
   "metadata": {},
   "outputs": [
    {
     "name": "stderr",
     "output_type": "stream",
     "text": [
      "Warning : `load_model` does not return WordVectorModel or SupervisedModel any more, but a `FastText` object which is very similar.\n"
     ]
    }
   ],
   "source": [
    "ft_model = fasttext.load_model(en_ft_name)"
   ]
  },
  {
   "cell_type": "code",
   "execution_count": 235,
   "metadata": {},
   "outputs": [],
   "source": [
    "def padding(texts, max_size):\n",
    "    padded = []\n",
    "    for text in tqdm(texts):\n",
    "        text = text.split()\n",
    "        if len(text) >= max_size:\n",
    "            padded.append(text[:max_size])\n",
    "        else:\n",
    "            text += ['']*(max_size - len(text))\n",
    "            padded.append(text)\n",
    "    return padded"
   ]
  },
  {
   "cell_type": "code",
   "execution_count": 236,
   "metadata": {},
   "outputs": [
    {
     "data": {
      "application/vnd.jupyter.widget-view+json": {
       "model_id": "4359e7a2405a46af9acfe4bb019d2b54",
       "version_major": 2,
       "version_minor": 0
      },
      "text/plain": [
       "HBox(children=(FloatProgress(value=0.0, max=9427.0), HTML(value='')))"
      ]
     },
     "metadata": {},
     "output_type": "display_data"
    },
    {
     "name": "stdout",
     "output_type": "stream",
     "text": [
      "\n"
     ]
    },
    {
     "data": {
      "application/vnd.jupyter.widget-view+json": {
       "model_id": "91fac114859547b0811e7a529325ed84",
       "version_major": 2,
       "version_minor": 0
      },
      "text/plain": [
       "HBox(children=(FloatProgress(value=0.0, max=9427.0), HTML(value='')))"
      ]
     },
     "metadata": {},
     "output_type": "display_data"
    },
    {
     "name": "stdout",
     "output_type": "stream",
     "text": [
      "\n"
     ]
    }
   ],
   "source": [
    "train_passages = padding(train_df.passage, MAX_LEN_PASSAGE)\n",
    "train_questions = padding(train_df.question, MAX_LEN_QUEST)"
   ]
  },
  {
   "cell_type": "code",
   "execution_count": 237,
   "metadata": {},
   "outputs": [],
   "source": [
    "def get_sentence_embeddings(sentence: str, model=ft_model):\n",
    "    word_embeds = []\n",
    "    for word in sentence:\n",
    "        word_embeds.append(model[word])\n",
    "    return word_embeds"
   ]
  },
  {
   "cell_type": "code",
   "execution_count": 238,
   "metadata": {
    "ExecuteTime": {
     "end_time": "2020-04-12T22:03:12.714019Z",
     "start_time": "2020-04-12T22:03:12.710362Z"
    }
   },
   "outputs": [],
   "source": [
    "def get_embeddings(sentences: List[str], model=ft_model):\n",
    "    embeds = []\n",
    "    size = None\n",
    "    for sentence in tqdm(sentences):\n",
    "        assert not size or size == len(sentence)\n",
    "        embeds.append(get_sentence_embeddings(sentence,model=model))\n",
    "        size = len(embeds[-1])\n",
    "    return np.array(embeds)    "
   ]
  },
  {
   "cell_type": "markdown",
   "metadata": {},
   "source": [
    "#### match_features: встречается ли слово в вопросе или нет"
   ]
  },
  {
   "cell_type": "code",
   "execution_count": 347,
   "metadata": {
    "ExecuteTime": {
     "end_time": "2020-04-12T22:03:13.941276Z",
     "start_time": "2020-04-12T22:03:13.936846Z"
    }
   },
   "outputs": [],
   "source": [
    "def get_match_features(df):\n",
    "    match_features = []\n",
    "    for i in tqdm(range(len(df))):\n",
    "        p = df.iloc[i].passage.split()\n",
    "        q = df.iloc[i].question.split()\n",
    "        ft = []\n",
    "        for i in range(MAX_LEN_PASSAGE):\n",
    "            if i < len(p):\n",
    "                ft.append([int(p[i] in q)])\n",
    "            else:\n",
    "                ft.append([0])\n",
    "        match_features.append(np.array(ft))\n",
    "    return np.array(match_features)"
   ]
  },
  {
   "cell_type": "markdown",
   "metadata": {},
   "source": [
    "#### POS_features: one-hot векторов часть речи слова"
   ]
  },
  {
   "cell_type": "code",
   "execution_count": 242,
   "metadata": {},
   "outputs": [],
   "source": [
    "def my_pos_tag(sentence):\n",
    "    real_len = -1 if '' not in sentence else sentence.index('')\n",
    "    if real_len == -1:\n",
    "        return nltk.pos_tag(sentence)\n",
    "    tags = nltk.pos_tag(sentence[:real_len])\n",
    "    rest = [('','')] * (len(sentence) - real_len)\n",
    "    return tags + rest"
   ]
  },
  {
   "cell_type": "code",
   "execution_count": 243,
   "metadata": {},
   "outputs": [],
   "source": [
    "def get_pos_tags(sentences):\n",
    "    sentence_pos_tags = []\n",
    "    pos_tags_set = set()\n",
    "    for sentence in tqdm(sentences):\n",
    "        L = []\n",
    "        tags = my_pos_tag(sentence)\n",
    "        assert len(tags) == len(sentence)\n",
    "        assert sentence == [word for word, tag in tags]\n",
    "        sentence_pos_tags.append([tag for _, tag in tags])\n",
    "        #print(sentence_pos_tags[-1])\n",
    "        pos_tags_set |= set(sentence_pos_tags[-1])\n",
    "    return np.array(sentence_pos_tags), pos_tags_set"
   ]
  },
  {
   "cell_type": "code",
   "execution_count": 244,
   "metadata": {},
   "outputs": [
    {
     "data": {
      "application/vnd.jupyter.widget-view+json": {
       "model_id": "b2131aa5dfc1463abbf3e9a5161616b6",
       "version_major": 2,
       "version_minor": 0
      },
      "text/plain": [
       "HBox(children=(FloatProgress(value=0.0, max=9427.0), HTML(value='')))"
      ]
     },
     "metadata": {},
     "output_type": "display_data"
    },
    {
     "name": "stdout",
     "output_type": "stream",
     "text": [
      "\n"
     ]
    }
   ],
   "source": [
    "train_passage_poses, ALL_POS_TAGS = get_pos_tags(train_passages)"
   ]
  },
  {
   "cell_type": "code",
   "execution_count": 245,
   "metadata": {},
   "outputs": [
    {
     "data": {
      "text/plain": [
       "(9427, 350)"
      ]
     },
     "execution_count": 245,
     "metadata": {},
     "output_type": "execute_result"
    }
   ],
   "source": [
    "train_passage_poses.shape"
   ]
  },
  {
   "cell_type": "code",
   "execution_count": 246,
   "metadata": {},
   "outputs": [
    {
     "data": {
      "text/plain": [
       "OneHotEncoder(categories='auto', drop=None, dtype=<class 'numpy.float64'>,\n",
       "              handle_unknown='error', sparse=True)"
      ]
     },
     "execution_count": 246,
     "metadata": {},
     "output_type": "execute_result"
    }
   ],
   "source": [
    "pos_tag_encoder = OneHotEncoder()\n",
    "pos_tag_encoder.fit(train_passage_poses.reshape(-1, 1))"
   ]
  },
  {
   "cell_type": "code",
   "execution_count": 247,
   "metadata": {},
   "outputs": [
    {
     "data": {
      "text/plain": [
       "(46,\n",
       " [array(['', '#', '$', \"''\", '(', ')', ',', '.', ':', 'CC', 'CD', 'DT',\n",
       "         'EX', 'FW', 'IN', 'JJ', 'JJR', 'JJS', 'LS', 'MD', 'NN', 'NNP',\n",
       "         'NNPS', 'NNS', 'PDT', 'POS', 'PRP', 'PRP$', 'RB', 'RBR', 'RBS',\n",
       "         'RP', 'SYM', 'TO', 'UH', 'VB', 'VBD', 'VBG', 'VBN', 'VBP', 'VBZ',\n",
       "         'WDT', 'WP', 'WP$', 'WRB', '``'], dtype='<U4')])"
      ]
     },
     "execution_count": 247,
     "metadata": {},
     "output_type": "execute_result"
    }
   ],
   "source": [
    "len(pos_tag_encoder.categories_[0]), pos_tag_encoder.categories_"
   ]
  },
  {
   "cell_type": "code",
   "execution_count": 248,
   "metadata": {},
   "outputs": [],
   "source": [
    "POS_TAGS_DIM = len(pos_tag_encoder.categories_[0])"
   ]
  },
  {
   "cell_type": "code",
   "execution_count": 249,
   "metadata": {},
   "outputs": [],
   "source": [
    "def get_pos_tags_features(sentences):\n",
    "    size, words = sentences.shape\n",
    "    res = pos_tag_encoder.transform(sentences.reshape(-1, 1)).toarray()\n",
    "    return np.reshape(res, (size, words, -1))\n",
    "    "
   ]
  },
  {
   "cell_type": "code",
   "execution_count": 250,
   "metadata": {},
   "outputs": [
    {
     "data": {
      "text/plain": [
       "(9427, 350, 46)"
      ]
     },
     "execution_count": 250,
     "metadata": {},
     "output_type": "execute_result"
    }
   ],
   "source": [
    "train_pos_tags_passage_features = get_pos_tags_features(train_passage_poses)\n",
    "train_pos_tags_passage_features.shape"
   ]
  },
  {
   "cell_type": "markdown",
   "metadata": {},
   "source": [
    "#### NER features: является ли слово именованной сущностью"
   ]
  },
  {
   "cell_type": "code",
   "execution_count": 323,
   "metadata": {
    "init_cell": true
   },
   "outputs": [],
   "source": [
    "import nltk\n",
    "\n",
    "from nltk import word_tokenize, pos_tag, ne_chunk\n",
    "from nltk.chunk import conlltags2tree, tree2conlltags\n"
   ]
  },
  {
   "cell_type": "code",
   "execution_count": 352,
   "metadata": {},
   "outputs": [],
   "source": [
    "NER_FEATURES_DIM = 1"
   ]
  },
  {
   "cell_type": "markdown",
   "metadata": {},
   "source": [
    "StanfordNERTagger и spacy использовать сходу не получилось, так как они по-своему токенизирует и позиция слова в предложении теряется"
   ]
  },
  {
   "cell_type": "code",
   "execution_count": 324,
   "metadata": {},
   "outputs": [],
   "source": [
    "# from nltk.tag.stanford import StanfordNERTagger\n",
    "# jar = './stanford-ner-2018-10-16/stanford-ner-3.9.2.jar'\n",
    "# model = './stanford-ner-2018-10-16/classifiers/english.all.3class.distsim.crf.ser.gz'\n",
    "\n",
    "# Prepare NER tagger with english model\n",
    "# ner_tagger = StanfordNERTagger(model, jar, encoding='utf8')"
   ]
  },
  {
   "cell_type": "code",
   "execution_count": 314,
   "metadata": {},
   "outputs": [],
   "source": [
    "def get_NER_features(sentence):\n",
    "    # '' is bad for nltk, so replace it with some neutral string like '.'\n",
    "    sentence = [word if word else '.' for word in sentence]\n",
    "    tagged = tree2conlltags(ne_chunk(pos_tag(sentence)))\n",
    "    return [[ner_tag != 'O'] for word, _, ner_tag in tagged]"
   ]
  },
  {
   "cell_type": "code",
   "execution_count": 315,
   "metadata": {},
   "outputs": [],
   "source": [
    "def get_NER_features_unparallel(sentences):\n",
    "    return list(tqdm(map(get_NER_features, sentences), total=len(sentences)))"
   ]
  },
  {
   "cell_type": "code",
   "execution_count": 316,
   "metadata": {},
   "outputs": [],
   "source": [
    "def get_NER_features_parallel(sentences, pool):\n",
    "    return list(tqdm(pool.imap(get_NER_features, sentences), total=len(sentences)))"
   ]
  },
  {
   "cell_type": "code",
   "execution_count": 317,
   "metadata": {},
   "outputs": [],
   "source": [
    "# get_NER_features_unparallel(train_passages[:1])"
   ]
  },
  {
   "cell_type": "code",
   "execution_count": 318,
   "metadata": {},
   "outputs": [
    {
     "data": {
      "application/vnd.jupyter.widget-view+json": {
       "model_id": "485cd7b92e3441dcbabd69b063bc9ab0",
       "version_major": 2,
       "version_minor": 0
      },
      "text/plain": [
       "HBox(children=(FloatProgress(value=0.0, max=9427.0), HTML(value='')))"
      ]
     },
     "metadata": {},
     "output_type": "display_data"
    },
    {
     "name": "stdout",
     "output_type": "stream",
     "text": [
      "\n"
     ]
    }
   ],
   "source": [
    "with multiprocessing.Pool(N_THREADS) as pool:\n",
    "    train_ner_features = get_NER_features_parallel(train_passages, pool)\n",
    "    train_ner_features = np.array(train_ner_features)"
   ]
  },
  {
   "cell_type": "markdown",
   "metadata": {},
   "source": [
    "**Всё вместе**"
   ]
  },
  {
   "cell_type": "code",
   "execution_count": 353,
   "metadata": {},
   "outputs": [],
   "source": [
    "TOKEN_FEATURES_DIM = POS_TAGS_DIM + NER_FEATURES_DIM"
   ]
  },
  {
   "cell_type": "code",
   "execution_count": 350,
   "metadata": {},
   "outputs": [],
   "source": [
    "def get_embeddings_df(passages, questions):\n",
    "    passage_embeddings = get_embeddings(passages, model=ft_model)\n",
    "    print(f'passage_embeddings = {passage_embeddings.shape}')\n",
    "    question_embeddings = get_embeddings(questions, model=ft_model)\n",
    "    print(f'question_embeddings = {question_embeddings.shape}')\n",
    "    match_features = get_match_features(train_df)\n",
    "    print(f'match_features = {match_features.shape}')\n",
    "    token_features = np.concatenate([train_pos_tags_passage_features, train_ner_features], axis=2)\n",
    "    print(f'token_features = {token_features.shape}')\n",
    "    return passage_embeddings, question_embeddings, match_features, token_features"
   ]
  },
  {
   "cell_type": "code",
   "execution_count": 351,
   "metadata": {},
   "outputs": [
    {
     "data": {
      "application/vnd.jupyter.widget-view+json": {
       "model_id": "ccff418f2ca2429e8c8f4b5d919555fc",
       "version_major": 2,
       "version_minor": 0
      },
      "text/plain": [
       "HBox(children=(FloatProgress(value=0.0, max=9427.0), HTML(value='')))"
      ]
     },
     "metadata": {},
     "output_type": "display_data"
    },
    {
     "name": "stdout",
     "output_type": "stream",
     "text": [
      "\n",
      "passage_embeddings = (9427, 350, 300)\n"
     ]
    },
    {
     "data": {
      "application/vnd.jupyter.widget-view+json": {
       "model_id": "e38fc7297bd840b9bac9f31c5f2c9d66",
       "version_major": 2,
       "version_minor": 0
      },
      "text/plain": [
       "HBox(children=(FloatProgress(value=0.0, max=9427.0), HTML(value='')))"
      ]
     },
     "metadata": {},
     "output_type": "display_data"
    },
    {
     "name": "stdout",
     "output_type": "stream",
     "text": [
      "\n",
      "question_embeddings = (9427, 20, 300)\n"
     ]
    },
    {
     "data": {
      "application/vnd.jupyter.widget-view+json": {
       "model_id": "8d310ef7fe3540b5a018155399f71861",
       "version_major": 2,
       "version_minor": 0
      },
      "text/plain": [
       "HBox(children=(FloatProgress(value=0.0, max=9427.0), HTML(value='')))"
      ]
     },
     "metadata": {},
     "output_type": "display_data"
    },
    {
     "name": "stdout",
     "output_type": "stream",
     "text": [
      "\n",
      "match_features = (9427, 350, 1)\n",
      "token_features = (9427, 350, 47)\n"
     ]
    }
   ],
   "source": [
    "train_embeds = get_embeddings_df(train_passages, train_questions)"
   ]
  },
  {
   "cell_type": "code",
   "execution_count": 356,
   "metadata": {},
   "outputs": [],
   "source": [
    "passage_embeddings, question_embeddings, match_features, token_features = train_embeds"
   ]
  },
  {
   "cell_type": "code",
   "execution_count": 360,
   "metadata": {},
   "outputs": [],
   "source": [
    "assert passage_embeddings.shape[-1] == FT_EMBEDS_DIM\n",
    "assert question_embeddings.shape[-1] == FT_EMBEDS_DIM\n",
    "assert match_features.shape[-1] == 1\n",
    "assert token_features.shape[-1] == TOKEN_FEATURES_DIM"
   ]
  },
  {
   "cell_type": "markdown",
   "metadata": {},
   "source": [
    "### Имплементация DRQA на keras"
   ]
  },
  {
   "cell_type": "code",
   "execution_count": 325,
   "metadata": {
    "ExecuteTime": {
     "end_time": "2020-04-12T21:09:24.031499Z",
     "start_time": "2020-04-12T21:09:24.026835Z"
    },
    "init_cell": true
   },
   "outputs": [],
   "source": [
    "np.random.seed(42)\n",
    "tf.random.set_seed(42)"
   ]
  },
  {
   "cell_type": "code",
   "execution_count": 326,
   "metadata": {
    "ExecuteTime": {
     "end_time": "2020-04-12T21:09:28.386008Z",
     "start_time": "2020-04-12T21:09:28.381036Z"
    }
   },
   "outputs": [],
   "source": [
    "class QuestionEncoding(tf.keras.Model):\n",
    "    def __init__(self, quest_lstm=4):\n",
    "        super(QuestionEncoding, self).__init__()\n",
    "        self.question_lstm = tf.keras.layers.Bidirectional(\n",
    "            tf.keras.layers.LSTM(quest_lstm, return_sequences=True))\n",
    "        self.question_dense = tf.keras.layers.Dense(1, use_bias=False)\n",
    "\n",
    "    def call(self, inputs):\n",
    "        lstm_h = self.question_lstm(inputs)\n",
    "        # attention\n",
    "        b = tf.nn.softmax(self.question_dense(lstm_h))\n",
    "        q = tf.multiply(b, lstm_h)\n",
    "        q = tf.reduce_sum(q, axis=1)\n",
    "        return q"
   ]
  },
  {
   "cell_type": "code",
   "execution_count": 327,
   "metadata": {
    "ExecuteTime": {
     "end_time": "2020-04-12T21:09:28.772080Z",
     "start_time": "2020-04-12T21:09:28.763012Z"
    }
   },
   "outputs": [],
   "source": [
    "class ParagraphEncoding(tf.keras.Model):\n",
    "    def __init__(self,\n",
    "                 alpha_dim=2,\n",
    "                 question_size=30,\n",
    "                 passage_size=350,\n",
    "                 passage_embeds_dim=256,\n",
    "                 passage_dim=270,\n",
    "                 question_embeds_dim=256,\n",
    "                 passage_lstm=11):\n",
    "        super(ParagraphEncoding, self).__init__()\n",
    "        self.alpha = tf.keras.layers.Dense(alpha_dim,\n",
    "                                           activation='relu',\n",
    "                                           use_bias=False)\n",
    "        self.question_size = question_size\n",
    "        self.passage_size = passage_size\n",
    "        self.passage_dim = passage_dim\n",
    "        self.passage_embeds_dim = passage_embeds_dim\n",
    "        self.question_embeds_dim = question_embeds_dim\n",
    "\n",
    "        self.passage_lstm = tf.keras.layers.Bidirectional(\n",
    "            tf.keras.layers.LSTM(passage_lstm, return_sequences=True))\n",
    "\n",
    "    def call(self, inputs):\n",
    "        features_vect = inputs[:, :self.passage_size * self.passage_dim]\n",
    "        question_embeds = inputs[:, self.passage_size * self.passage_dim:]\n",
    "\n",
    "        features_vect = tf.reshape(features_vect,\n",
    "                                   [-1, self.passage_size, self.passage_dim])\n",
    "\n",
    "        passage_embeds = features_vect[:, :, :self.passage_embeds_dim]\n",
    "\n",
    "        question_embeds = tf.reshape(\n",
    "            question_embeds,\n",
    "            [-1, self.question_size, self.question_embeds_dim])\n",
    "\n",
    "        passage_alpha = self.alpha(passage_embeds)\n",
    "        question_alpha = self.alpha(question_embeds)\n",
    "\n",
    "        # (batch, 350, 2) , (batch, 30, 2) --> (batch, 350, 30)\n",
    "        product = tf.matmul(passage_alpha, question_alpha, transpose_b=True)\n",
    "        a = tf.nn.softmax(product, axis=2)\n",
    "\n",
    "        f_align = tf.matmul(a, question_embeds)\n",
    "        features = tf.concat([features_vect, f_align], axis=2)\n",
    "\n",
    "        #         print(passage_alpha.shape, question_alpha.shape)\n",
    "        #         print(f'product shape: {product.shape}')\n",
    "        #         print(f'a shape: {a.shape}')\n",
    "        #         print(f'quest_embeds: {question_embeds.shape}')\n",
    "        #         print(f'f_align: {f_align.shape}')\n",
    "        #         print(f'features+vect: {features_vect.shape}')\n",
    "        #         print(f'features: {features.shape}')\n",
    "        lstm = self.passage_lstm(features)\n",
    "        print(f'lstm shape: {lstm.shape}')\n",
    "\n",
    "        return lstm"
   ]
  },
  {
   "cell_type": "code",
   "execution_count": 328,
   "metadata": {
    "ExecuteTime": {
     "end_time": "2020-04-12T21:09:29.278695Z",
     "start_time": "2020-04-12T21:09:29.275102Z"
    }
   },
   "outputs": [],
   "source": [
    "class Layer(object):\n",
    "    _name_dict = defaultdict(int)\n",
    "\n",
    "    def __init__(self, name=None):\n",
    "        if name is None:\n",
    "            name = \"layer\"\n",
    "\n",
    "        self.name = name + \"_\" + str(self._name_dict[name] + 1)\n",
    "        self._name_dict[name] += 1"
   ]
  },
  {
   "cell_type": "code",
   "execution_count": 329,
   "metadata": {
    "ExecuteTime": {
     "end_time": "2020-04-12T21:15:03.121173Z",
     "start_time": "2020-04-12T21:15:03.111160Z"
    }
   },
   "outputs": [],
   "source": [
    "class ParagraphEncodingLayer(Layer):\n",
    "    def __init__(self,\n",
    "                 alpha_dim=2,\n",
    "                 question_size=30,\n",
    "                 passage_size=350,\n",
    "                 passage_embeds_dim=256,\n",
    "                 passage_dim=270,\n",
    "                 question_embeds_dim=256,\n",
    "                 passage_lstm=11):\n",
    "        super(ParagraphEncodingLayer, self).__init__()\n",
    "        self.alpha = tf.keras.layers.Dense(alpha_dim,\n",
    "                                           activation='relu',\n",
    "                                           use_bias=False)\n",
    "        self.question_size = question_size\n",
    "        self.passage_size = passage_size\n",
    "        self.passage_dim = passage_dim\n",
    "        self.passage_embeds_dim = passage_embeds_dim\n",
    "        self.question_embeds_dim = question_embeds_dim\n",
    "\n",
    "        self.passage_lstm = tf.keras.layers.Bidirectional(\n",
    "            tf.keras.layers.LSTM(passage_lstm, return_sequences=True))\n",
    "\n",
    "    def __call__(self, passage_embeds, question_embeds, match_features, token_features):\n",
    "\n",
    "        passage_alpha = self.alpha(passage_embeds)\n",
    "        question_alpha = self.alpha(question_embeds)\n",
    "\n",
    "        # (batch, 350, 2) , (batch, 30, 2) --> (batch, 350, 30)\n",
    "        product = tf.matmul(passage_alpha, question_alpha, transpose_b=True)\n",
    "        a = tf.nn.softmax(product, axis=2)\n",
    "        \n",
    "        f_align = tf.matmul(a, question_embeds)\n",
    "        \n",
    "        features = tf.concat([passage_embeds,  match_features, token_features, f_align], axis=2)\n",
    "\n",
    "        #         print(passage_alpha.shape, question_alpha.shape)\n",
    "        #         print(f'product shape: {product.shape}')\n",
    "        #         print(f'a shape: {a.shape}')\n",
    "        #         print(f'quest_embeds: {question_embeds.shape}')\n",
    "        #         print(f'f_align: {f_align.shape}')\n",
    "        #         print(f'features+vect: {features_vect.shape}')\n",
    "        #         print(f'features: {features.shape}')\n",
    "        lstm = self.passage_lstm(features)\n",
    "        print(f'lstm shape: {lstm.shape}')\n",
    "\n",
    "        return lstm"
   ]
  },
  {
   "cell_type": "code",
   "execution_count": 330,
   "metadata": {
    "ExecuteTime": {
     "end_time": "2020-04-12T21:28:20.301356Z",
     "start_time": "2020-04-12T21:28:20.293097Z"
    }
   },
   "outputs": [],
   "source": [
    "class BiLinear(Layer):\n",
    "    def __init__(self, name=\"bi_linear\"):\n",
    "        super(BiLinear, self).__init__(name)\n",
    "        self.projecting_layer = None\n",
    "\n",
    "    def __call__(self, t0, t1):\n",
    "        hidden_units = t0.shape.as_list()[-1]\n",
    "        if self.projecting_layer is None:\n",
    "            self.projecting_layer = tf.keras.layers.Dense(hidden_units, activation=None,\n",
    "                                                          use_bias=False)\n",
    "\n",
    "        t0 = self.projecting_layer(t0)\n",
    "        return tf.matmul(t0, t1, transpose_b=True)\n",
    "    \n",
    "    \n",
    "class BiLinear2(Layer):\n",
    "    def __init__(self, name=\"bi_linear\", hidden_units=None):\n",
    "        super(BiLinear2, self).__init__(name)\n",
    "        self.projecting_layer = None\n",
    "        self.hidden_units = hidden_units\n",
    "\n",
    "    def __call__(self, t0, t1):\n",
    "\n",
    "        print(f't0: {t0.shape}')\n",
    "        print(f't1: {t1.shape}')\n",
    "        if self.projecting_layer is None:\n",
    "            self.projecting_layer = tf.keras.layers.Dense(self.hidden_units,\n",
    "                                                          activation=None,\n",
    "                                                          use_bias=False)\n",
    "        # (?, 350, 22)\n",
    "        t0 = self.projecting_layer(t0)\n",
    "        # (?, 350, hidden_units)\n",
    "        # t0 = tf.expand_dims(t0, axis=2)\n",
    "        # (?, 350, 1, hidden_units)\n",
    "        \n",
    "#         (?, 8)\n",
    "        t1 = tf.expand_dims(t1, axis=2)\n",
    "        \n",
    "        print(f't0: {t0.shape}')\n",
    "        print(f't1: {t1.shape}')\n",
    "        res = tf.squeeze(tf.matmul(t0, t1), axis=2)\n",
    "        print(f'res: {res.shape}')\n",
    "        return res\n",
    "\n"
   ]
  },
  {
   "cell_type": "code",
   "execution_count": 331,
   "metadata": {
    "ExecuteTime": {
     "end_time": "2020-04-12T21:33:53.525923Z",
     "start_time": "2020-04-12T21:33:53.521084Z"
    }
   },
   "outputs": [],
   "source": [
    "class PredictionLayer(Layer):\n",
    "    def __init__(self, question_hidden_size):\n",
    "        super(PredictionLayer, self).__init__()\n",
    "        self.question_hidden_size = question_hidden_size\n",
    "    \n",
    "    def __call__(self, passage_embeddings, question_embeddings):\n",
    "        bilinear = BiLinear2(hidden_units=self.question_hidden_size)\n",
    "        p = bilinear(passage_embeddings, question_embeddings)\n",
    "        print(f'p.shape = {p.shape}')\n",
    "        \n",
    "        # p.shape = (?, 350)\n",
    "        p_yes_no = tf.keras.layers.Dense(2, activation='softmax', use_bias=True)(p)\n",
    "        # p_yes_no = (?, 2)\n",
    "        print(f'p_yes_no = {p_yes_no.shape}')\n",
    "        yes_no = tf.math.argmax(p_yes_no, axis=1)\n",
    "        # yes_no = (?, 1)\n",
    "        print(f'yes_no = {yes_no.shape}')\n",
    "        return yes_no"
   ]
  },
  {
   "cell_type": "code",
   "execution_count": 332,
   "metadata": {
    "ExecuteTime": {
     "end_time": "2020-04-12T21:33:53.731540Z",
     "start_time": "2020-04-12T21:33:53.723482Z"
    }
   },
   "outputs": [],
   "source": [
    "def drqa(*,\n",
    "         passage_size,\n",
    "         quiestion_size,\n",
    "         embeds_dim,\n",
    "         match_dim,\n",
    "         token_features_dim,\n",
    "         passage_lstm=11,\n",
    "         question_lstm=4):\n",
    "    question_input = tf.keras.Input(shape=(quiestion_size, embeds_dim),\n",
    "                                    name='question')\n",
    "    passage_input = tf.keras.Input(shape=(passage_size, embeds_dim),\n",
    "                                   name='passage')\n",
    "    match_input = tf.keras.Input(shape=(passage_size, match_dim),\n",
    "                                 name='exact_match')\n",
    "    token_features_input = tf.keras.Input(\n",
    "        shape=(passage_size, token_features_dim),\n",
    "        name='token_features'\n",
    "    )\n",
    "\n",
    "    passage_encoder = ParagraphEncodingLayer(passage_lstm=passage_lstm)\n",
    "    passage_features = passage_encoder(passage_input, question_input,\n",
    "                                       match_input, token_features_input)\n",
    "\n",
    "    question_encoder = QuestionEncoding(quest_lstm=question_lstm)\n",
    "    question_features = question_encoder(question_input)\n",
    "\n",
    "    question_hidden_size = 2 * question_lstm\n",
    "    prediction_layer = PredictionLayer(question_hidden_size=question_hidden_size)\n",
    "    prediction = prediction_layer(passage_features, question_features)\n",
    "\n",
    "    # Instantiate an end-to-end model predicting both priority and department\n",
    "    model = tf.keras.Model(\n",
    "        inputs=[\n",
    "            question_input, passage_input, match_input, token_features_input\n",
    "        ],\n",
    "        outputs=[prediction]\n",
    "    )\n",
    "    return model"
   ]
  },
  {
   "cell_type": "code",
   "execution_count": 361,
   "metadata": {
    "ExecuteTime": {
     "end_time": "2020-04-12T21:34:10.683082Z",
     "start_time": "2020-04-12T21:34:09.817700Z"
    }
   },
   "outputs": [
    {
     "name": "stdout",
     "output_type": "stream",
     "text": [
      "lstm shape: (None, 350, 22)\n",
      "t0: (None, 350, 22)\n",
      "t1: (None, 8)\n",
      "t0: (None, 350, 8)\n",
      "t1: (None, 8, 1)\n",
      "res: (None, 350)\n",
      "p.shape = (None, 350)\n",
      "p_yes_no = (None, 2)\n",
      "yes_no = (None,)\n"
     ]
    }
   ],
   "source": [
    "question = np.random.random([3, 30, 256])\n",
    "passage = np.random.random([3, 350, 256])\n",
    "match_ft = np.random.random([3, 350, 3])\n",
    "token_ft = np.random.random([3, 350, 2])\n",
    "\n",
    "_model = drqa(\n",
    "    passage_size=MAX_LEN_PASSAGE, \n",
    "    quiestion_size=MAX_LEN_QUEST, \n",
    "    embeds_dim=FT_EMBEDS_DIM, \n",
    "    match_dim=1,\n",
    "    token_features_dim=TOKEN_FEATURES_DIM)\n"
   ]
  },
  {
   "cell_type": "code",
   "execution_count": 362,
   "metadata": {
    "ExecuteTime": {
     "end_time": "2020-04-12T21:34:12.082306Z",
     "start_time": "2020-04-12T21:34:11.792995Z"
    },
    "scrolled": true
   },
   "outputs": [
    {
     "data": {
      "image/png": "[encoded data removed]",
      "text/plain": [
       "<IPython.core.display.Image object>"
      ]
     },
     "execution_count": 362,
     "metadata": {},
     "output_type": "execute_result"
    }
   ],
   "source": [
    "tf.keras.utils.plot_model(_model, 'drqa.png', show_shapes=True)"
   ]
  },
  {
   "cell_type": "code",
   "execution_count": 365,
   "metadata": {},
   "outputs": [],
   "source": [
    "def train_model(model, embeds):\n",
    "    passage_embeddings, question_embeddings, match_features, token_features = embeds\n",
    "    print(f'passage_embeddings = {passage_embeddings.shape}')\n",
    "    print(f'question_embeddings = {question_embeddings.shape}')\n",
    "    print(f'match_features = {match_features.shape}')\n",
    "    print(f'token_features = {token_features.shape}')\n",
    "    "
   ]
  },
  {
   "cell_type": "code",
   "execution_count": 366,
   "metadata": {
    "ExecuteTime": {
     "end_time": "2020-04-12T22:03:17.193822Z",
     "start_time": "2020-04-12T22:03:15.983867Z"
    }
   },
   "outputs": [
    {
     "name": "stdout",
     "output_type": "stream",
     "text": [
      "passage_embeddings = (9427, 350, 300)\n",
      "question_embeddings = (9427, 20, 300)\n",
      "match_features = (9427, 350, 1)\n",
      "token_features = (9427, 350, 47)\n"
     ]
    }
   ],
   "source": [
    "train_model(_model, train_embeds)"
   ]
  },
  {
   "cell_type": "code",
   "execution_count": null,
   "metadata": {},
   "outputs": [],
   "source": []
  },
  {
   "cell_type": "code",
   "execution_count": 265,
   "metadata": {
    "ExecuteTime": {
     "end_time": "2020-04-12T19:22:34.552357Z",
     "start_time": "2020-04-12T19:22:34.545542Z"
    }
   },
   "outputs": [
    {
     "data": {
      "text/plain": [
       "(3, 94500)"
      ]
     },
     "execution_count": 265,
     "metadata": {},
     "output_type": "execute_result"
    }
   ],
   "source": [
    "passage.shape"
   ]
  },
  {
   "cell_type": "code",
   "execution_count": 266,
   "metadata": {
    "ExecuteTime": {
     "end_time": "2020-04-12T19:22:34.738822Z",
     "start_time": "2020-04-12T19:22:34.732391Z"
    }
   },
   "outputs": [
    {
     "data": {
      "text/plain": [
       "(3, 7680)"
      ]
     },
     "execution_count": 266,
     "metadata": {},
     "output_type": "execute_result"
    }
   ],
   "source": [
    "question.shape"
   ]
  },
  {
   "cell_type": "code",
   "execution_count": 267,
   "metadata": {
    "ExecuteTime": {
     "end_time": "2020-04-12T19:22:34.900245Z",
     "start_time": "2020-04-12T19:22:34.896405Z"
    }
   },
   "outputs": [
    {
     "data": {
      "text/plain": [
       "(3, 102180)"
      ]
     },
     "execution_count": 267,
     "metadata": {},
     "output_type": "execute_result"
    }
   ],
   "source": [
    "inputs.shape"
   ]
  },
  {
   "cell_type": "code",
   "execution_count": 268,
   "metadata": {
    "ExecuteTime": {
     "end_time": "2020-04-12T19:22:35.099199Z",
     "start_time": "2020-04-12T19:22:35.092059Z"
    }
   },
   "outputs": [],
   "source": [
    "inputs = np.concatenate([passage, question], axis=1)"
   ]
  },
  {
   "cell_type": "code",
   "execution_count": 275,
   "metadata": {
    "ExecuteTime": {
     "end_time": "2020-04-12T19:22:52.930552Z",
     "start_time": "2020-04-12T19:22:52.926741Z"
    }
   },
   "outputs": [],
   "source": [
    "def get_model(model_class=QuestionEncoding, sentence_size=10, embed_dim=256, quest_lstm=5,\n",
    "             pos_dim=10, ner_dim=1, match_dim=3):\n",
    "#     model = model_class(quest_lstm=quest_lstm)\n",
    "    model = model_class()\n",
    "#     model.build(input_shape=(None, sentence_size, embed_dim))\n",
    "    model.build(input_shape=(None, sentence_size, 102180))\n",
    "    model.compile(optimizer='adam',\n",
    "                  loss='categorical_crossentropy',\n",
    "                  metrics=['acc'])\n",
    "    return model"
   ]
  },
  {
   "cell_type": "code",
   "execution_count": 276,
   "metadata": {
    "ExecuteTime": {
     "end_time": "2020-04-12T19:22:53.727520Z",
     "start_time": "2020-04-12T19:22:53.189751Z"
    }
   },
   "outputs": [
    {
     "name": "stdout",
     "output_type": "stream",
     "text": [
      "lstm shape: (None, 350, 22)\n"
     ]
    }
   ],
   "source": [
    "model = get_model(model_class=ParagraphEncoding)\n",
    "# model = get_model()"
   ]
  },
  {
   "cell_type": "code",
   "execution_count": 277,
   "metadata": {
    "ExecuteTime": {
     "end_time": "2020-04-12T19:22:54.696344Z",
     "start_time": "2020-04-12T19:22:54.694166Z"
    }
   },
   "outputs": [],
   "source": [
    "# test_sent = test_sent.reshape(1, test_sent.shape[0], test_sent.shape[1])"
   ]
  },
  {
   "cell_type": "code",
   "execution_count": 278,
   "metadata": {
    "ExecuteTime": {
     "end_time": "2020-04-12T19:22:55.632608Z",
     "start_time": "2020-04-12T19:22:55.628928Z"
    }
   },
   "outputs": [
    {
     "data": {
      "text/plain": [
       "(3, 7680)"
      ]
     },
     "execution_count": 278,
     "metadata": {},
     "output_type": "execute_result"
    }
   ],
   "source": [
    "question.shape"
   ]
  },
  {
   "cell_type": "code",
   "execution_count": 279,
   "metadata": {
    "ExecuteTime": {
     "end_time": "2020-04-12T19:22:58.910190Z",
     "start_time": "2020-04-12T19:22:58.501326Z"
    }
   },
   "outputs": [
    {
     "name": "stdout",
     "output_type": "stream",
     "text": [
      "lstm shape: (3, 350, 22)\n"
     ]
    }
   ],
   "source": [
    "t = model.__call__(inputs)\n",
    "# t = model.__call__(question.reshape([3, 30, 256]))"
   ]
  },
  {
   "cell_type": "code",
   "execution_count": 280,
   "metadata": {
    "ExecuteTime": {
     "end_time": "2020-04-12T19:22:59.009753Z",
     "start_time": "2020-04-12T19:22:59.002717Z"
    }
   },
   "outputs": [
    {
     "data": {
      "text/plain": [
       "TensorShape([3, 350, 22])"
      ]
     },
     "execution_count": 280,
     "metadata": {},
     "output_type": "execute_result"
    }
   ],
   "source": [
    "t.shape"
   ]
  },
  {
   "cell_type": "code",
   "execution_count": 234,
   "metadata": {
    "ExecuteTime": {
     "end_time": "2020-04-12T17:20:13.616781Z",
     "start_time": "2020-04-12T17:20:13.612102Z"
    }
   },
   "outputs": [
    {
     "name": "stdout",
     "output_type": "stream",
     "text": [
      "Model: \"paragraph_encoding_16\"\n",
      "_________________________________________________________________\n",
      "Layer (type)                 Output Shape              Param #   \n",
      "=================================================================\n",
      "dense_17 (Dense)             multiple                  512       \n",
      "_________________________________________________________________\n",
      "lstm_1 (LSTM)                multiple                  23672     \n",
      "=================================================================\n",
      "Total params: 24,184\n",
      "Trainable params: 24,184\n",
      "Non-trainable params: 0\n",
      "_________________________________________________________________\n"
     ]
    }
   ],
   "source": [
    "model.summary()"
   ]
  },
  {
   "cell_type": "code",
   "execution_count": null,
   "metadata": {},
   "outputs": [],
   "source": []
  },
  {
   "cell_type": "code",
   "execution_count": 148,
   "metadata": {
    "ExecuteTime": {
     "end_time": "2020-04-12T17:03:55.155348Z",
     "start_time": "2020-04-12T17:03:55.149357Z"
    }
   },
   "outputs": [],
   "source": [
    "\n",
    "a = tf.convert_to_tensor(np.random.random([16, 350, 30]))\n",
    "q = tf.convert_to_tensor(np.random.random([16, 30, 256]))\n"
   ]
  },
  {
   "cell_type": "code",
   "execution_count": 518,
   "metadata": {
    "ExecuteTime": {
     "end_time": "2020-04-12T16:33:13.975883Z",
     "start_time": "2020-04-12T16:33:13.951842Z"
    }
   },
   "outputs": [
    {
     "data": {
      "text/plain": [
       "<tf.Tensor: shape=(3, 4), dtype=int64, numpy=\n",
       "array([[ 1,  3,  5,  7],\n",
       "       [ 3,  9, 15, 21],\n",
       "       [ 5, 15, 25, 35]])>"
      ]
     },
     "execution_count": 518,
     "metadata": {},
     "output_type": "execute_result"
    }
   ],
   "source": [
    "tf.matmul(\n",
    "    tf.expand_dims(a[:, 0], 1),\n",
    "    tf.expand_dims(b[:, 0], 0))"
   ]
  },
  {
   "cell_type": "code",
   "execution_count": 519,
   "metadata": {
    "ExecuteTime": {
     "end_time": "2020-04-12T16:33:22.702140Z",
     "start_time": "2020-04-12T16:33:22.697121Z"
    }
   },
   "outputs": [
    {
     "data": {
      "text/plain": [
       "<tf.Tensor: shape=(3, 4), dtype=int64, numpy=\n",
       "array([[ 4,  8, 12, 16],\n",
       "       [ 8, 16, 24, 32],\n",
       "       [12, 24, 36, 48]])>"
      ]
     },
     "execution_count": 519,
     "metadata": {},
     "output_type": "execute_result"
    }
   ],
   "source": [
    "tf.matmul(\n",
    "    tf.expand_dims(a[:, 1], 1),\n",
    "    tf.expand_dims(b[:, 1], 0))"
   ]
  },
  {
   "cell_type": "code",
   "execution_count": 500,
   "metadata": {
    "ExecuteTime": {
     "end_time": "2020-04-12T16:15:24.381062Z",
     "start_time": "2020-04-12T16:15:24.377562Z"
    }
   },
   "outputs": [
    {
     "name": "stdout",
     "output_type": "stream",
     "text": [
      "(16, 2, 350, 1) (16, 2, 1, 30)\n"
     ]
    }
   ],
   "source": [
    "a = tf.expand_dims(a, 3)\n",
    "b = tf.expand_dims(b, 2)\n",
    "print(a.shape, b.shape)"
   ]
  },
  {
   "cell_type": "code",
   "execution_count": 502,
   "metadata": {
    "ExecuteTime": {
     "end_time": "2020-04-12T16:15:45.204175Z",
     "start_time": "2020-04-12T16:15:45.199241Z"
    }
   },
   "outputs": [
    {
     "data": {
      "text/plain": [
       "TensorShape([16, 2, 350, 30])"
      ]
     },
     "execution_count": 502,
     "metadata": {},
     "output_type": "execute_result"
    }
   ],
   "source": [
    "tf.matmul(a, b).shape"
   ]
  },
  {
   "cell_type": "code",
   "execution_count": 506,
   "metadata": {
    "ExecuteTime": {
     "end_time": "2020-04-12T16:19:10.868932Z",
     "start_time": "2020-04-12T16:19:10.840504Z"
    }
   },
   "outputs": [
    {
     "ename": "InvalidArgumentError",
     "evalue": "Matrix size-incompatible: In[0]: [11200,1], In[1]: [16,60] [Op:MatMul]",
     "output_type": "error",
     "traceback": [
      "\u001b[0;31m---------------------------------------------------------------------------\u001b[0m",
      "\u001b[0;31mInvalidArgumentError\u001b[0m                      Traceback (most recent call last)",
      "\u001b[0;32m<ipython-input-506-db68501446c4>\u001b[0m in \u001b[0;36m<module>\u001b[0;34m\u001b[0m\n\u001b[0;32m----> 1\u001b[0;31m \u001b[0mtf\u001b[0m\u001b[0;34m.\u001b[0m\u001b[0mtensordot\u001b[0m\u001b[0;34m(\u001b[0m\u001b[0ma\u001b[0m\u001b[0;34m,\u001b[0m \u001b[0mb\u001b[0m\u001b[0;34m,\u001b[0m \u001b[0maxes\u001b[0m\u001b[0;34m=\u001b[0m\u001b[0;36m1\u001b[0m\u001b[0;34m)\u001b[0m\u001b[0;34m.\u001b[0m\u001b[0mshape\u001b[0m\u001b[0;34m\u001b[0m\u001b[0;34m\u001b[0m\u001b[0m\n\u001b[0m",
      "\u001b[0;32m~/repo/mipt-nlp2020/nlpenv/lib/python3.8/site-packages/tensorflow/python/ops/math_ops.py\u001b[0m in \u001b[0;36mtensordot\u001b[0;34m(a, b, axes, name)\u001b[0m\n\u001b[1;32m   4344\u001b[0m     b_reshape, b_free_dims, b_free_dims_static = _tensordot_reshape(\n\u001b[1;32m   4345\u001b[0m         b, b_axes, True)\n\u001b[0;32m-> 4346\u001b[0;31m     \u001b[0mab_matmul\u001b[0m \u001b[0;34m=\u001b[0m \u001b[0mmatmul\u001b[0m\u001b[0;34m(\u001b[0m\u001b[0ma_reshape\u001b[0m\u001b[0;34m,\u001b[0m \u001b[0mb_reshape\u001b[0m\u001b[0;34m)\u001b[0m\u001b[0;34m\u001b[0m\u001b[0;34m\u001b[0m\u001b[0m\n\u001b[0m\u001b[1;32m   4347\u001b[0m     \u001b[0;32mif\u001b[0m \u001b[0misinstance\u001b[0m\u001b[0;34m(\u001b[0m\u001b[0ma_free_dims\u001b[0m\u001b[0;34m,\u001b[0m \u001b[0mlist\u001b[0m\u001b[0;34m)\u001b[0m \u001b[0;32mand\u001b[0m \u001b[0misinstance\u001b[0m\u001b[0;34m(\u001b[0m\u001b[0mb_free_dims\u001b[0m\u001b[0;34m,\u001b[0m \u001b[0mlist\u001b[0m\u001b[0;34m)\u001b[0m\u001b[0;34m:\u001b[0m\u001b[0;34m\u001b[0m\u001b[0;34m\u001b[0m\u001b[0m\n\u001b[1;32m   4348\u001b[0m       if (ab_matmul.get_shape().is_fully_defined() and\n",
      "\u001b[0;32m~/repo/mipt-nlp2020/nlpenv/lib/python3.8/site-packages/tensorflow/python/util/dispatch.py\u001b[0m in \u001b[0;36mwrapper\u001b[0;34m(*args, **kwargs)\u001b[0m\n\u001b[1;32m    178\u001b[0m     \u001b[0;34m\"\"\"Call target, and fall back on dispatchers if there is a TypeError.\"\"\"\u001b[0m\u001b[0;34m\u001b[0m\u001b[0;34m\u001b[0m\u001b[0m\n\u001b[1;32m    179\u001b[0m     \u001b[0;32mtry\u001b[0m\u001b[0;34m:\u001b[0m\u001b[0;34m\u001b[0m\u001b[0;34m\u001b[0m\u001b[0m\n\u001b[0;32m--> 180\u001b[0;31m       \u001b[0;32mreturn\u001b[0m \u001b[0mtarget\u001b[0m\u001b[0;34m(\u001b[0m\u001b[0;34m*\u001b[0m\u001b[0margs\u001b[0m\u001b[0;34m,\u001b[0m \u001b[0;34m**\u001b[0m\u001b[0mkwargs\u001b[0m\u001b[0;34m)\u001b[0m\u001b[0;34m\u001b[0m\u001b[0;34m\u001b[0m\u001b[0m\n\u001b[0m\u001b[1;32m    181\u001b[0m     \u001b[0;32mexcept\u001b[0m \u001b[0;34m(\u001b[0m\u001b[0mTypeError\u001b[0m\u001b[0;34m,\u001b[0m \u001b[0mValueError\u001b[0m\u001b[0;34m)\u001b[0m\u001b[0;34m:\u001b[0m\u001b[0;34m\u001b[0m\u001b[0;34m\u001b[0m\u001b[0m\n\u001b[1;32m    182\u001b[0m       \u001b[0;31m# Note: convert_to_eager_tensor currently raises a ValueError, not a\u001b[0m\u001b[0;34m\u001b[0m\u001b[0;34m\u001b[0m\u001b[0;34m\u001b[0m\u001b[0m\n",
      "\u001b[0;32m~/repo/mipt-nlp2020/nlpenv/lib/python3.8/site-packages/tensorflow/python/ops/math_ops.py\u001b[0m in \u001b[0;36mmatmul\u001b[0;34m(a, b, transpose_a, transpose_b, adjoint_a, adjoint_b, a_is_sparse, b_is_sparse, name)\u001b[0m\n\u001b[1;32m   2981\u001b[0m       \u001b[0;32mreturn\u001b[0m \u001b[0mret\u001b[0m\u001b[0;34m\u001b[0m\u001b[0;34m\u001b[0m\u001b[0m\n\u001b[1;32m   2982\u001b[0m     \u001b[0;32melse\u001b[0m\u001b[0;34m:\u001b[0m\u001b[0;34m\u001b[0m\u001b[0;34m\u001b[0m\u001b[0m\n\u001b[0;32m-> 2983\u001b[0;31m       return gen_math_ops.mat_mul(\n\u001b[0m\u001b[1;32m   2984\u001b[0m           a, b, transpose_a=transpose_a, transpose_b=transpose_b, name=name)\n\u001b[1;32m   2985\u001b[0m \u001b[0;34m\u001b[0m\u001b[0m\n",
      "\u001b[0;32m~/repo/mipt-nlp2020/nlpenv/lib/python3.8/site-packages/tensorflow/python/ops/gen_math_ops.py\u001b[0m in \u001b[0;36mmat_mul\u001b[0;34m(a, b, transpose_a, transpose_b, name)\u001b[0m\n\u001b[1;32m   5575\u001b[0m         \u001b[0;32mpass\u001b[0m  \u001b[0;31m# Add nodes to the TensorFlow graph.\u001b[0m\u001b[0;34m\u001b[0m\u001b[0;34m\u001b[0m\u001b[0m\n\u001b[1;32m   5576\u001b[0m     \u001b[0;32mexcept\u001b[0m \u001b[0m_core\u001b[0m\u001b[0;34m.\u001b[0m\u001b[0m_NotOkStatusException\u001b[0m \u001b[0;32mas\u001b[0m \u001b[0me\u001b[0m\u001b[0;34m:\u001b[0m\u001b[0;34m\u001b[0m\u001b[0;34m\u001b[0m\u001b[0m\n\u001b[0;32m-> 5577\u001b[0;31m       \u001b[0m_ops\u001b[0m\u001b[0;34m.\u001b[0m\u001b[0mraise_from_not_ok_status\u001b[0m\u001b[0;34m(\u001b[0m\u001b[0me\u001b[0m\u001b[0;34m,\u001b[0m \u001b[0mname\u001b[0m\u001b[0;34m)\u001b[0m\u001b[0;34m\u001b[0m\u001b[0;34m\u001b[0m\u001b[0m\n\u001b[0m\u001b[1;32m   5578\u001b[0m   \u001b[0;31m# Add nodes to the TensorFlow graph.\u001b[0m\u001b[0;34m\u001b[0m\u001b[0;34m\u001b[0m\u001b[0;34m\u001b[0m\u001b[0m\n\u001b[1;32m   5579\u001b[0m   \u001b[0;32mif\u001b[0m \u001b[0mtranspose_a\u001b[0m \u001b[0;32mis\u001b[0m \u001b[0;32mNone\u001b[0m\u001b[0;34m:\u001b[0m\u001b[0;34m\u001b[0m\u001b[0;34m\u001b[0m\u001b[0m\n",
      "\u001b[0;32m~/repo/mipt-nlp2020/nlpenv/lib/python3.8/site-packages/tensorflow/python/framework/ops.py\u001b[0m in \u001b[0;36mraise_from_not_ok_status\u001b[0;34m(e, name)\u001b[0m\n\u001b[1;32m   6651\u001b[0m   \u001b[0mmessage\u001b[0m \u001b[0;34m=\u001b[0m \u001b[0me\u001b[0m\u001b[0;34m.\u001b[0m\u001b[0mmessage\u001b[0m \u001b[0;34m+\u001b[0m \u001b[0;34m(\u001b[0m\u001b[0;34m\" name: \"\u001b[0m \u001b[0;34m+\u001b[0m \u001b[0mname\u001b[0m \u001b[0;32mif\u001b[0m \u001b[0mname\u001b[0m \u001b[0;32mis\u001b[0m \u001b[0;32mnot\u001b[0m \u001b[0;32mNone\u001b[0m \u001b[0;32melse\u001b[0m \u001b[0;34m\"\"\u001b[0m\u001b[0;34m)\u001b[0m\u001b[0;34m\u001b[0m\u001b[0;34m\u001b[0m\u001b[0m\n\u001b[1;32m   6652\u001b[0m   \u001b[0;31m# pylint: disable=protected-access\u001b[0m\u001b[0;34m\u001b[0m\u001b[0;34m\u001b[0m\u001b[0;34m\u001b[0m\u001b[0m\n\u001b[0;32m-> 6653\u001b[0;31m   \u001b[0msix\u001b[0m\u001b[0;34m.\u001b[0m\u001b[0mraise_from\u001b[0m\u001b[0;34m(\u001b[0m\u001b[0mcore\u001b[0m\u001b[0;34m.\u001b[0m\u001b[0m_status_to_exception\u001b[0m\u001b[0;34m(\u001b[0m\u001b[0me\u001b[0m\u001b[0;34m.\u001b[0m\u001b[0mcode\u001b[0m\u001b[0;34m,\u001b[0m \u001b[0mmessage\u001b[0m\u001b[0;34m)\u001b[0m\u001b[0;34m,\u001b[0m \u001b[0;32mNone\u001b[0m\u001b[0;34m)\u001b[0m\u001b[0;34m\u001b[0m\u001b[0;34m\u001b[0m\u001b[0m\n\u001b[0m\u001b[1;32m   6654\u001b[0m   \u001b[0;31m# pylint: enable=protected-access\u001b[0m\u001b[0;34m\u001b[0m\u001b[0;34m\u001b[0m\u001b[0;34m\u001b[0m\u001b[0m\n\u001b[1;32m   6655\u001b[0m \u001b[0;34m\u001b[0m\u001b[0m\n",
      "\u001b[0;32m~/repo/mipt-nlp2020/nlpenv/lib/python3.8/site-packages/six.py\u001b[0m in \u001b[0;36mraise_from\u001b[0;34m(value, from_value)\u001b[0m\n",
      "\u001b[0;31mInvalidArgumentError\u001b[0m: Matrix size-incompatible: In[0]: [11200,1], In[1]: [16,60] [Op:MatMul]"
     ]
    }
   ],
   "source": [
    "tf.tensordot(a, b, axes=1).shape"
   ]
  },
  {
   "cell_type": "code",
   "execution_count": null,
   "metadata": {},
   "outputs": [],
   "source": []
  }
 ],
 "metadata": {
  "celltoolbar": "Initialization Cell",
  "kernelspec": {
   "display_name": "venv",
   "language": "python",
   "name": "venv"
  },
  "language_info": {
   "codemirror_mode": {
    "name": "ipython",
    "version": 3
   },
   "file_extension": ".py",
   "mimetype": "text/x-python",
   "name": "python",
   "nbconvert_exporter": "python",
   "pygments_lexer": "ipython3",
   "version": "3.7.7"
  },
  "toc": {
   "base_numbering": 1,
   "nav_menu": {},
   "number_sections": true,
   "sideBar": true,
   "skip_h1_title": false,
   "title_cell": "Table of Contents",
   "title_sidebar": "Contents",
   "toc_cell": false,
   "toc_position": {
    "height": "calc(100% - 180px)",
    "left": "10px",
    "top": "150px",
    "width": "307.2px"
   },
   "toc_section_display": true,
   "toc_window_display": true
  }
 },
 "nbformat": 4,
 "nbformat_minor": 2
}
