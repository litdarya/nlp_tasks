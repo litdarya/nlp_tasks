{
 "cells": [
  {
   "cell_type": "markdown",
   "metadata": {},
   "source": [
    "# Домашнее задание 2\n",
    "## Yes/No Questions\n",
    "\n",
    "deadline: 16 апреля 2020 2019, 09:00\n",
    "\n",
    "В этом домашнем задании вы будете работать с корпусом BoolQ. Корпус состоит из вопросов, предполагающих бинарный ответ (да / нет), абзацев из Википедии,  содержащих ответ на вопрос, заголовка статьи, из которой извлечен абзац и непосредственно ответа (true / false).\n",
    "\n",
    "Корпус описан в статье:\n",
    "\n",
    "Christopher Clark, Kenton Lee, Ming-Wei Chang, Tom Kwiatkowski, Michael Collins, Kristina Toutanova\n",
    "BoolQ: Exploring the Surprising Difficulty of Natural Yes/No Questions\n",
    "\n",
    "https://arxiv.org/abs/1905.10044\n",
    "\n",
    "\n",
    "Корпус (train-dev split) доступен в репозитории проекта:  https://github.com/google-research-datasets/boolean-questions\n",
    "\n",
    "Используйте для обучения train часть корпуса, для валидации и тестирования – dev часть. \n",
    "\n",
    "Каждый бонус пункт оцениватся в 1 балл. "
   ]
  },
  {
   "cell_type": "markdown",
   "metadata": {},
   "source": [
    "### Пример вопроса: \n",
    "question: is batman and robin a sequel to batman forever\n",
    "\n",
    "title: Batman & Robin (film)\n",
    "\n",
    "answer: true\n",
    "\n",
    "passage: With the box office success of Batman Forever in June 1995, Warner Bros. immediately commissioned a sequel. They hired director Joel Schumacher and writer Akiva Goldsman to reprise their duties the following August, and decided it was best to fast track production for a June 1997 target release date, which is a break from the usual 3-year gap between films. Schumacher wanted to homage both the broad camp style of the 1960s television series and the work of Dick Sprang. The storyline of Batman & Robin was conceived by Schumacher and Goldsman during pre-production on A Time to Kill. Portions of Mr. Freeze's back-story were based on the Batman: The Animated Series episode ''Heart of Ice'', written by Paul Dini."
   ]
  },
  {
   "cell_type": "markdown",
   "metadata": {},
   "source": [
    "## ПРАВИЛА\n",
    "1. Домашнее задание выполняется в группе до 3-х человек.\n",
    "2. Домашнее задание сдается через anytask, инвайты будут дополнительно высланы.\n",
    "3. Домашнее задание оформляется в виде отчета либо в .pdf файле, либо ipython-тетрадке. \n",
    "4. Отчет должен содержать: нумерацию заданий и пунктов, которые вы выполнили, код решения, и понятное пошаговое описание того, что вы сделали. Отчет должен быть написан в академическом стиле, без излишнего использования сленга и с соблюдением норм русского языка.\n",
    "5. Не стоит копировать фрагменты лекций, статей и Википедии в ваш отчет.\n",
    "6. Отчеты, состоящие исключительно из кода, не будут проверены и будут автоматически оценены нулевой оценкой.\n",
    "7. Плагиат и любое недобросоветсное цитирование приводит к обнуление оценки. "
   ]
  },
  {
   "cell_type": "markdown",
   "metadata": {},
   "source": [
    "## Часть 1. [1 балл] Эксплоративный анализ\n",
    "1. Посчитайте долю yes и no классов в корпусе\n",
    "2. Оцените среднюю длину вопроса\n",
    "3. Оцените среднюю длину параграфа\n",
    "4. Предположите, по каким эвристикам были собраны вопросы (или найдите ответ в статье). Продемонстриуйте, как эти эвристики повлияли на структуру корпуса. "
   ]
  },
  {
   "cell_type": "markdown",
   "metadata": {},
   "source": [
    "## Часть 2. [1 балл] Baseline\n",
    "1. Оцените accuracy точность совсем простого базового решения: присвоить каждой паре вопрос-ответ в dev части самый частый класс из train части\n",
    "2. Оцените accuracy чуть более сложного базового решения: fasttext на текстах, состоящих из склееных вопросов и абзацев (' '.join([question, passage]))\n",
    "\n",
    "Почему fasttext плохо справляется с этой задачей?"
   ]
  },
  {
   "cell_type": "markdown",
   "metadata": {},
   "source": [
    "## Часть 3. [1 балл] Используем эмбеддинги предложений\n",
    "1. Постройте BERT эмбеддинги вопроса и абзаца. Обучите логистическую регрессию на конкатенированных эмбеддингах вопроса и абзаца и оцените accuracy этого решения. \n",
    "\n",
    "[bonus] Используйте другие модели эмбеддингов, доступные, например, в библиотеке 🤗 Transformers. Какая модель эмбеддингов даст лучшие результаты?\n",
    "\n",
    "[bonus] Предложите метод аугментации данных и продемонстрируйте его эффективность. "
   ]
  },
  {
   "cell_type": "markdown",
   "metadata": {},
   "source": [
    "## Часть 3. [3 балла] DrQA-подобная архитектура\n",
    "\n",
    "Основана на статье: Reading Wikipedia to Answer Open-Domain Questions\n",
    "\n",
    "Danqi Chen, Adam Fisch, Jason Weston, Antoine Bordes\n",
    "\n",
    "https://arxiv.org/abs/1704.00051\n",
    "\n",
    "Архитектура DrQA предложена для задачи SQuAD, но легко может быть адаптирована к текущему заданию. Модель состоит из следующих блоков:\n",
    "1. Кодировщик абзаца [paragraph encoding] – LSTM, получаящая на вход вектора слов, состоящие из: \n",
    "* эмбеддинга слова (w2v или fasttext)\n",
    "* дополнительных признаков-индикаторов, кодирующих в виде one-hot векторов часть речи слова, является ли оно именованной сущностью или нет, встречается ли слово в вопросе или нет \n",
    "* выровненного эмбеддинга вопроса, получаемого с использованием soft attention между эмбеддингами слов из абзаца и эмбеддингом вопроса.\n",
    "\n",
    "$f_{align}(p_i) = \\sum_j􏰂 a_{i,j} E(q_j)$, где $E(q_j)$ – эмбеддинг слова из вопроса. Формула для $a_{i,j}$ приведена в статье. \n",
    "\n",
    "2. Кодировщик вопроса [question encoding] – LSTM, получаящая на вход эмбеддинги слов из вопроса. Выход кодировщика: $q = 􏰂\\sum_j􏰂  b_j q_j$. Формула для $b_{j}$ приведена в статье. \n",
    "\n",
    "3. Слой предсказания. \n",
    "\n",
    "Предложите, как можно было модифицировать последний слой предсказания в архитектуре DrQA, с учетом того, что итоговое предсказание – это метка yes / no, предсказание которой проще, чем предсказание спана ответа для SQuAD.\n",
    "\n",
    "Оцените качество этой модели для решения задачи. \n",
    "\n",
    "[bonus] Замените входные эмбеддинги и все дополнительные признаки, используемые кодировщиками, на BERT эмбеддинги. Улучшит ли это качество результатов?"
   ]
  },
  {
   "cell_type": "markdown",
   "metadata": {},
   "source": [
    "## Часть 4. [3 балла] BiDAF-подобная архитектура\n",
    "\n",
    "Основана на статье: Bidirectional Attention Flow for Machine Comprehension\n",
    "\n",
    "Minjoon Seo, Aniruddha Kembhavi, Ali Farhadi, Hannaneh Hajishirzi\n",
    "\n",
    "https://arxiv.org/abs/1611.01603\n",
    "\n",
    "Архитектура BiDAF предложена для задачи SQuAD, но легко может быть адаптирована к текущему заданию. Модель состоит из следующих блоков:\n",
    "1. Кодировщик  получает на вход два представления слова: эмбеддинг слова и полученное из CNN посимвольное представление слова. Кодировщики для вопроса и для параграфа одинаковы. \n",
    "2. Слой внимания (детальное описание приведено в статье, см. пункт Attention Flow Layer)\n",
    "3. Промежуточный слой, который получает на вход контекстуализированные эмбеддинги слов из параграфа, состоящие из трех частей (выход кодировщика параграфа,   Query2Context (один вектор) и Context2Query (матрица) выравнивания\n",
    "\n",
    "4. Слой предсказания. \n",
    "\n",
    "Предложите, как можно было модифицировать последний слой предсказания в архитектуре BiDAF, с учетом того, что итоговое предсказание – это метка yes / no, предсказание которой проще, чем предсказание спана ответа для SQuAD.\n",
    "\n",
    "Оцените качество этой модели для решения задачи. \n",
    "\n",
    "[bonus] Замените входные эмбеддинги и все дополнительные признаки, используемые кодировщиками, на BERT эмбеддинги. Улучшит ли это качество результатов?"
   ]
  },
  {
   "cell_type": "markdown",
   "metadata": {},
   "source": [
    "Сравнение DrQA и BiDAF:\n",
    "    \n",
    "![](https://www.researchgate.net/profile/Felix_Wu6/publication/321069852/figure/fig1/AS:560800147881984@1510716582560/Schematic-layouts-of-the-BiDAF-left-and-DrQA-right-architectures-We-propose-to.png)"
   ]
  },
  {
   "cell_type": "markdown",
   "metadata": {},
   "source": [
    "## Часть 5. [1 балл] Итоги\n",
    "Напишите краткое резюме проделанной работы. Сравните результаты всех разработанных моделей. Что помогло вам в выполнении работы, чего не хватало?"
   ]
  },
  {
   "cell_type": "markdown",
   "metadata": {},
   "source": [
    "# Задание"
   ]
  },
  {
   "cell_type": "markdown",
   "metadata": {},
   "source": [
    "## Скачиваем данные"
   ]
  },
  {
   "cell_type": "code",
   "execution_count": 132,
   "metadata": {
    "ExecuteTime": {
     "end_time": "2020-04-12T21:09:17.031377Z",
     "start_time": "2020-04-12T21:09:17.027864Z"
    },
    "init_cell": true
   },
   "outputs": [],
   "source": [
    "import numpy as np\n",
    "import pandas as pd\n",
    "import json\n",
    "from sklearn.model_selection import train_test_split\n",
    "from typing import Tuple, List, Union, Dict, Iterable\n",
    "import seaborn as sns\n",
    "import matplotlib.pyplot as plt\n",
    "from scipy import stats\n",
    "\n",
    "N_THREADS = 56"
   ]
  },
  {
   "cell_type": "code",
   "execution_count": 5,
   "metadata": {
    "ExecuteTime": {
     "end_time": "2020-04-05T11:58:57.120103Z",
     "start_time": "2020-04-05T11:58:57.114411Z"
    }
   },
   "outputs": [],
   "source": [
    "def read_jsonl(path: str) -> pd.DataFrame:\n",
    "    df = pd.DataFrame(columns=['question', 'title', 'answer', 'passage'])\n",
    "    \n",
    "    with open(path, 'r') as f:\n",
    "        for line in f:\n",
    "            line_dict = json.loads(line.strip())\n",
    "            df = df.append(line_dict, ignore_index=True)\n",
    "\n",
    "    return df"
   ]
  },
  {
   "cell_type": "code",
   "execution_count": 6,
   "metadata": {
    "ExecuteTime": {
     "end_time": "2020-04-05T11:59:34.692067Z",
     "start_time": "2020-04-05T11:59:07.380171Z"
    }
   },
   "outputs": [],
   "source": [
    "# train_df = read_jsonl('train.jsonl')"
   ]
  },
  {
   "cell_type": "code",
   "execution_count": 7,
   "metadata": {
    "ExecuteTime": {
     "end_time": "2020-04-05T12:13:13.006179Z",
     "start_time": "2020-04-05T12:13:13.002987Z"
    }
   },
   "outputs": [],
   "source": [
    "# dev_df = read_jsonl('dev.jsonl')"
   ]
  },
  {
   "cell_type": "code",
   "execution_count": 9,
   "metadata": {
    "ExecuteTime": {
     "end_time": "2020-04-05T12:12:52.068675Z",
     "start_time": "2020-04-05T12:12:52.055793Z"
    }
   },
   "outputs": [],
   "source": [
    "# dev, test = train_test_split(dev_df, random_state=42, test_size=0.33, stratify=dev_df['answer'])"
   ]
  },
  {
   "cell_type": "code",
   "execution_count": 10,
   "metadata": {
    "ExecuteTime": {
     "end_time": "2020-04-05T12:12:58.897336Z",
     "start_time": "2020-04-05T12:12:58.645383Z"
    }
   },
   "outputs": [],
   "source": [
    "# train_df.to_csv('train.csv')\n",
    "# dev.to_csv('dev_split.csv')\n",
    "# test.to_csv('test.csv')"
   ]
  },
  {
   "cell_type": "markdown",
   "metadata": {},
   "source": [
    "Сразу разделили dev на dev и test, чтобы сравнивать все модели на одинаковых данных."
   ]
  },
  {
   "cell_type": "code",
   "execution_count": 133,
   "metadata": {
    "ExecuteTime": {
     "end_time": "2020-04-12T21:50:21.133623Z",
     "start_time": "2020-04-12T21:50:21.057963Z"
    },
    "init_cell": true
   },
   "outputs": [],
   "source": [
    "train_df = pd.read_csv('train.csv', index_col=0)\n",
    "dev_df = pd.read_csv('dev_split.csv', index_col=0)\n",
    "test_df = pd.read_csv('test.csv', index_col=0)"
   ]
  },
  {
   "cell_type": "code",
   "execution_count": 12,
   "metadata": {
    "ExecuteTime": {
     "end_time": "2020-04-05T12:13:19.106508Z",
     "start_time": "2020-04-05T12:13:19.095555Z"
    }
   },
   "outputs": [
    {
     "data": {
      "text/html": [
       "<div>\n",
       "<style scoped>\n",
       "    .dataframe tbody tr th:only-of-type {\n",
       "        vertical-align: middle;\n",
       "    }\n",
       "\n",
       "    .dataframe tbody tr th {\n",
       "        vertical-align: top;\n",
       "    }\n",
       "\n",
       "    .dataframe thead th {\n",
       "        text-align: right;\n",
       "    }\n",
       "</style>\n",
       "<table border=\"1\" class=\"dataframe\">\n",
       "  <thead>\n",
       "    <tr style=\"text-align: right;\">\n",
       "      <th></th>\n",
       "      <th>question</th>\n",
       "      <th>title</th>\n",
       "      <th>answer</th>\n",
       "      <th>passage</th>\n",
       "    </tr>\n",
       "  </thead>\n",
       "  <tbody>\n",
       "    <tr>\n",
       "      <th>0</th>\n",
       "      <td>do iran and afghanistan speak the same language</td>\n",
       "      <td>Persian language</td>\n",
       "      <td>True</td>\n",
       "      <td>Persian (/ˈpɜːrʒən, -ʃən/), also known by its ...</td>\n",
       "    </tr>\n",
       "    <tr>\n",
       "      <th>1</th>\n",
       "      <td>do good samaritan laws protect those who help ...</td>\n",
       "      <td>Good Samaritan law</td>\n",
       "      <td>True</td>\n",
       "      <td>Good Samaritan laws offer legal protection to ...</td>\n",
       "    </tr>\n",
       "    <tr>\n",
       "      <th>2</th>\n",
       "      <td>is windows movie maker part of windows essentials</td>\n",
       "      <td>Windows Movie Maker</td>\n",
       "      <td>True</td>\n",
       "      <td>Windows Movie Maker (formerly known as Windows...</td>\n",
       "    </tr>\n",
       "    <tr>\n",
       "      <th>3</th>\n",
       "      <td>is confectionary sugar the same as powdered sugar</td>\n",
       "      <td>Powdered sugar</td>\n",
       "      <td>True</td>\n",
       "      <td>Powdered sugar, also called confectioners' sug...</td>\n",
       "    </tr>\n",
       "    <tr>\n",
       "      <th>4</th>\n",
       "      <td>is elder scrolls online the same as skyrim</td>\n",
       "      <td>The Elder Scrolls Online</td>\n",
       "      <td>False</td>\n",
       "      <td>As with other games in The Elder Scrolls serie...</td>\n",
       "    </tr>\n",
       "  </tbody>\n",
       "</table>\n",
       "</div>"
      ],
      "text/plain": [
       "                                            question  \\\n",
       "0    do iran and afghanistan speak the same language   \n",
       "1  do good samaritan laws protect those who help ...   \n",
       "2  is windows movie maker part of windows essentials   \n",
       "3  is confectionary sugar the same as powdered sugar   \n",
       "4         is elder scrolls online the same as skyrim   \n",
       "\n",
       "                      title  answer  \\\n",
       "0          Persian language    True   \n",
       "1        Good Samaritan law    True   \n",
       "2       Windows Movie Maker    True   \n",
       "3            Powdered sugar    True   \n",
       "4  The Elder Scrolls Online   False   \n",
       "\n",
       "                                             passage  \n",
       "0  Persian (/ˈpɜːrʒən, -ʃən/), also known by its ...  \n",
       "1  Good Samaritan laws offer legal protection to ...  \n",
       "2  Windows Movie Maker (formerly known as Windows...  \n",
       "3  Powdered sugar, also called confectioners' sug...  \n",
       "4  As with other games in The Elder Scrolls serie...  "
      ]
     },
     "execution_count": 12,
     "metadata": {},
     "output_type": "execute_result"
    }
   ],
   "source": [
    "train_df.head()"
   ]
  },
  {
   "cell_type": "markdown",
   "metadata": {},
   "source": [
    "## Часть 1. [1 балл] Эксплоративный анализ"
   ]
  },
  {
   "cell_type": "markdown",
   "metadata": {},
   "source": [
    "### Посчитайте долю yes и no классов в корпусе"
   ]
  },
  {
   "cell_type": "code",
   "execution_count": 13,
   "metadata": {
    "ExecuteTime": {
     "end_time": "2020-04-05T12:15:38.155502Z",
     "start_time": "2020-04-05T12:15:38.149570Z"
    }
   },
   "outputs": [],
   "source": [
    "def calc_true_false_rate(df: pd.DataFrame, heading: str) -> Tuple[float, float]:\n",
    "    n = len(df)\n",
    "    true_cnt = len(df[df['answer'] == True])\n",
    "    false_cnt = n - true_cnt\n",
    "    print(f'{heading}: true_rate = {true_cnt / n}, false_cnt = {false_cnt / n}')\n",
    "    return true_cnt / n, false_cnt / n"
   ]
  },
  {
   "cell_type": "code",
   "execution_count": 14,
   "metadata": {
    "ExecuteTime": {
     "end_time": "2020-04-05T12:15:38.833806Z",
     "start_time": "2020-04-05T12:15:38.825952Z"
    }
   },
   "outputs": [
    {
     "name": "stdout",
     "output_type": "stream",
     "text": [
      "train_df: true_rate = 0.6231038506417736, false_cnt = 0.37689614935822635\n",
      "dev_df: true_rate = 0.6219178082191781, false_cnt = 0.3780821917808219\n",
      "test_df: true_rate = 0.6212962962962963, false_cnt = 0.3787037037037037\n"
     ]
    }
   ],
   "source": [
    "true_rate, false_rate = calc_true_false_rate(train_df, heading='train_df')\n",
    "_ = calc_true_false_rate(dev_df, heading='dev_df')\n",
    "_ = calc_true_false_rate(test_df, heading='test_df')"
   ]
  },
  {
   "cell_type": "markdown",
   "metadata": {},
   "source": [
    "**yes встречается примерно в 1.5 раза чаще, чем no**"
   ]
  },
  {
   "cell_type": "markdown",
   "metadata": {},
   "source": [
    "### Оцените среднюю длину вопроса"
   ]
  },
  {
   "cell_type": "code",
   "execution_count": 15,
   "metadata": {
    "ExecuteTime": {
     "end_time": "2020-04-05T12:26:27.639896Z",
     "start_time": "2020-04-05T12:26:27.634564Z"
    }
   },
   "outputs": [],
   "source": [
    "def avg_column_len(column: Iterable[str], heading: str):\n",
    "    avg_len_sym = np.mean([len(q) for q in column])\n",
    "    avg_len_words = np.mean([len(q.split()) for q in column])\n",
    "    print(\n",
    "        f'{heading}: avg_len_words = {avg_len_words}, avg_len_symbols = {avg_len_sym}'\n",
    "    )"
   ]
  },
  {
   "cell_type": "code",
   "execution_count": 16,
   "metadata": {
    "ExecuteTime": {
     "end_time": "2020-04-05T12:26:28.090895Z",
     "start_time": "2020-04-05T12:26:28.073896Z"
    }
   },
   "outputs": [
    {
     "name": "stdout",
     "output_type": "stream",
     "text": [
      "train_df: avg_len_words = 8.815742017608995, avg_len_symbols = 43.99193805028111\n",
      "dev_df: avg_len_words = 8.695890410958905, avg_len_symbols = 43.20319634703196\n",
      "test_df: avg_len_words = 8.72962962962963, avg_len_symbols = 43.21296296296296\n"
     ]
    }
   ],
   "source": [
    "avg_column_len(train_df['question'], heading='train_df')\n",
    "avg_column_len(dev_df['question'], heading='dev_df')\n",
    "avg_column_len(test_df['question'], heading='test_df')"
   ]
  },
  {
   "cell_type": "markdown",
   "metadata": {},
   "source": [
    "**средняя длина вопроса примерно 9 cлов, 44 символа**"
   ]
  },
  {
   "cell_type": "markdown",
   "metadata": {},
   "source": [
    "### Оцените среднюю длину параграфа"
   ]
  },
  {
   "cell_type": "code",
   "execution_count": 17,
   "metadata": {
    "ExecuteTime": {
     "end_time": "2020-04-05T12:26:43.944645Z",
     "start_time": "2020-04-05T12:26:43.873565Z"
    }
   },
   "outputs": [
    {
     "name": "stdout",
     "output_type": "stream",
     "text": [
      "train_df: avg_len_words = 93.16580036066617, avg_len_symbols = 565.6130264134931\n",
      "dev_df: avg_len_words = 91.61232876712329, avg_len_symbols = 555.4438356164384\n",
      "test_df: avg_len_words = 93.30740740740741, avg_len_symbols = 566.3694444444444\n"
     ]
    }
   ],
   "source": [
    "avg_column_len(train_df['passage'], heading='train_df')\n",
    "avg_column_len(dev_df['passage'], heading='dev_df')\n",
    "avg_column_len(test_df['passage'], heading='test_df')"
   ]
  },
  {
   "cell_type": "markdown",
   "metadata": {},
   "source": [
    "**средняя длина параграфа примерно 93 cлова, 566 символов**"
   ]
  },
  {
   "cell_type": "markdown",
   "metadata": {},
   "source": [
    "### Предположите, по каким эвристикам были собраны вопросы (или найдите ответ в статье). Продемонстриуйте, как эти эвристики повлияли на структуру корпуса. "
   ]
  },
  {
   "cell_type": "code",
   "execution_count": 18,
   "metadata": {
    "ExecuteTime": {
     "end_time": "2020-04-05T14:40:31.368987Z",
     "start_time": "2020-04-05T14:40:31.108265Z"
    }
   },
   "outputs": [
    {
     "data": {
      "image/png": "[encoded data removed]",
      "text/plain": [
       "<Figure size 432x288 with 1 Axes>"
      ]
     },
     "metadata": {
      "needs_background": "light"
     },
     "output_type": "display_data"
    }
   ],
   "source": [
    "plt = sns.distplot([len(q.split()) for q in train_df['passage']], kde=False)\n",
    "plt.set_title('passage length [words] distribution')\n",
    "_ = plt.set_xlabel('passage length')"
   ]
  },
  {
   "cell_type": "code",
   "execution_count": 997,
   "metadata": {
    "ExecuteTime": {
     "end_time": "2020-04-05T14:41:07.267893Z",
     "start_time": "2020-04-05T14:41:07.043965Z"
    }
   },
   "outputs": [
    {
     "data": {
      "image/png": "[encoded data removed]",
      "text/plain": [
       "<Figure size 432x288 with 1 Axes>"
      ]
     },
     "metadata": {
      "needs_background": "light"
     },
     "output_type": "display_data"
    }
   ],
   "source": [
    "plt = sns.distplot([len(q.split()) for q in train_df['question']], kde=False)\n",
    "plt.set_title('question length [words] distribution')\n",
    "_ = plt.set_xlabel('question length')"
   ]
  },
  {
   "cell_type": "code",
   "execution_count": 1210,
   "metadata": {},
   "outputs": [
    {
     "data": {
      "image/png": "[encoded data removed]",
      "text/plain": [
       "<Figure size 432x288 with 1 Axes>"
      ]
     },
     "metadata": {
      "needs_background": "light"
     },
     "output_type": "display_data"
    }
   ],
   "source": [
    "plt = sns.distplot([len(q) for q in train_df['question']], kde=False)\n",
    "plt.set_title('question length [sym] distribution')\n",
    "_ = plt.set_xlabel('question length')"
   ]
  },
  {
   "cell_type": "code",
   "execution_count": 96,
   "metadata": {},
   "outputs": [],
   "source": [
    "MAX_LEN_QUEST_SYM = 90"
   ]
  },
  {
   "cell_type": "code",
   "execution_count": 1211,
   "metadata": {},
   "outputs": [
    {
     "data": {
      "image/png": "[encoded data removed]",
      "text/plain": [
       "<Figure size 432x288 with 1 Axes>"
      ]
     },
     "metadata": {
      "needs_background": "light"
     },
     "output_type": "display_data"
    }
   ],
   "source": [
    "plt = sns.distplot([len(q) for q in train_df['passage']], kde=False)\n",
    "plt.set_title('passage length [sym] distribution')\n",
    "_ = plt.set_xlabel('passage length')"
   ]
  },
  {
   "cell_type": "code",
   "execution_count": 95,
   "metadata": {},
   "outputs": [],
   "source": [
    "MAX_LEN_PASSAGE_SYM = 1000"
   ]
  },
  {
   "cell_type": "code",
   "execution_count": 1313,
   "metadata": {},
   "outputs": [
    {
     "data": {
      "image/png": "[encoded data removed]",
      "text/plain": [
       "<Figure size 432x288 with 1 Axes>"
      ]
     },
     "metadata": {
      "needs_background": "light"
     },
     "output_type": "display_data"
    }
   ],
   "source": [
    "question_words = sum(train_df['question'][:1000].apply(lambda q: q.split()).to_list(), [])\n",
    "passage_words = sum(train_df['passage'][:1000].apply(lambda p: p.split()).to_list(), [])\n",
    "words = (question_words + passage_words)[:1000]\n",
    "plt = sns.distplot([len(word) for word in question_words + passage_words], kde=False)\n",
    "plt.set_title('word length [symbols] distribution')\n",
    "_ = plt.set_xlabel('question length')"
   ]
  },
  {
   "cell_type": "code",
   "execution_count": 94,
   "metadata": {},
   "outputs": [],
   "source": [
    "MAX_WORD_LEN_SYM = 15"
   ]
  },
  {
   "cell_type": "markdown",
   "metadata": {},
   "source": [
    "В статье написано, что вопросы собирались из гугл запросов пользователей. Из всех запросов отбирались те, которые начинались со слов-индикаторов (did, do, does, is,.. etc), и были достаточного размера, также в первых пяти результатах поисковика была википедия. Затем разметчики отбирали \"хорошие\" вопросы (понятные, однозначные, про факты).\n",
    "\n",
    "\n",
    "Вопросов с положительным ответом чуть больше, чем с отрицательным. Возможно, это связано с тем, что люди чаще запрашивают вопросы с положительным ответом (проверяют факты, в которых не уверены, и оказываются правы).\n",
    "\n",
    "\n",
    "Обычно поисковые запросы не очень большие, что и видно из распределения. Все вопросы имеют примерно одинаковую длину. Причем длина не меньше 6, так как выбирались осмысленные запросы.\n",
    "\n",
    "Параграф должен содержать ответ на вопрос, поэтому минимальная длина 7 слов -- похоже на предложение, длинные параграфы (больше 150 слов) встречаются редко, вероятно, потому что в публицистическом стиле не используют длинные параграфы."
   ]
  },
  {
   "cell_type": "markdown",
   "metadata": {},
   "source": [
    "## Часть 2. [1 балл] Baseline"
   ]
  },
  {
   "cell_type": "markdown",
   "metadata": {},
   "source": [
    "### Оцените accuracy точность совсем простого базового решения: присвоить каждой паре вопрос-ответ в dev части самый частый класс из train части"
   ]
  },
  {
   "cell_type": "code",
   "execution_count": 21,
   "metadata": {},
   "outputs": [
    {
     "name": "stdout",
     "output_type": "stream",
     "text": [
      "Cloning into 'fastText'...\n",
      "remote: Enumerating objects: 84, done.\u001b[K\n",
      "remote: Counting objects: 100% (84/84), done.\u001b[K\n",
      "remote: Compressing objects: 100% (61/61), done.\u001b[K\n",
      "remote: Total 3768 (delta 35), reused 46 (delta 15), pack-reused 3684\u001b[K\n",
      "Receiving objects: 100% (3768/3768), 8.20 MiB | 11.14 MiB/s, done.\n",
      "Resolving deltas: 100% (2354/2354), done.\n"
     ]
    }
   ],
   "source": [
    "! git clone https://github.com/facebookresearch/fastText.git"
   ]
  },
  {
   "cell_type": "code",
   "execution_count": 22,
   "metadata": {},
   "outputs": [
    {
     "name": "stdout",
     "output_type": "stream",
     "text": [
      "Processing ./fastText\n",
      "Requirement already satisfied: pybind11>=2.2 in /home/ulyanin/jupyter-notebook/venv/lib/python3.7/site-packages (from fasttext==0.9.1) (2.5.0)\n",
      "Requirement already satisfied: setuptools>=0.7.0 in /home/ulyanin/jupyter-notebook/venv/lib/python3.7/site-packages (from fasttext==0.9.1) (41.2.0)\n",
      "Requirement already satisfied: numpy in /home/ulyanin/jupyter-notebook/venv/lib/python3.7/site-packages (from fasttext==0.9.1) (1.18.2)\n",
      "Building wheels for collected packages: fasttext\n",
      "  Building wheel for fasttext (setup.py) ... \u001b[?25ldone\n",
      "\u001b[?25h  Created wheel for fasttext: filename=fasttext-0.9.1-cp37-cp37m-linux_x86_64.whl size=2876657 sha256=ab12890b5620189346e2b5ce990a46410be62a8cb01c39b0fe148fdbf73d924b\n",
      "  Stored in directory: /place/vartmp/pip-ephem-wheel-cache-dvvtyhmw/wheels/e8/f4/68/b91846f92bea77b9d713f3a4d6d00d2d5494f6fdd52af412d2\n",
      "Successfully built fasttext\n",
      "Installing collected packages: fasttext\n",
      "Successfully installed fasttext-0.9.1\n",
      "\u001b[33mWARNING: You are using pip version 19.2.3, however version 20.0.2 is available.\n",
      "You should consider upgrading via the 'pip install --upgrade pip' command.\u001b[0m\n"
     ]
    }
   ],
   "source": [
    "! pip3 install fastText/."
   ]
  },
  {
   "cell_type": "code",
   "execution_count": 134,
   "metadata": {
    "ExecuteTime": {
     "end_time": "2020-04-12T21:09:17.217645Z",
     "start_time": "2020-04-12T21:09:17.214620Z"
    },
    "init_cell": true
   },
   "outputs": [],
   "source": [
    "import fasttext\n",
    "from sklearn.metrics import accuracy_score\n",
    "from nltk.tokenize import WordPunctTokenizer\n",
    "import csv\n",
    "from tqdm.notebook import tqdm as tqdm"
   ]
  },
  {
   "cell_type": "code",
   "execution_count": 26,
   "metadata": {
    "ExecuteTime": {
     "end_time": "2020-04-05T14:58:13.725422Z",
     "start_time": "2020-04-05T14:58:13.722045Z"
    }
   },
   "outputs": [],
   "source": [
    "def evaluate_simple_model(df):\n",
    "    y_true = df['answer'].to_list()\n",
    "    y_pred = np.repeat(True, len(y_true))\n",
    "    acc = accuracy_score(y_true=y_true, y_pred=y_pred)\n",
    "    print(f'basline (always true) accuracy = {acc}')"
   ]
  },
  {
   "cell_type": "code",
   "execution_count": 102,
   "metadata": {
    "ExecuteTime": {
     "end_time": "2020-04-05T14:58:30.142638Z",
     "start_time": "2020-04-05T14:58:30.137687Z"
    }
   },
   "outputs": [
    {
     "name": "stdout",
     "output_type": "stream",
     "text": [
      "basline (always true) accuracy = 0.6219178082191781\n"
     ]
    }
   ],
   "source": [
    "evaluate_simple_model(dev_df)"
   ]
  },
  {
   "cell_type": "markdown",
   "metadata": {},
   "source": [
    "### Оцените accuracy чуть более сложного базового решения: fasttext на текстах, состоящих из склееных вопросов и абзацев (' '.join([question, passage]))\n",
    "\n",
    "Почему fasttext плохо справляется с этой задачей?"
   ]
  },
  {
   "cell_type": "code",
   "execution_count": 27,
   "metadata": {
    "ExecuteTime": {
     "end_time": "2020-04-05T15:28:12.562686Z",
     "start_time": "2020-04-05T15:28:12.556954Z"
    }
   },
   "outputs": [],
   "source": [
    "def word_punkt_tokenize_and_lowercase(sentence: str) -> str:\n",
    "    if sentence.startswith('\"'):\n",
    "        sentence = sentence[1:]\n",
    "    if sentence.endswith('\"'):\n",
    "        sentence = sentence[:-1]\n",
    "    words = WordPunctTokenizer().tokenize(sentence)\n",
    "    words = list(map(lambda x: x.lower(), words))\n",
    "    return ' '.join(words)"
   ]
  },
  {
   "cell_type": "code",
   "execution_count": 28,
   "metadata": {
    "ExecuteTime": {
     "end_time": "2020-04-05T15:28:13.120484Z",
     "start_time": "2020-04-05T15:28:13.116926Z"
    }
   },
   "outputs": [],
   "source": [
    "def prepare_df(df: pd.DataFrame) -> pd.DataFrame:\n",
    "    prepared = df.copy()\n",
    "    prepared.passage = prepared.passage.apply(word_punkt_tokenize_and_lowercase)\n",
    "    prepared.question = prepared.question.apply(word_punkt_tokenize_and_lowercase)\n",
    "    prepared.title = prepared.title.apply(word_punkt_tokenize_and_lowercase)\n",
    "    return prepared"
   ]
  },
  {
   "cell_type": "code",
   "execution_count": 29,
   "metadata": {
    "ExecuteTime": {
     "end_time": "2020-04-05T15:28:14.592520Z",
     "start_time": "2020-04-05T15:28:13.726239Z"
    }
   },
   "outputs": [],
   "source": [
    "train_df_prepared = prepare_df(train_df)\n",
    "dev_df_prepared = prepare_df(dev_df)\n",
    "test_df_prepared = prepare_df(test_df)"
   ]
  },
  {
   "cell_type": "code",
   "execution_count": 30,
   "metadata": {
    "ExecuteTime": {
     "end_time": "2020-04-05T15:28:15.443604Z",
     "start_time": "2020-04-05T15:28:15.100982Z"
    }
   },
   "outputs": [],
   "source": [
    "train_df_prepared.to_csv('train_prepared.csv')\n",
    "dev_df_prepared.to_csv('dev_prepared.csv')\n",
    "test_df_prepared.to_csv('test_prepared.csv')"
   ]
  },
  {
   "cell_type": "code",
   "execution_count": 33,
   "metadata": {
    "ExecuteTime": {
     "end_time": "2020-04-12T21:50:46.028911Z",
     "start_time": "2020-04-12T21:50:45.945186Z"
    }
   },
   "outputs": [],
   "source": [
    "train_df = pd.read_csv('train_prepared.csv', index_col=0)\n",
    "dev_df = pd.read_csv('dev_prepared.csv', index_col=0)\n",
    "test_df = pd.read_csv('dev_prepared.csv', index_col=0)"
   ]
  },
  {
   "cell_type": "code",
   "execution_count": 32,
   "metadata": {
    "ExecuteTime": {
     "end_time": "2020-04-05T15:42:42.166187Z",
     "start_time": "2020-04-05T15:42:42.161686Z"
    }
   },
   "outputs": [],
   "source": [
    "def get_text_for_fastttext(df: pd.DataFrame, i: int, need_label=False) -> str:\n",
    "    text = ''\n",
    "    if need_label:\n",
    "        text = df.iloc[i]['label'] + ' '\n",
    "    text += ' '.join([df.iloc[i]['question'], df.iloc[i]['passage']])\n",
    "    return text"
   ]
  },
  {
   "cell_type": "code",
   "execution_count": 33,
   "metadata": {
    "ExecuteTime": {
     "end_time": "2020-04-05T15:51:09.294958Z",
     "start_time": "2020-04-05T15:51:09.290054Z"
    }
   },
   "outputs": [],
   "source": [
    "def answer_to_label(answer: bool) -> str:\n",
    "    return '__label__' + str(answer)\n",
    "\n",
    "def label_to_answer(label: str) -> bool:\n",
    "    if 'True' in label:\n",
    "        return True\n",
    "    elif 'False' in label:\n",
    "        return False\n",
    "    else:\n",
    "        assert False"
   ]
  },
  {
   "cell_type": "code",
   "execution_count": 34,
   "metadata": {
    "ExecuteTime": {
     "end_time": "2020-04-05T15:51:09.824460Z",
     "start_time": "2020-04-05T15:51:09.820551Z"
    }
   },
   "outputs": [],
   "source": [
    "def save_df_for_fasttext(df: pd.DataFrame, path: str):\n",
    "    df = df.copy()\n",
    "    df['label'] = df.answer.apply(answer_to_label)\n",
    "    with open(path, 'w') as out_f:\n",
    "        for i in range(len(df)):\n",
    "            line = get_text_for_fastttext(df, i, need_label=True)\n",
    "            print(line, file=out_f)"
   ]
  },
  {
   "cell_type": "code",
   "execution_count": 35,
   "metadata": {
    "ExecuteTime": {
     "end_time": "2020-04-05T15:51:14.169170Z",
     "start_time": "2020-04-05T15:51:10.196100Z"
    }
   },
   "outputs": [],
   "source": [
    "save_df_for_fasttext(train_df, 'train_for_fasttext.txt')"
   ]
  },
  {
   "cell_type": "code",
   "execution_count": 36,
   "metadata": {
    "ExecuteTime": {
     "end_time": "2020-04-05T15:59:33.910074Z",
     "start_time": "2020-04-05T15:58:19.274109Z"
    }
   },
   "outputs": [],
   "source": [
    "baseline_ft = fasttext.train_supervised(\n",
    "    'train_for_fasttext.txt',\n",
    "    epoch=1000,\n",
    "    dim=256,\n",
    "    thread=N_THREADS)"
   ]
  },
  {
   "cell_type": "code",
   "execution_count": 37,
   "metadata": {
    "ExecuteTime": {
     "end_time": "2020-04-05T16:05:00.456019Z",
     "start_time": "2020-04-05T16:05:00.449216Z"
    }
   },
   "outputs": [],
   "source": [
    "def evaluate_ft_model(model, df, do_print=False):\n",
    "    df = df.copy()\n",
    "    texts = []\n",
    "    for i in range(len(df)):\n",
    "        texts.append(get_text_for_fastttext(df, i))\n",
    "    y_true = df.answer.to_list()\n",
    "    y_pred = model.predict(texts)[0]\n",
    "    y_pred = np.array(y_pred).flatten()\n",
    "    y_pred = list(map(label_to_answer, y_pred))\n",
    "    acc = accuracy_score(y_true=y_true, y_pred=y_pred)\n",
    "    if do_print:\n",
    "        print(f'baseline fasttext accuracy = {acc}')\n",
    "    return acc"
   ]
  },
  {
   "cell_type": "code",
   "execution_count": 286,
   "metadata": {
    "ExecuteTime": {
     "end_time": "2020-04-05T16:35:33.831088Z",
     "start_time": "2020-04-05T16:35:33.820103Z"
    }
   },
   "outputs": [],
   "source": [
    "def train_evaluate_and_plot(train: pd.DataFrame, validate: pd.DataFrame, lr, epoch_list: List):\n",
    "    assert 0.1 <= lr <= 1.0\n",
    "    \n",
    "    train_accs = []\n",
    "    val_accs = []\n",
    "    fig = plt.figure()\n",
    "    ax1 = fig.add_subplot(1, 1, 1)\n",
    "    for epoch in tqdm(epoch_list):\n",
    "        ft_model = fasttext.train_supervised(\n",
    "            'train_for_fasttext.txt',\n",
    "            epoch=epoch,\n",
    "            dim=256,\n",
    "            lr=lr,\n",
    "            thread=N_THREADS\n",
    "        )\n",
    "        train_acc = evaluate_ft_model(ft_model, df=train)\n",
    "        val_acc = evaluate_ft_model(ft_model, df=validate)\n",
    "        train_accs.append(train_acc)\n",
    "        val_accs.append(val_acc)\n",
    "    i = np.argmax(val_accs)\n",
    "    plt.plot(epoch_list, train_accs)\n",
    "    plt.plot(epoch_list, val_accs)\n",
    "    plt.legend(['train', 'val'])\n",
    "    plt.title(f'lr={lr}')\n",
    "    plt.xlabel('epoch')\n",
    "    plt.ylabel('acc')\n",
    "    plt.show()\n",
    "    return epoch_list[i], val_accs[i]"
   ]
  },
  {
   "cell_type": "code",
   "execution_count": 295,
   "metadata": {
    "ExecuteTime": {
     "end_time": "2020-04-05T19:45:23.649150Z",
     "start_time": "2020-04-05T19:45:23.645294Z"
    }
   },
   "outputs": [],
   "source": [
    "def choose_best_params():\n",
    "    best_params = None\n",
    "    best_acc = 0\n",
    "    for lr in np.linspace(0.1, 1.0, 10):\n",
    "        epoch, acc = train_evaluate_and_plot(train_df, dev_df, lr=lr, epoch_list=[10, 20, 30, 50, 100])\n",
    "        if acc > best_acc:\n",
    "            best_params = (lr, epoch)\n",
    "            best_acc = acc\n",
    "            \n",
    "    return best_params + (best_acc,)"
   ]
  },
  {
   "cell_type": "code",
   "execution_count": 296,
   "metadata": {
    "ExecuteTime": {
     "end_time": "2020-04-05T19:50:56.649342Z",
     "start_time": "2020-04-05T19:45:24.389254Z"
    }
   },
   "outputs": [
    {
     "data": {
      "application/vnd.jupyter.widget-view+json": {
       "model_id": "9eb2d4021109488daae5add2f4b39d21",
       "version_major": 2,
       "version_minor": 0
      },
      "text/plain": [
       "HBox(children=(FloatProgress(value=0.0, max=5.0), HTML(value='')))"
      ]
     },
     "metadata": {},
     "output_type": "display_data"
    },
    {
     "name": "stdout",
     "output_type": "stream",
     "text": [
      "\n"
     ]
    },
    {
     "data": {
      "image/png": "[encoded data removed]",
      "text/plain": [
       "<Figure size 432x288 with 1 Axes>"
      ]
     },
     "metadata": {
      "needs_background": "light"
     },
     "output_type": "display_data"
    },
    {
     "data": {
      "application/vnd.jupyter.widget-view+json": {
       "model_id": "9efb13f64e6c42aab75e4c1489c43d89",
       "version_major": 2,
       "version_minor": 0
      },
      "text/plain": [
       "HBox(children=(FloatProgress(value=0.0, max=5.0), HTML(value='')))"
      ]
     },
     "metadata": {},
     "output_type": "display_data"
    },
    {
     "name": "stdout",
     "output_type": "stream",
     "text": [
      "\n"
     ]
    },
    {
     "data": {
      "image/png": "[encoded data removed]",
      "text/plain": [
       "<Figure size 432x288 with 1 Axes>"
      ]
     },
     "metadata": {
      "needs_background": "light"
     },
     "output_type": "display_data"
    },
    {
     "data": {
      "application/vnd.jupyter.widget-view+json": {
       "model_id": "0b8f537134ad47b6aee553c25ada831b",
       "version_major": 2,
       "version_minor": 0
      },
      "text/plain": [
       "HBox(children=(FloatProgress(value=0.0, max=5.0), HTML(value='')))"
      ]
     },
     "metadata": {},
     "output_type": "display_data"
    },
    {
     "name": "stdout",
     "output_type": "stream",
     "text": [
      "\n"
     ]
    },
    {
     "data": {
      "image/png": "[encoded data removed]",
      "text/plain": [
       "<Figure size 432x288 with 1 Axes>"
      ]
     },
     "metadata": {
      "needs_background": "light"
     },
     "output_type": "display_data"
    },
    {
     "data": {
      "application/vnd.jupyter.widget-view+json": {
       "model_id": "d1f5f7e3d12e41f283fb42b51ba75b66",
       "version_major": 2,
       "version_minor": 0
      },
      "text/plain": [
       "HBox(children=(FloatProgress(value=0.0, max=5.0), HTML(value='')))"
      ]
     },
     "metadata": {},
     "output_type": "display_data"
    },
    {
     "name": "stdout",
     "output_type": "stream",
     "text": [
      "\n"
     ]
    },
    {
     "data": {
      "image/png": "[encoded data removed]",
      "text/plain": [
       "<Figure size 432x288 with 1 Axes>"
      ]
     },
     "metadata": {
      "needs_background": "light"
     },
     "output_type": "display_data"
    },
    {
     "data": {
      "application/vnd.jupyter.widget-view+json": {
       "model_id": "f9b025135c2d4341b5a29ff51a49160d",
       "version_major": 2,
       "version_minor": 0
      },
      "text/plain": [
       "HBox(children=(FloatProgress(value=0.0, max=5.0), HTML(value='')))"
      ]
     },
     "metadata": {},
     "output_type": "display_data"
    },
    {
     "name": "stdout",
     "output_type": "stream",
     "text": [
      "\n"
     ]
    },
    {
     "data": {
      "image/png": "[encoded data removed]",
      "text/plain": [
       "<Figure size 432x288 with 1 Axes>"
      ]
     },
     "metadata": {
      "needs_background": "light"
     },
     "output_type": "display_data"
    },
    {
     "data": {
      "application/vnd.jupyter.widget-view+json": {
       "model_id": "40bb1cb7e9fe4abd85971bed7494fd6a",
       "version_major": 2,
       "version_minor": 0
      },
      "text/plain": [
       "HBox(children=(FloatProgress(value=0.0, max=5.0), HTML(value='')))"
      ]
     },
     "metadata": {},
     "output_type": "display_data"
    },
    {
     "name": "stdout",
     "output_type": "stream",
     "text": [
      "\n"
     ]
    },
    {
     "data": {
      "image/png": "[encoded data removed]",
      "text/plain": [
       "<Figure size 432x288 with 1 Axes>"
      ]
     },
     "metadata": {
      "needs_background": "light"
     },
     "output_type": "display_data"
    },
    {
     "data": {
      "application/vnd.jupyter.widget-view+json": {
       "model_id": "5ced4c33513f4404a36d293289adb120",
       "version_major": 2,
       "version_minor": 0
      },
      "text/plain": [
       "HBox(children=(FloatProgress(value=0.0, max=5.0), HTML(value='')))"
      ]
     },
     "metadata": {},
     "output_type": "display_data"
    },
    {
     "name": "stdout",
     "output_type": "stream",
     "text": [
      "\n"
     ]
    },
    {
     "data": {
      "image/png": "[encoded data removed]",
      "text/plain": [
       "<Figure size 432x288 with 1 Axes>"
      ]
     },
     "metadata": {
      "needs_background": "light"
     },
     "output_type": "display_data"
    },
    {
     "data": {
      "application/vnd.jupyter.widget-view+json": {
       "model_id": "810d5e5d21624911b460ad3d8730d775",
       "version_major": 2,
       "version_minor": 0
      },
      "text/plain": [
       "HBox(children=(FloatProgress(value=0.0, max=5.0), HTML(value='')))"
      ]
     },
     "metadata": {},
     "output_type": "display_data"
    },
    {
     "name": "stdout",
     "output_type": "stream",
     "text": [
      "\n"
     ]
    },
    {
     "data": {
      "image/png": "[encoded data removed]",
      "text/plain": [
       "<Figure size 432x288 with 1 Axes>"
      ]
     },
     "metadata": {
      "needs_background": "light"
     },
     "output_type": "display_data"
    },
    {
     "data": {
      "application/vnd.jupyter.widget-view+json": {
       "model_id": "f5c4a74a7c9a4831ba24d743635fe4fa",
       "version_major": 2,
       "version_minor": 0
      },
      "text/plain": [
       "HBox(children=(FloatProgress(value=0.0, max=5.0), HTML(value='')))"
      ]
     },
     "metadata": {},
     "output_type": "display_data"
    },
    {
     "name": "stdout",
     "output_type": "stream",
     "text": [
      "\n"
     ]
    },
    {
     "data": {
      "image/png": "[encoded data removed]",
      "text/plain": [
       "<Figure size 432x288 with 1 Axes>"
      ]
     },
     "metadata": {
      "needs_background": "light"
     },
     "output_type": "display_data"
    },
    {
     "data": {
      "application/vnd.jupyter.widget-view+json": {
       "model_id": "efcea4a0dd604434b8f4f720907f4557",
       "version_major": 2,
       "version_minor": 0
      },
      "text/plain": [
       "HBox(children=(FloatProgress(value=0.0, max=5.0), HTML(value='')))"
      ]
     },
     "metadata": {},
     "output_type": "display_data"
    },
    {
     "name": "stdout",
     "output_type": "stream",
     "text": [
      "\n"
     ]
    },
    {
     "data": {
      "image/png": "[encoded data removed]",
      "text/plain": [
       "<Figure size 432x288 with 1 Axes>"
      ]
     },
     "metadata": {
      "needs_background": "light"
     },
     "output_type": "display_data"
    }
   ],
   "source": [
    "ft_best_params = choose_best_params()"
   ]
  },
  {
   "cell_type": "code",
   "execution_count": 297,
   "metadata": {
    "ExecuteTime": {
     "end_time": "2020-04-05T21:19:03.989346Z",
     "start_time": "2020-04-05T21:19:03.984787Z"
    }
   },
   "outputs": [
    {
     "data": {
      "text/plain": [
       "(0.1, 10, 0.6561643835616439)"
      ]
     },
     "execution_count": 297,
     "metadata": {},
     "output_type": "execute_result"
    }
   ],
   "source": [
    "ft_best_params"
   ]
  },
  {
   "cell_type": "markdown",
   "metadata": {},
   "source": [
    "Fasttext лучше простого бейзлайна только на 3%.\n",
    "\n",
    "Модель не использует то, что вопрос и параграф существенно отличаются по смыслу. Эмбеддинг, который подается в логистическую регрессию, -- усреднение эмбедингов слов, длина вопроса значительно меньше длины параграфа, поэтому вклад вопроса в этом эмбеддинге небольшой."
   ]
  },
  {
   "cell_type": "markdown",
   "metadata": {},
   "source": [
    "## Часть 3. [1 балл] Используем эмбеддинги предложений"
   ]
  },
  {
   "cell_type": "markdown",
   "metadata": {},
   "source": [
    "### BERT эмбеддинги вопроса и абзаца"
   ]
  },
  {
   "cell_type": "code",
   "execution_count": 135,
   "metadata": {
    "ExecuteTime": {
     "end_time": "2020-04-12T21:09:17.299853Z",
     "start_time": "2020-04-12T21:09:17.219706Z"
    },
    "init_cell": true
   },
   "outputs": [],
   "source": [
    "import logging\n",
    "from keras.preprocessing.sequence import pad_sequences\n",
    "import torch\n",
    "from transformers import BertTokenizer, BertModel, BertForMaskedLM\n",
    "import pickle\n",
    "import re"
   ]
  },
  {
   "cell_type": "code",
   "execution_count": 35,
   "metadata": {
    "ExecuteTime": {
     "end_time": "2020-04-09T13:25:16.444549Z",
     "start_time": "2020-04-09T13:25:16.436134Z"
    }
   },
   "outputs": [
    {
     "data": {
      "text/html": [
       "<div>\n",
       "<style scoped>\n",
       "    .dataframe tbody tr th:only-of-type {\n",
       "        vertical-align: middle;\n",
       "    }\n",
       "\n",
       "    .dataframe tbody tr th {\n",
       "        vertical-align: top;\n",
       "    }\n",
       "\n",
       "    .dataframe thead th {\n",
       "        text-align: right;\n",
       "    }\n",
       "</style>\n",
       "<table border=\"1\" class=\"dataframe\">\n",
       "  <thead>\n",
       "    <tr style=\"text-align: right;\">\n",
       "      <th></th>\n",
       "      <th>question</th>\n",
       "      <th>title</th>\n",
       "      <th>answer</th>\n",
       "      <th>passage</th>\n",
       "    </tr>\n",
       "  </thead>\n",
       "  <tbody>\n",
       "    <tr>\n",
       "      <th>0</th>\n",
       "      <td>do iran and afghanistan speak the same language</td>\n",
       "      <td>persian language</td>\n",
       "      <td>True</td>\n",
       "      <td>persian (/ ˈpɜːrʒən , - ʃən /), also known by ...</td>\n",
       "    </tr>\n",
       "    <tr>\n",
       "      <th>1</th>\n",
       "      <td>do good samaritan laws protect those who help ...</td>\n",
       "      <td>good samaritan law</td>\n",
       "      <td>True</td>\n",
       "      <td>good samaritan laws offer legal protection to ...</td>\n",
       "    </tr>\n",
       "    <tr>\n",
       "      <th>2</th>\n",
       "      <td>is windows movie maker part of windows essentials</td>\n",
       "      <td>windows movie maker</td>\n",
       "      <td>True</td>\n",
       "      <td>windows movie maker ( formerly known as window...</td>\n",
       "    </tr>\n",
       "    <tr>\n",
       "      <th>3</th>\n",
       "      <td>is confectionary sugar the same as powdered sugar</td>\n",
       "      <td>powdered sugar</td>\n",
       "      <td>True</td>\n",
       "      <td>powdered sugar , also called confectioners ' s...</td>\n",
       "    </tr>\n",
       "    <tr>\n",
       "      <th>4</th>\n",
       "      <td>is elder scrolls online the same as skyrim</td>\n",
       "      <td>the elder scrolls online</td>\n",
       "      <td>False</td>\n",
       "      <td>as with other games in the elder scrolls serie...</td>\n",
       "    </tr>\n",
       "  </tbody>\n",
       "</table>\n",
       "</div>"
      ],
      "text/plain": [
       "                                            question  \\\n",
       "0    do iran and afghanistan speak the same language   \n",
       "1  do good samaritan laws protect those who help ...   \n",
       "2  is windows movie maker part of windows essentials   \n",
       "3  is confectionary sugar the same as powdered sugar   \n",
       "4         is elder scrolls online the same as skyrim   \n",
       "\n",
       "                      title  answer  \\\n",
       "0          persian language    True   \n",
       "1        good samaritan law    True   \n",
       "2       windows movie maker    True   \n",
       "3            powdered sugar    True   \n",
       "4  the elder scrolls online   False   \n",
       "\n",
       "                                             passage  \n",
       "0  persian (/ ˈpɜːrʒən , - ʃən /), also known by ...  \n",
       "1  good samaritan laws offer legal protection to ...  \n",
       "2  windows movie maker ( formerly known as window...  \n",
       "3  powdered sugar , also called confectioners ' s...  \n",
       "4  as with other games in the elder scrolls serie...  "
      ]
     },
     "execution_count": 35,
     "metadata": {},
     "output_type": "execute_result"
    }
   ],
   "source": [
    "train_df.head()"
   ]
  },
  {
   "cell_type": "code",
   "execution_count": 136,
   "metadata": {
    "ExecuteTime": {
     "end_time": "2020-04-12T21:09:17.375662Z",
     "start_time": "2020-04-12T21:09:17.302963Z"
    },
    "init_cell": true
   },
   "outputs": [],
   "source": [
    "SEPARATOR = '[SEP]'\n",
    "CLS = '[CLS] '\n",
    "SENTENCE_END = ['.', '?', '!']\n",
    "OUTPUT_LAYER = 12\n",
    "MAX_LEN_PASSAGE = 350\n",
    "MAX_LEN_QUEST = 20"
   ]
  },
  {
   "cell_type": "code",
   "execution_count": 137,
   "metadata": {
    "ExecuteTime": {
     "end_time": "2020-04-12T21:09:17.475941Z",
     "start_time": "2020-04-12T21:09:17.377701Z"
    },
    "init_cell": true
   },
   "outputs": [],
   "source": [
    "def mark_text(row):\n",
    "    return CLS + row + SEPARATOR"
   ]
  },
  {
   "cell_type": "code",
   "execution_count": 138,
   "metadata": {
    "ExecuteTime": {
     "end_time": "2020-04-12T21:09:17.565081Z",
     "start_time": "2020-04-12T21:09:17.480905Z"
    },
    "init_cell": true
   },
   "outputs": [],
   "source": [
    "def mark_df(df: pd.DataFrame):\n",
    "    df['proc_passage'] = df['passage'].apply(mark_text)\n",
    "    df['proc_question'] = df['question'].apply(mark_text)\n",
    "    \n",
    "    return df"
   ]
  },
  {
   "cell_type": "code",
   "execution_count": 8,
   "metadata": {
    "ExecuteTime": {
     "end_time": "2020-04-12T10:24:11.479589Z",
     "start_time": "2020-04-12T10:24:11.386121Z"
    }
   },
   "outputs": [],
   "source": [
    "train_df = mark_df(train_df)\n",
    "dev_df = mark_df(dev_df)\n",
    "test_df = mark_df(test_df)"
   ]
  },
  {
   "cell_type": "code",
   "execution_count": 139,
   "metadata": {
    "ExecuteTime": {
     "end_time": "2020-04-12T21:09:17.654314Z",
     "start_time": "2020-04-12T21:09:17.568543Z"
    },
    "init_cell": true
   },
   "outputs": [],
   "source": [
    "def get_bert_embeds(marked_texts, max_len):\n",
    "    tokenizer = BertTokenizer.from_pretrained('bert-base-uncased')\n",
    "\n",
    "    tokenized_texts = [tokenizer.tokenize(text) for text in marked_texts]\n",
    "\n",
    "    input_ids = [tokenizer.convert_tokens_to_ids(text) for text in tokenized_texts]\n",
    "    input_ids = pad_sequences(input_ids,\n",
    "                              maxlen=max_len,\n",
    "                              dtype=\"long\",\n",
    "                              truncating=\"post\",\n",
    "                              padding=\"post\")\n",
    "\n",
    "    attention_masks = []\n",
    "    for seq in input_ids:\n",
    "        seq_mask = [int(i > 0) for i in seq]\n",
    "        attention_masks.append(seq_mask)\n",
    "\n",
    "    segments_ids = [[1] * max_len for text in tokenized_texts]\n",
    "\n",
    "    tokens_tensor = torch.tensor(input_ids)\n",
    "    segments_tensor = torch.tensor(segments_ids)\n",
    "    attention_tensor = torch.tensor(attention_masks)\n",
    "\n",
    "    model = BertModel.from_pretrained('bert-base-uncased',\n",
    "                                      output_hidden_states=True)\n",
    "    model = model.eval()\n",
    "\n",
    "    with torch.no_grad():\n",
    "        _, _, encoded_layers = model(input_ids=tokens_tensor,\n",
    "                                     attention_mask=attention_tensor,\n",
    "                                     token_type_ids=segments_tensor)\n",
    "\n",
    "    embeds = []\n",
    "    for embed in encoded_layers[OUTPUT_LAYER]:\n",
    "        embeds.append(torch.mean(embed, dim=0))\n",
    "\n",
    "    return embeds"
   ]
  },
  {
   "cell_type": "code",
   "execution_count": 140,
   "metadata": {
    "ExecuteTime": {
     "end_time": "2020-04-12T21:09:17.827746Z",
     "start_time": "2020-04-12T21:09:17.657043Z"
    },
    "init_cell": true
   },
   "outputs": [],
   "source": [
    "def bert_df(df, column, file_name, max_len):\n",
    "    BATCH_SIZE = 256\n",
    "\n",
    "    passages = df[column].to_list()\n",
    "    bert_passage = []\n",
    "    for idx in tqdm(range(0, len(passages), BATCH_SIZE)):\n",
    "        bert_passage.extend(\n",
    "            get_bert_embeds(passages[idx:min(len(passages), idx + BATCH_SIZE)], max_len)\n",
    "        )\n",
    "\n",
    "    print(f'Calculated embeds for {column}...')\n",
    "    \n",
    "    with open(f'bert_{column}_{file_name}.pickle', 'wb') as f:\n",
    "        pickle.dump(bert_passage, f)\n",
    "        \n",
    "    print(f'Saved embeds for {column}...')\n",
    "        \n",
    "    del bert_passage"
   ]
  },
  {
   "cell_type": "code",
   "execution_count": 77,
   "metadata": {
    "ExecuteTime": {
     "end_time": "2020-04-10T15:38:26.791837Z",
     "start_time": "2020-04-10T13:54:25.056703Z"
    }
   },
   "outputs": [
    {
     "data": {
      "application/vnd.jupyter.widget-view+json": {
       "model_id": "5b7c631db90a4ef0856b9922ec1d0f21",
       "version_major": 2,
       "version_minor": 0
      },
      "text/plain": [
       "HBox(children=(FloatProgress(value=0.0, max=37.0), HTML(value='')))"
      ]
     },
     "metadata": {},
     "output_type": "display_data"
    },
    {
     "name": "stdout",
     "output_type": "stream",
     "text": [
      "\n",
      "Calculated embeds for proc_passage...\n",
      "Saved embeds for proc_passage...\n"
     ]
    },
    {
     "data": {
      "application/vnd.jupyter.widget-view+json": {
       "model_id": "43d7dc4c077f4026b54fd1fab903ab70",
       "version_major": 2,
       "version_minor": 0
      },
      "text/plain": [
       "HBox(children=(FloatProgress(value=0.0, max=37.0), HTML(value='')))"
      ]
     },
     "metadata": {},
     "output_type": "display_data"
    },
    {
     "name": "stdout",
     "output_type": "stream",
     "text": [
      "\n",
      "Calculated embeds for proc_question...\n",
      "Saved embeds for proc_question...\n",
      "CPU times: user 5h 19min 37s, sys: 38min 52s, total: 5h 58min 30s\n",
      "Wall time: 1h 44min 1s\n"
     ]
    }
   ],
   "source": [
    "%%time\n",
    "bert_df(df=train_df, column='proc_passage', file_name='train', max_len=MAX_LEN_PASSAGE)\n",
    "bert_df(df=train_df, column='proc_question', file_name='train', max_len=MAX_LEN_QUEST)"
   ]
  },
  {
   "cell_type": "code",
   "execution_count": 78,
   "metadata": {
    "ExecuteTime": {
     "end_time": "2020-04-10T16:07:03.109160Z",
     "start_time": "2020-04-10T15:38:26.945228Z"
    }
   },
   "outputs": [
    {
     "data": {
      "application/vnd.jupyter.widget-view+json": {
       "model_id": "30a44d8b9f7245c9a71ae5f57db903b2",
       "version_major": 2,
       "version_minor": 0
      },
      "text/plain": [
       "HBox(children=(FloatProgress(value=0.0, max=9.0), HTML(value='')))"
      ]
     },
     "metadata": {},
     "output_type": "display_data"
    },
    {
     "name": "stdout",
     "output_type": "stream",
     "text": [
      "\n",
      "Calculated embeds for proc_passage...\n",
      "Saved embeds for proc_passage...\n"
     ]
    },
    {
     "data": {
      "application/vnd.jupyter.widget-view+json": {
       "model_id": "90f045e35b8948bcb87240a3b730b7e9",
       "version_major": 2,
       "version_minor": 0
      },
      "text/plain": [
       "HBox(children=(FloatProgress(value=0.0, max=9.0), HTML(value='')))"
      ]
     },
     "metadata": {},
     "output_type": "display_data"
    },
    {
     "name": "stdout",
     "output_type": "stream",
     "text": [
      "\n",
      "Calculated embeds for proc_question...\n",
      "Saved embeds for proc_question...\n",
      "CPU times: user 1h 20min 25s, sys: 5min 57s, total: 1h 26min 22s\n",
      "Wall time: 28min 35s\n"
     ]
    }
   ],
   "source": [
    "%%time\n",
    "bert_df(df=dev_df, column='proc_passage', file_name='dev', max_len=MAX_LEN_PASSAGE)\n",
    "bert_df(df=dev_df, column='proc_question', file_name='dev', max_len=MAX_LEN_QUEST)"
   ]
  },
  {
   "cell_type": "code",
   "execution_count": 79,
   "metadata": {
    "ExecuteTime": {
     "end_time": "2020-04-10T16:19:59.534166Z",
     "start_time": "2020-04-10T16:07:03.729180Z"
    }
   },
   "outputs": [
    {
     "data": {
      "application/vnd.jupyter.widget-view+json": {
       "model_id": "5fddb184685740a9a2f7e1a6e0bea4e9",
       "version_major": 2,
       "version_minor": 0
      },
      "text/plain": [
       "HBox(children=(FloatProgress(value=0.0, max=5.0), HTML(value='')))"
      ]
     },
     "metadata": {},
     "output_type": "display_data"
    },
    {
     "name": "stdout",
     "output_type": "stream",
     "text": [
      "\n",
      "Calculated embeds for proc_passage...\n",
      "Saved embeds for proc_passage...\n"
     ]
    },
    {
     "data": {
      "application/vnd.jupyter.widget-view+json": {
       "model_id": "e98f91ff83d9483da976dc0e65b7fd40",
       "version_major": 2,
       "version_minor": 0
      },
      "text/plain": [
       "HBox(children=(FloatProgress(value=0.0, max=5.0), HTML(value='')))"
      ]
     },
     "metadata": {},
     "output_type": "display_data"
    },
    {
     "name": "stdout",
     "output_type": "stream",
     "text": [
      "\n",
      "Calculated embeds for proc_question...\n",
      "Saved embeds for proc_question...\n",
      "CPU times: user 39min 50s, sys: 2min 47s, total: 42min 37s\n",
      "Wall time: 12min 55s\n"
     ]
    }
   ],
   "source": [
    "%%time\n",
    "bert_df(df=test_df, column='proc_passage', file_name='test', max_len=MAX_LEN_PASSAGE)\n",
    "bert_df(df=test_df, column='proc_question', file_name='test', max_len=MAX_LEN_QUEST)"
   ]
  },
  {
   "cell_type": "code",
   "execution_count": 141,
   "metadata": {
    "ExecuteTime": {
     "end_time": "2020-04-12T21:09:17.898298Z",
     "start_time": "2020-04-12T21:09:17.830570Z"
    },
    "init_cell": true
   },
   "outputs": [],
   "source": [
    "def load_embeddings(column, file_name):\n",
    "    with open(f'bert_{column}_{file_name}.pickle', 'rb') as f:\n",
    "        embeds = pickle.load(f)\n",
    "    return embeds"
   ]
  },
  {
   "cell_type": "code",
   "execution_count": 142,
   "metadata": {
    "ExecuteTime": {
     "end_time": "2020-04-12T21:09:18.018649Z",
     "start_time": "2020-04-12T21:09:17.900471Z"
    },
    "init_cell": true
   },
   "outputs": [],
   "source": [
    "def concat_question_passage(questions, passages):\n",
    "    unite = []\n",
    "    for q, p in zip(questions, passages):\n",
    "        unite.append(torch.cat((q, p), dim=0).numpy().flatten())\n",
    "    return unite"
   ]
  },
  {
   "cell_type": "code",
   "execution_count": 143,
   "metadata": {
    "ExecuteTime": {
     "end_time": "2020-04-12T21:09:18.086978Z",
     "start_time": "2020-04-12T21:09:18.021256Z"
    },
    "init_cell": true
   },
   "outputs": [],
   "source": [
    "def concat_embeddings(file_name):\n",
    "    passage = load_embeddings('proc_passage', file_name)\n",
    "    question = load_embeddings('proc_question', file_name)\n",
    "    return concat_question_passage(question, passage)"
   ]
  },
  {
   "cell_type": "code",
   "execution_count": 57,
   "metadata": {
    "ExecuteTime": {
     "end_time": "2020-04-10T16:20:35.164539Z",
     "start_time": "2020-04-10T16:20:01.651078Z"
    }
   },
   "outputs": [],
   "source": [
    "train_embeds = concat_embeddings('train')\n",
    "dev_embeds = concat_embeddings('dev')\n",
    "test_embeds = concat_embeddings('test')"
   ]
  },
  {
   "cell_type": "markdown",
   "metadata": {},
   "source": [
    "### Обучите логистическую регрессию на конкатенированных эмбеддингах вопроса и абзаца и оцените accuracy этого решения"
   ]
  },
  {
   "cell_type": "code",
   "execution_count": 144,
   "metadata": {
    "ExecuteTime": {
     "end_time": "2020-04-12T21:09:18.166096Z",
     "start_time": "2020-04-12T21:09:18.089530Z"
    },
    "init_cell": true
   },
   "outputs": [],
   "source": [
    "from sklearn.linear_model import LogisticRegressionCV"
   ]
  },
  {
   "cell_type": "code",
   "execution_count": 61,
   "metadata": {
    "ExecuteTime": {
     "end_time": "2020-04-10T16:26:51.450646Z",
     "start_time": "2020-04-10T16:20:35.318674Z"
    },
    "scrolled": true
   },
   "outputs": [],
   "source": [
    "clf = LogisticRegressionCV(cv=5,\n",
    "                           random_state=42,\n",
    "                           max_iter=1000,\n",
    "                           n_jobs=N_THREADS).fit(train_embeds, train_df.answer.to_list())"
   ]
  },
  {
   "cell_type": "code",
   "execution_count": 86,
   "metadata": {
    "ExecuteTime": {
     "end_time": "2020-04-10T16:26:51.754238Z",
     "start_time": "2020-04-10T16:26:51.453101Z"
    }
   },
   "outputs": [
    {
     "data": {
      "text/plain": [
       "0.6607305936073059"
      ]
     },
     "execution_count": 86,
     "metadata": {},
     "output_type": "execute_result"
    }
   ],
   "source": [
    "y_pred = clf.predict(dev_embeds)\n",
    "accuracy_score(y_true=dev_df.answer.to_list(), y_pred=y_pred)"
   ]
  },
  {
   "cell_type": "markdown",
   "metadata": {},
   "source": [
    "Результат незначительно лучше, чем у fasttext. Можно предположить, что проблема в том, что эмбеддинги вопроса и текста никак между собой не связаны."
   ]
  },
  {
   "cell_type": "markdown",
   "metadata": {},
   "source": [
    "## Часть 3. [3 балла] DrQA-подобная архитектура\n",
    "\n",
    "Основана на статье: Reading Wikipedia to Answer Open-Domain Questions\n",
    "\n",
    "Danqi Chen, Adam Fisch, Jason Weston, Antoine Bordes\n",
    "\n",
    "https://arxiv.org/abs/1704.00051\n",
    "\n",
    "Архитектура DrQA предложена для задачи SQuAD, но легко может быть адаптирована к текущему заданию. Модель состоит из следующих блоков:\n",
    "1. Кодировщик абзаца [paragraph encoding] – LSTM, получаящая на вход вектора слов, состоящие из: \n",
    "* эмбеддинга слова (w2v или fasttext)\n",
    "* дополнительных признаков-индикаторов, кодирующих в виде one-hot векторов часть речи слова, является ли оно именованной сущностью или нет, встречается ли слово в вопросе или нет \n",
    "* выровненного эмбеддинга вопроса, получаемого с использованием soft attention между эмбеддингами слов из абзаца и эмбеддингом вопроса.\n",
    "\n",
    "$f_{align}(p_i) = \\sum_j􏰂 a_{i,j} E(q_j)$, где $E(q_j)$ – эмбеддинг слова из вопроса. Формула для $a_{i,j}$ приведена в статье. \n",
    "\n",
    "2. Кодировщик вопроса [question encoding] – LSTM, получаящая на вход эмбеддинги слов из вопроса. Выход кодировщика: $q = 􏰂\\sum_j􏰂  b_j q_j$. Формула для $b_{j}$ приведена в статье. \n",
    "\n",
    "3. Слой предсказания. \n",
    "\n",
    "Предложите, как можно было модифицировать последний слой предсказания в архитектуре DrQA, с учетом того, что итоговое предсказание – это метка yes / no, предсказание которой проще, чем предсказание спана ответа для SQuAD.\n",
    "\n",
    "Оцените качество этой модели для решения задачи. \n",
    "\n",
    "[bonus] Замените входные эмбеддинги и все дополнительные признаки, используемые кодировщиками, на BERT эмбеддинги. Улучшит ли это качество результатов?"
   ]
  },
  {
   "cell_type": "markdown",
   "metadata": {},
   "source": [
    "Сравнение DrQA и BiDAF:\n",
    "    \n",
    "![](https://www.researchgate.net/profile/Felix_Wu6/publication/321069852/figure/fig1/AS:560800147881984@1510716582560/Schematic-layouts-of-the-BiDAF-left-and-DrQA-right-architectures-We-propose-to.png)"
   ]
  },
  {
   "cell_type": "code",
   "execution_count": 145,
   "metadata": {
    "ExecuteTime": {
     "end_time": "2020-04-12T21:09:23.522813Z",
     "start_time": "2020-04-12T21:09:23.519725Z"
    },
    "init_cell": true
   },
   "outputs": [],
   "source": [
    "from __future__ import absolute_import, division, print_function, unicode_literals\n",
    "\n",
    "import tensorflow as tf\n",
    "\n",
    "from tensorflow.keras import datasets, layers, models\n",
    "\n",
    "from sklearn.utils.class_weight import compute_sample_weight\n",
    "from collections import defaultdict\n",
    "import multiprocessing\n",
    "import nltk\n",
    "from sklearn.preprocessing import OneHotEncoder"
   ]
  },
  {
   "cell_type": "code",
   "execution_count": 204,
   "metadata": {},
   "outputs": [
    {
     "name": "stderr",
     "output_type": "stream",
     "text": [
      "[nltk_data] Downloading package maxent_ne_chunker to\n",
      "[nltk_data]     /home/ulyanin/nltk_data...\n",
      "[nltk_data]   Unzipping chunkers/maxent_ne_chunker.zip.\n"
     ]
    },
    {
     "data": {
      "text/plain": [
       "True"
      ]
     },
     "execution_count": 204,
     "metadata": {},
     "output_type": "execute_result"
    }
   ],
   "source": [
    "nltk.download('maxent_ne_chunker')"
   ]
  },
  {
   "cell_type": "markdown",
   "metadata": {},
   "source": [
    "### Получение эмбеддингов и фичей для параграфов и вопросов"
   ]
  },
  {
   "cell_type": "markdown",
   "metadata": {},
   "source": [
    "#### Эмбеддинги слов в параграфах и вопросах"
   ]
  },
  {
   "cell_type": "markdown",
   "metadata": {},
   "source": [
    "Берем готовую модель fasttext, делаем паддинг, получаем эмбеддинги"
   ]
  },
  {
   "cell_type": "code",
   "execution_count": 38,
   "metadata": {
    "ExecuteTime": {
     "end_time": "2020-04-12T22:15:38.027994Z",
     "start_time": "2020-04-12T22:15:38.014222Z"
    }
   },
   "outputs": [
    {
     "name": "stdout",
     "output_type": "stream",
     "text": [
      "cc.en.300.bin\n"
     ]
    }
   ],
   "source": [
    "import fasttext.util\n",
    "en_ft_name = fasttext.util.download_model('en', if_exists='ignore')  # English\n",
    "print(en_ft_name)"
   ]
  },
  {
   "cell_type": "code",
   "execution_count": 39,
   "metadata": {},
   "outputs": [],
   "source": [
    "FT_EMBEDS_DIM = 300"
   ]
  },
  {
   "cell_type": "code",
   "execution_count": 40,
   "metadata": {},
   "outputs": [
    {
     "name": "stderr",
     "output_type": "stream",
     "text": [
      "Warning : `load_model` does not return WordVectorModel or SupervisedModel any more, but a `FastText` object which is very similar.\n"
     ]
    }
   ],
   "source": [
    "ft_model = fasttext.load_model(en_ft_name)"
   ]
  },
  {
   "cell_type": "code",
   "execution_count": 41,
   "metadata": {},
   "outputs": [],
   "source": [
    "def padding(texts, max_size):\n",
    "    padded = []\n",
    "    for text in tqdm(texts):\n",
    "        text = text.split()\n",
    "        if len(text) >= max_size:\n",
    "            padded.append(text[:max_size])\n",
    "        else:\n",
    "            text += ['']*(max_size - len(text))\n",
    "            padded.append(text)\n",
    "    return padded"
   ]
  },
  {
   "cell_type": "code",
   "execution_count": 42,
   "metadata": {},
   "outputs": [
    {
     "data": {
      "application/vnd.jupyter.widget-view+json": {
       "model_id": "d03bf49089594378a9c5eff740adfbc7",
       "version_major": 2,
       "version_minor": 0
      },
      "text/plain": [
       "HBox(children=(FloatProgress(value=0.0, max=9427.0), HTML(value='')))"
      ]
     },
     "metadata": {},
     "output_type": "display_data"
    },
    {
     "name": "stdout",
     "output_type": "stream",
     "text": [
      "\n"
     ]
    },
    {
     "data": {
      "application/vnd.jupyter.widget-view+json": {
       "model_id": "f79148f9c4c54211bc7ebd8faf002bf9",
       "version_major": 2,
       "version_minor": 0
      },
      "text/plain": [
       "HBox(children=(FloatProgress(value=0.0, max=9427.0), HTML(value='')))"
      ]
     },
     "metadata": {},
     "output_type": "display_data"
    },
    {
     "name": "stdout",
     "output_type": "stream",
     "text": [
      "\n"
     ]
    }
   ],
   "source": [
    "train_passages = padding(train_df.passage, MAX_LEN_PASSAGE)\n",
    "train_questions = padding(train_df.question, MAX_LEN_QUEST)"
   ]
  },
  {
   "cell_type": "code",
   "execution_count": 43,
   "metadata": {},
   "outputs": [
    {
     "data": {
      "application/vnd.jupyter.widget-view+json": {
       "model_id": "8539c78a43b540f2b3e6074598612175",
       "version_major": 2,
       "version_minor": 0
      },
      "text/plain": [
       "HBox(children=(FloatProgress(value=0.0, max=2190.0), HTML(value='')))"
      ]
     },
     "metadata": {},
     "output_type": "display_data"
    },
    {
     "name": "stdout",
     "output_type": "stream",
     "text": [
      "\n"
     ]
    },
    {
     "data": {
      "application/vnd.jupyter.widget-view+json": {
       "model_id": "afd02fb2a7d34ffd94f6c1f16ba44aa5",
       "version_major": 2,
       "version_minor": 0
      },
      "text/plain": [
       "HBox(children=(FloatProgress(value=0.0, max=2190.0), HTML(value='')))"
      ]
     },
     "metadata": {},
     "output_type": "display_data"
    },
    {
     "name": "stdout",
     "output_type": "stream",
     "text": [
      "\n"
     ]
    },
    {
     "data": {
      "application/vnd.jupyter.widget-view+json": {
       "model_id": "8404dcf8ac4c49598ed33e9e84d9ba9a",
       "version_major": 2,
       "version_minor": 0
      },
      "text/plain": [
       "HBox(children=(FloatProgress(value=0.0, max=2190.0), HTML(value='')))"
      ]
     },
     "metadata": {},
     "output_type": "display_data"
    },
    {
     "name": "stdout",
     "output_type": "stream",
     "text": [
      "\n"
     ]
    },
    {
     "data": {
      "application/vnd.jupyter.widget-view+json": {
       "model_id": "2da8d298617041d5b2e2c6a5ff993427",
       "version_major": 2,
       "version_minor": 0
      },
      "text/plain": [
       "HBox(children=(FloatProgress(value=0.0, max=2190.0), HTML(value='')))"
      ]
     },
     "metadata": {},
     "output_type": "display_data"
    },
    {
     "name": "stdout",
     "output_type": "stream",
     "text": [
      "\n"
     ]
    }
   ],
   "source": [
    "dev_passages = padding(dev_df.passage, MAX_LEN_PASSAGE)\n",
    "dev_questions = padding(dev_df.question, MAX_LEN_QUEST)\n",
    "\n",
    "test_passages = padding(test_df.passage, MAX_LEN_PASSAGE)\n",
    "test_questions = padding(test_df.question, MAX_LEN_QUEST)"
   ]
  },
  {
   "cell_type": "code",
   "execution_count": 44,
   "metadata": {},
   "outputs": [],
   "source": [
    "def get_sentence_embeddings(sentence: List[str], model=ft_model):\n",
    "    word_embeds = []\n",
    "    for word in sentence:\n",
    "        word_embeds.append(model[word])\n",
    "    return word_embeds"
   ]
  },
  {
   "cell_type": "code",
   "execution_count": 45,
   "metadata": {
    "ExecuteTime": {
     "end_time": "2020-04-12T22:03:12.714019Z",
     "start_time": "2020-04-12T22:03:12.710362Z"
    }
   },
   "outputs": [],
   "source": [
    "def get_embeddings(sentences: List[List[str]], model=ft_model):\n",
    "    embeds = []\n",
    "    size = None\n",
    "    for sentence in tqdm(sentences):\n",
    "        assert not size or size == len(sentence)\n",
    "        embeds.append(get_sentence_embeddings(sentence,model=model))\n",
    "        size = len(embeds[-1])\n",
    "    return np.array(embeds, dtype='float32')"
   ]
  },
  {
   "cell_type": "markdown",
   "metadata": {},
   "source": [
    "#### match_features: встречается ли слово в вопросе или нет"
   ]
  },
  {
   "cell_type": "code",
   "execution_count": 46,
   "metadata": {
    "ExecuteTime": {
     "end_time": "2020-04-12T22:03:13.941276Z",
     "start_time": "2020-04-12T22:03:13.936846Z"
    }
   },
   "outputs": [],
   "source": [
    "def get_match_features(df):\n",
    "    match_features = []\n",
    "    for i in tqdm(range(len(df))):\n",
    "        p = df.iloc[i].passage.split()\n",
    "        q = df.iloc[i].question.split()\n",
    "        ft = []\n",
    "        for i in range(MAX_LEN_PASSAGE):\n",
    "            if i < len(p):\n",
    "                ft.append([int(p[i] in q)])\n",
    "            else:\n",
    "                ft.append([0])\n",
    "        match_features.append(np.array(ft))\n",
    "    return np.array(match_features)"
   ]
  },
  {
   "cell_type": "markdown",
   "metadata": {},
   "source": [
    "#### POS_features: one-hot векторов часть речи слова"
   ]
  },
  {
   "cell_type": "code",
   "execution_count": 47,
   "metadata": {},
   "outputs": [
    {
     "data": {
      "text/plain": [
       "(14,\n",
       " ['NN',\n",
       "  'IN',\n",
       "  'DT',\n",
       "  'JJ',\n",
       "  'NNS',\n",
       "  'CD',\n",
       "  'CC',\n",
       "  'VBN',\n",
       "  'RB',\n",
       "  'VBZ',\n",
       "  'VBD',\n",
       "  'VB',\n",
       "  'TO',\n",
       "  ''])"
      ]
     },
     "execution_count": 47,
     "metadata": {},
     "output_type": "execute_result"
    }
   ],
   "source": [
    "# оставляем среди частей речи только самые частые и train (иначе получалось 45 фичей и плохо обучалась DRQA)\n",
    "most_common = [\n",
    " ('NN', 24470),\n",
    " ('IN', 12576),\n",
    " ('DT', 10783),\n",
    " ('JJ', 9921),\n",
    " ('NNS', 6422),\n",
    "# (',', 5842),\n",
    "# ('.', 4369),\n",
    " ('CD', 4187),\n",
    " ('CC', 3669),\n",
    " ('VBN', 3339),\n",
    " ('RB', 3059),\n",
    " ('VBZ', 2987),\n",
    " ('VBD', 2173),\n",
    " ('VB', 2113),\n",
    " ('TO', 1903),\n",
    " ('', 0),\n",
    "]\n",
    "POS_TAGS_LIST = [tag for tag, _ in most_common]\n",
    "len(POS_TAGS_LIST), POS_TAGS_LIST"
   ]
  },
  {
   "cell_type": "code",
   "execution_count": 48,
   "metadata": {},
   "outputs": [],
   "source": [
    "def filter_pos_tags(pos_tags: List[Tuple[str, str]]) -> Iterable[str]:\n",
    "    for word, tag in pos_tags:\n",
    "        if tag in POS_TAGS_LIST:\n",
    "            yield tag\n",
    "        else:\n",
    "            yield 'OTHER'\n",
    "    "
   ]
  },
  {
   "cell_type": "code",
   "execution_count": 49,
   "metadata": {},
   "outputs": [],
   "source": [
    "def my_pos_tag(sentence):\n",
    "    real_len = -1 if '' not in sentence else sentence.index('')\n",
    "    if real_len == -1:\n",
    "        return nltk.pos_tag(sentence)\n",
    "    tags = nltk.pos_tag(sentence[:real_len])\n",
    "    rest = [('','')] * (len(sentence) - real_len)\n",
    "    return tags + rest"
   ]
  },
  {
   "cell_type": "code",
   "execution_count": 50,
   "metadata": {},
   "outputs": [],
   "source": [
    "def get_pos_tags(sentences):\n",
    "    sentence_pos_tags = []\n",
    "    pos_tags_set = set()\n",
    "    for sentence in tqdm(sentences):\n",
    "        L = []\n",
    "        tags = my_pos_tag(sentence)\n",
    "        assert len(tags) == len(sentence)\n",
    "        assert sentence == [word for word, tag in tags]\n",
    "        sentence_pos_tags.append(\n",
    "            list(filter_pos_tags(tags))\n",
    "        )\n",
    "        #print(sentence_pos_tags[-1])\n",
    "        pos_tags_set |= set(sentence_pos_tags[-1])\n",
    "    return np.array(sentence_pos_tags), pos_tags_set"
   ]
  },
  {
   "cell_type": "code",
   "execution_count": 51,
   "metadata": {},
   "outputs": [
    {
     "data": {
      "application/vnd.jupyter.widget-view+json": {
       "model_id": "0b387af5de804e18be90838ab9c00a2d",
       "version_major": 2,
       "version_minor": 0
      },
      "text/plain": [
       "HBox(children=(FloatProgress(value=0.0, max=9427.0), HTML(value='')))"
      ]
     },
     "metadata": {},
     "output_type": "display_data"
    },
    {
     "name": "stdout",
     "output_type": "stream",
     "text": [
      "\n"
     ]
    }
   ],
   "source": [
    "train_passage_poses, ALL_POS_TAGS = get_pos_tags(train_passages)"
   ]
  },
  {
   "cell_type": "code",
   "execution_count": 52,
   "metadata": {},
   "outputs": [
    {
     "data": {
      "application/vnd.jupyter.widget-view+json": {
       "model_id": "efab33fe47734698977fbda99ecec695",
       "version_major": 2,
       "version_minor": 0
      },
      "text/plain": [
       "HBox(children=(FloatProgress(value=0.0, max=2190.0), HTML(value='')))"
      ]
     },
     "metadata": {},
     "output_type": "display_data"
    },
    {
     "name": "stdout",
     "output_type": "stream",
     "text": [
      "\n"
     ]
    },
    {
     "data": {
      "application/vnd.jupyter.widget-view+json": {
       "model_id": "c537dd5f32bb4c58928a184f08a491cd",
       "version_major": 2,
       "version_minor": 0
      },
      "text/plain": [
       "HBox(children=(FloatProgress(value=0.0, max=2190.0), HTML(value='')))"
      ]
     },
     "metadata": {},
     "output_type": "display_data"
    },
    {
     "name": "stdout",
     "output_type": "stream",
     "text": [
      "\n"
     ]
    }
   ],
   "source": [
    "dev_passage_poses, _ = get_pos_tags(dev_passages)\n",
    "test_passage_poses, _ = get_pos_tags(test_passages)"
   ]
  },
  {
   "cell_type": "code",
   "execution_count": 53,
   "metadata": {},
   "outputs": [
    {
     "name": "stdout",
     "output_type": "stream",
     "text": [
      "(9427, 350) (2190, 350) (2190, 350)\n"
     ]
    }
   ],
   "source": [
    "print(train_passage_poses.shape,\n",
    "    dev_passage_poses.shape,\n",
    "    test_passage_poses.shape)"
   ]
  },
  {
   "cell_type": "code",
   "execution_count": 54,
   "metadata": {},
   "outputs": [
    {
     "data": {
      "text/plain": [
       "OneHotEncoder(categories='auto', drop=None, dtype=<class 'numpy.float64'>,\n",
       "              handle_unknown='error', sparse=True)"
      ]
     },
     "execution_count": 54,
     "metadata": {},
     "output_type": "execute_result"
    }
   ],
   "source": [
    "pos_tag_encoder = OneHotEncoder()\n",
    "pos_tag_encoder.fit(train_passage_poses.reshape(-1, 1))"
   ]
  },
  {
   "cell_type": "code",
   "execution_count": 55,
   "metadata": {},
   "outputs": [
    {
     "data": {
      "text/plain": [
       "(15,\n",
       " [array(['', 'CC', 'CD', 'DT', 'IN', 'JJ', 'NN', 'NNS', 'OTHER', 'RB', 'TO',\n",
       "         'VB', 'VBD', 'VBN', 'VBZ'], dtype='<U5')])"
      ]
     },
     "execution_count": 55,
     "metadata": {},
     "output_type": "execute_result"
    }
   ],
   "source": [
    "len(pos_tag_encoder.categories_[0]), pos_tag_encoder.categories_"
   ]
  },
  {
   "cell_type": "code",
   "execution_count": 56,
   "metadata": {},
   "outputs": [],
   "source": [
    "POS_TAGS_DIM = len(pos_tag_encoder.categories_[0])"
   ]
  },
  {
   "cell_type": "code",
   "execution_count": 57,
   "metadata": {},
   "outputs": [],
   "source": [
    "def get_pos_tags_features(sentences):\n",
    "    size, words = sentences.shape\n",
    "    res = pos_tag_encoder.transform(sentences.reshape(-1, 1)).toarray()\n",
    "    return np.reshape(res, (size, words, -1))\n",
    "    "
   ]
  },
  {
   "cell_type": "code",
   "execution_count": 58,
   "metadata": {},
   "outputs": [
    {
     "data": {
      "text/plain": [
       "(9427, 350, 15)"
      ]
     },
     "execution_count": 58,
     "metadata": {},
     "output_type": "execute_result"
    }
   ],
   "source": [
    "train_pos_tags_passage_features = get_pos_tags_features(train_passage_poses)\n",
    "train_pos_tags_passage_features.shape"
   ]
  },
  {
   "cell_type": "code",
   "execution_count": 59,
   "metadata": {},
   "outputs": [
    {
     "name": "stdout",
     "output_type": "stream",
     "text": [
      "(2190, 350, 15)\n"
     ]
    },
    {
     "data": {
      "text/plain": [
       "(2190, 350, 15)"
      ]
     },
     "execution_count": 59,
     "metadata": {},
     "output_type": "execute_result"
    }
   ],
   "source": [
    "dev_pos_tags_passage_features = get_pos_tags_features(dev_passage_poses)\n",
    "print(dev_pos_tags_passage_features.shape)\n",
    "\n",
    "test_pos_tags_passage_features = get_pos_tags_features(test_passage_poses)\n",
    "test_pos_tags_passage_features.shape"
   ]
  },
  {
   "cell_type": "markdown",
   "metadata": {},
   "source": [
    "#### NER features: является ли слово именованной сущностью"
   ]
  },
  {
   "cell_type": "code",
   "execution_count": 146,
   "metadata": {
    "init_cell": true
   },
   "outputs": [],
   "source": [
    "import nltk\n",
    "\n",
    "from nltk import word_tokenize, pos_tag, ne_chunk\n",
    "from nltk.chunk import conlltags2tree, tree2conlltags\n"
   ]
  },
  {
   "cell_type": "code",
   "execution_count": 61,
   "metadata": {},
   "outputs": [],
   "source": [
    "NER_FEATURES_DIM = 1"
   ]
  },
  {
   "cell_type": "markdown",
   "metadata": {},
   "source": [
    "StanfordNERTagger и spacy использовать сходу не получилось, так как они по-своему токенизирует и позиция слова в предложении теряется"
   ]
  },
  {
   "cell_type": "code",
   "execution_count": 62,
   "metadata": {},
   "outputs": [],
   "source": [
    "# from nltk.tag.stanford import StanfordNERTagger\n",
    "# jar = './stanford-ner-2018-10-16/stanford-ner-3.9.2.jar'\n",
    "# model = './stanford-ner-2018-10-16/classifiers/english.all.3class.distsim.crf.ser.gz'\n",
    "\n",
    "# Prepare NER tagger with english model\n",
    "# ner_tagger = StanfordNERTagger(model, jar, encoding='utf8')"
   ]
  },
  {
   "cell_type": "code",
   "execution_count": 63,
   "metadata": {},
   "outputs": [],
   "source": [
    "def get_NER_features(sentence):\n",
    "    # '' is bad for nltk, so replace it with some neutral string like '.'\n",
    "    sentence = [word if word else '.' for word in sentence]\n",
    "    tagged = tree2conlltags(ne_chunk(pos_tag(sentence)))\n",
    "    return [[ner_tag != 'O'] for word, _, ner_tag in tagged]"
   ]
  },
  {
   "cell_type": "code",
   "execution_count": 64,
   "metadata": {},
   "outputs": [],
   "source": [
    "def get_NER_features_unparallel(sentences):\n",
    "    return list(tqdm(map(get_NER_features, sentences), total=len(sentences)))"
   ]
  },
  {
   "cell_type": "code",
   "execution_count": 65,
   "metadata": {},
   "outputs": [],
   "source": [
    "def get_NER_features_parallel(sentences, pool):\n",
    "    return list(tqdm(pool.imap(get_NER_features, sentences), total=len(sentences)))"
   ]
  },
  {
   "cell_type": "code",
   "execution_count": 66,
   "metadata": {},
   "outputs": [],
   "source": [
    "# get_NER_features_unparallel(train_passages[:1])"
   ]
  },
  {
   "cell_type": "code",
   "execution_count": 67,
   "metadata": {},
   "outputs": [
    {
     "data": {
      "application/vnd.jupyter.widget-view+json": {
       "model_id": "fffa7930f2b14641a035fbc792627433",
       "version_major": 2,
       "version_minor": 0
      },
      "text/plain": [
       "HBox(children=(FloatProgress(value=0.0, max=9427.0), HTML(value='')))"
      ]
     },
     "metadata": {},
     "output_type": "display_data"
    },
    {
     "name": "stdout",
     "output_type": "stream",
     "text": [
      "\n"
     ]
    }
   ],
   "source": [
    "with multiprocessing.Pool(N_THREADS) as pool:\n",
    "    train_ner_features = get_NER_features_parallel(train_passages, pool)\n",
    "    train_ner_features = np.array(train_ner_features)"
   ]
  },
  {
   "cell_type": "code",
   "execution_count": 68,
   "metadata": {},
   "outputs": [
    {
     "data": {
      "application/vnd.jupyter.widget-view+json": {
       "model_id": "406286005fe24816b2d88d582c9c08ba",
       "version_major": 2,
       "version_minor": 0
      },
      "text/plain": [
       "HBox(children=(FloatProgress(value=0.0, max=2190.0), HTML(value='')))"
      ]
     },
     "metadata": {},
     "output_type": "display_data"
    },
    {
     "name": "stdout",
     "output_type": "stream",
     "text": [
      "\n"
     ]
    },
    {
     "data": {
      "application/vnd.jupyter.widget-view+json": {
       "model_id": "6c9bcdcba0c14b58b282136fc6c2d395",
       "version_major": 2,
       "version_minor": 0
      },
      "text/plain": [
       "HBox(children=(FloatProgress(value=0.0, max=2190.0), HTML(value='')))"
      ]
     },
     "metadata": {},
     "output_type": "display_data"
    },
    {
     "name": "stdout",
     "output_type": "stream",
     "text": [
      "\n"
     ]
    }
   ],
   "source": [
    "with multiprocessing.Pool(N_THREADS) as pool:\n",
    "    dev_ner_features = get_NER_features_parallel(dev_passages, pool)\n",
    "    dev_ner_features = np.array(dev_ner_features)\n",
    "    \n",
    "    test_ner_features = get_NER_features_parallel(test_passages, pool)\n",
    "    test_ner_features = np.array(test_ner_features)"
   ]
  },
  {
   "cell_type": "code",
   "execution_count": 69,
   "metadata": {},
   "outputs": [
    {
     "name": "stdout",
     "output_type": "stream",
     "text": [
      "(9427, 350, 1)\n",
      "(2190, 350, 1)\n",
      "(2190, 350, 1)\n"
     ]
    }
   ],
   "source": [
    "print(train_ner_features.shape)\n",
    "print(dev_ner_features.shape)\n",
    "print(test_ner_features.shape)"
   ]
  },
  {
   "cell_type": "markdown",
   "metadata": {},
   "source": [
    "**Получаемy one-hot encoding для y**"
   ]
  },
  {
   "cell_type": "code",
   "execution_count": 70,
   "metadata": {},
   "outputs": [],
   "source": [
    "# def get_y(df):\n",
    "#     answer = df.answer.values\n",
    "    \n",
    "#     indices = answer == True\n",
    "#     y = np.zeros(shape=(len(answer), 2))\n",
    "#     y[indices, 0] = 1\n",
    "#     y[~indices, 1] = 1\n",
    "#     return y"
   ]
  },
  {
   "cell_type": "code",
   "execution_count": 71,
   "metadata": {},
   "outputs": [],
   "source": [
    "def get_y(df):\n",
    "    answer = df.answer.values\n",
    "    \n",
    "    indices = answer == True\n",
    "    y = np.zeros(shape=(len(answer), 1))\n",
    "    y[indices, 0] = 1\n",
    "    return y"
   ]
  },
  {
   "cell_type": "code",
   "execution_count": 72,
   "metadata": {},
   "outputs": [],
   "source": [
    "y_train = get_y(train_df)\n",
    "y_dev = get_y(dev_df)\n",
    "y_test = get_y(test_df)"
   ]
  },
  {
   "cell_type": "markdown",
   "metadata": {},
   "source": [
    "**Всё вместе**"
   ]
  },
  {
   "cell_type": "code",
   "execution_count": 73,
   "metadata": {},
   "outputs": [],
   "source": [
    "TOKEN_FEATURES_DIM = POS_TAGS_DIM + NER_FEATURES_DIM"
   ]
  },
  {
   "cell_type": "code",
   "execution_count": 74,
   "metadata": {},
   "outputs": [],
   "source": [
    "def get_embeddings_df(df, passages, questions, pos_tags, ner_features):\n",
    "    passage_embeddings = get_embeddings(passages, model=ft_model)\n",
    "    print(f'passage_embeddings = {passage_embeddings.shape}')\n",
    "    \n",
    "    question_embeddings = get_embeddings(questions, model=ft_model)\n",
    "    print(f'question_embeddings = {question_embeddings.shape}')\n",
    "    \n",
    "    match_features = get_match_features(df)\n",
    "    print(f'match_features = {match_features.shape}')\n",
    "    \n",
    "    token_features = np.concatenate([pos_tags, ner_features], axis=2)\n",
    "    print(f'token_features = {token_features.shape}')\n",
    "    return passage_embeddings, question_embeddings, match_features, token_features"
   ]
  },
  {
   "cell_type": "code",
   "execution_count": 75,
   "metadata": {},
   "outputs": [
    {
     "data": {
      "application/vnd.jupyter.widget-view+json": {
       "model_id": "a2eaa48d32474974a729c2f34cc6baa8",
       "version_major": 2,
       "version_minor": 0
      },
      "text/plain": [
       "HBox(children=(FloatProgress(value=0.0, max=9427.0), HTML(value='')))"
      ]
     },
     "metadata": {},
     "output_type": "display_data"
    },
    {
     "name": "stdout",
     "output_type": "stream",
     "text": [
      "\n",
      "passage_embeddings = (9427, 350, 300)\n"
     ]
    },
    {
     "data": {
      "application/vnd.jupyter.widget-view+json": {
       "model_id": "9d49a7bb83ef464ba74903c844261fbb",
       "version_major": 2,
       "version_minor": 0
      },
      "text/plain": [
       "HBox(children=(FloatProgress(value=0.0, max=9427.0), HTML(value='')))"
      ]
     },
     "metadata": {},
     "output_type": "display_data"
    },
    {
     "name": "stdout",
     "output_type": "stream",
     "text": [
      "\n",
      "question_embeddings = (9427, 20, 300)\n"
     ]
    },
    {
     "data": {
      "application/vnd.jupyter.widget-view+json": {
       "model_id": "02e1546e3dc14c968ad69e5fbd80455d",
       "version_major": 2,
       "version_minor": 0
      },
      "text/plain": [
       "HBox(children=(FloatProgress(value=0.0, max=9427.0), HTML(value='')))"
      ]
     },
     "metadata": {},
     "output_type": "display_data"
    },
    {
     "name": "stdout",
     "output_type": "stream",
     "text": [
      "\n",
      "match_features = (9427, 350, 1)\n",
      "token_features = (9427, 350, 16)\n"
     ]
    }
   ],
   "source": [
    "train_embeds = get_embeddings_df(train_df, train_passages, train_questions, train_pos_tags_passage_features,train_ner_features)"
   ]
  },
  {
   "cell_type": "code",
   "execution_count": 76,
   "metadata": {},
   "outputs": [
    {
     "data": {
      "application/vnd.jupyter.widget-view+json": {
       "model_id": "4e68e6d1c67a421aa88ecd23b1dbdb2d",
       "version_major": 2,
       "version_minor": 0
      },
      "text/plain": [
       "HBox(children=(FloatProgress(value=0.0, max=2190.0), HTML(value='')))"
      ]
     },
     "metadata": {},
     "output_type": "display_data"
    },
    {
     "name": "stdout",
     "output_type": "stream",
     "text": [
      "\n",
      "passage_embeddings = (2190, 350, 300)\n"
     ]
    },
    {
     "data": {
      "application/vnd.jupyter.widget-view+json": {
       "model_id": "177274c7ee0549eab4cb0b147e4dc6b7",
       "version_major": 2,
       "version_minor": 0
      },
      "text/plain": [
       "HBox(children=(FloatProgress(value=0.0, max=2190.0), HTML(value='')))"
      ]
     },
     "metadata": {},
     "output_type": "display_data"
    },
    {
     "name": "stdout",
     "output_type": "stream",
     "text": [
      "\n",
      "question_embeddings = (2190, 20, 300)\n"
     ]
    },
    {
     "data": {
      "application/vnd.jupyter.widget-view+json": {
       "model_id": "65e8613a0ccf40c4874aa2d72a55ff55",
       "version_major": 2,
       "version_minor": 0
      },
      "text/plain": [
       "HBox(children=(FloatProgress(value=0.0, max=2190.0), HTML(value='')))"
      ]
     },
     "metadata": {},
     "output_type": "display_data"
    },
    {
     "name": "stdout",
     "output_type": "stream",
     "text": [
      "\n",
      "match_features = (2190, 350, 1)\n",
      "token_features = (2190, 350, 16)\n"
     ]
    },
    {
     "data": {
      "application/vnd.jupyter.widget-view+json": {
       "model_id": "9bda393ef44e4f1d9b856648b622ae54",
       "version_major": 2,
       "version_minor": 0
      },
      "text/plain": [
       "HBox(children=(FloatProgress(value=0.0, max=2190.0), HTML(value='')))"
      ]
     },
     "metadata": {},
     "output_type": "display_data"
    },
    {
     "name": "stdout",
     "output_type": "stream",
     "text": [
      "\n",
      "passage_embeddings = (2190, 350, 300)\n"
     ]
    },
    {
     "data": {
      "application/vnd.jupyter.widget-view+json": {
       "model_id": "d350f963dea74d69b387e63446545034",
       "version_major": 2,
       "version_minor": 0
      },
      "text/plain": [
       "HBox(children=(FloatProgress(value=0.0, max=2190.0), HTML(value='')))"
      ]
     },
     "metadata": {},
     "output_type": "display_data"
    },
    {
     "name": "stdout",
     "output_type": "stream",
     "text": [
      "\n",
      "question_embeddings = (2190, 20, 300)\n"
     ]
    },
    {
     "data": {
      "application/vnd.jupyter.widget-view+json": {
       "model_id": "a3689b68ab434fbba63af21093d66653",
       "version_major": 2,
       "version_minor": 0
      },
      "text/plain": [
       "HBox(children=(FloatProgress(value=0.0, max=2190.0), HTML(value='')))"
      ]
     },
     "metadata": {},
     "output_type": "display_data"
    },
    {
     "name": "stdout",
     "output_type": "stream",
     "text": [
      "\n",
      "match_features = (2190, 350, 1)\n",
      "token_features = (2190, 350, 16)\n"
     ]
    }
   ],
   "source": [
    "dev_embeds = get_embeddings_df(dev_df, dev_passages, dev_questions, dev_pos_tags_passage_features, dev_ner_features)\n",
    "test_embeds = get_embeddings_df(test_df, test_passages, test_questions, test_pos_tags_passage_features, test_ner_features)"
   ]
  },
  {
   "cell_type": "code",
   "execution_count": 77,
   "metadata": {},
   "outputs": [],
   "source": [
    "passage_embeddings, question_embeddings, match_features, token_features = train_embeds"
   ]
  },
  {
   "cell_type": "code",
   "execution_count": 78,
   "metadata": {},
   "outputs": [],
   "source": [
    "assert passage_embeddings.shape[-1] == FT_EMBEDS_DIM\n",
    "assert question_embeddings.shape[-1] == FT_EMBEDS_DIM\n",
    "assert match_features.shape[-1] == 1\n",
    "assert token_features.shape[-1] == TOKEN_FEATURES_DIM"
   ]
  },
  {
   "cell_type": "markdown",
   "metadata": {},
   "source": [
    "### Имплементация DRQA на keras"
   ]
  },
  {
   "cell_type": "code",
   "execution_count": 147,
   "metadata": {
    "ExecuteTime": {
     "end_time": "2020-04-12T21:09:24.031499Z",
     "start_time": "2020-04-12T21:09:24.026835Z"
    },
    "init_cell": true
   },
   "outputs": [],
   "source": [
    "np.random.seed(42)\n",
    "tf.random.set_seed(42)"
   ]
  },
  {
   "cell_type": "code",
   "execution_count": 80,
   "metadata": {},
   "outputs": [],
   "source": [
    "class Layer(object):\n",
    "    _name_dict = defaultdict(int)\n",
    "\n",
    "    def __init__(self, name=None):\n",
    "        if name is None:\n",
    "            name = \"layer\"\n",
    "\n",
    "        self.name = name + \"_\" + str(self._name_dict[name] + 1)\n",
    "        self._name_dict[name] += 1"
   ]
  },
  {
   "cell_type": "code",
   "execution_count": 81,
   "metadata": {
    "ExecuteTime": {
     "end_time": "2020-04-12T21:09:28.386008Z",
     "start_time": "2020-04-12T21:09:28.381036Z"
    }
   },
   "outputs": [],
   "source": [
    "class QuestionEncoding(Layer):\n",
    "    def __init__(self, \n",
    "                 quest_lstm=4,\n",
    "                 dropout=0.3,\n",
    "                 recurrent_dropout=0\n",
    "                ):\n",
    "        super(QuestionEncoding, self).__init__()\n",
    "        #self.question_lstm = tf.keras.layers.Bidirectional(\n",
    "        #    tf.keras.layers.LSTM(quest_lstm, return_sequences=True))\n",
    "        self.question_lstms = []\n",
    "        for i in range(3):\n",
    "            self.question_lstms.append(\n",
    "                tf.keras.layers.Bidirectional(\n",
    "                   tf.keras.layers.LSTM(\n",
    "                       quest_lstm, \n",
    "                       return_sequences=True, \n",
    "                       dropout=dropout,\n",
    "                       recurrent_dropout=recurrent_dropout,\n",
    "                       name=f'question_BiLSTM_{i}'))\n",
    "            )\n",
    "        self.question_dense = tf.keras.layers.Dense(1, use_bias=False)\n",
    "\n",
    "    def __call__(self, inputs):\n",
    "#         lstm_h = self.question_lstm(inputs)\n",
    "        lstm_h = inputs\n",
    "        for i in range(len(self.question_lstms)):\n",
    "            lstm_h = self.question_lstms[i](lstm_h)\n",
    "        # attention\n",
    "        b = tf.nn.softmax(self.question_dense(lstm_h))\n",
    "        q = tf.multiply(b, lstm_h)\n",
    "        q = tf.reduce_sum(q, axis=1)\n",
    "        return q"
   ]
  },
  {
   "cell_type": "code",
   "execution_count": 82,
   "metadata": {
    "ExecuteTime": {
     "end_time": "2020-04-12T21:15:03.121173Z",
     "start_time": "2020-04-12T21:15:03.111160Z"
    }
   },
   "outputs": [],
   "source": [
    "class ParagraphEncodingLayer(Layer):\n",
    "    def __init__(self,\n",
    "                 alpha_dim,\n",
    "                 passage_lstm,\n",
    "                 dropout=0.3,\n",
    "                 recurrent_dropout=0\n",
    "                ):\n",
    "        super(ParagraphEncodingLayer, self).__init__()\n",
    "        self.alpha = tf.keras.layers.Dense(alpha_dim,\n",
    "                                           activation='relu',\n",
    "                                           use_bias=False)\n",
    "        self.passage_lstms = []\n",
    "        for i in range(3):\n",
    "            self.passage_lstms.append(\n",
    "                tf.keras.layers.Bidirectional(\n",
    "                    tf.keras.layers.LSTM(\n",
    "                        passage_lstm, return_sequences=True, dropout=dropout, recurrent_dropout=recurrent_dropout)))\n",
    "        \n",
    "#         self.passage_lstm = tf.keras.layers.Bidirectional(\n",
    "#             tf.keras.layers.LSTM(passage_lstm, return_sequences=True, dropout=dropout, recurrent_dropout=recurrent_dropout))\n",
    "        \n",
    "\n",
    "    def __call__(self, passage_embeds, question_embeds, match_features, token_features):\n",
    "        passage_alpha = self.alpha(passage_embeds)\n",
    "        question_alpha = self.alpha(question_embeds)\n",
    "\n",
    "        # (batch, 350, 2) , (batch, 30, 2) --> (batch, 350, 30)\n",
    "        product = tf.matmul(passage_alpha, question_alpha, transpose_b=True)\n",
    "        a = tf.nn.softmax(product, axis=2)\n",
    "        \n",
    "        f_align = tf.matmul(a, question_embeds)\n",
    "        \n",
    "#         features = tf.concat([passage_embeds,  match_features, f_align], axis=2)\n",
    "        features = tf.concat([passage_embeds,  match_features, token_features, f_align], axis=2)\n",
    "\n",
    "#         lstm = self.passage_lstm(features)\n",
    "        lstm = features\n",
    "        for i in range(len(self.passage_lstms)):\n",
    "            lstm = self.passage_lstms[i](lstm)\n",
    "        return lstm"
   ]
  },
  {
   "cell_type": "code",
   "execution_count": 83,
   "metadata": {
    "ExecuteTime": {
     "end_time": "2020-04-12T21:28:20.301356Z",
     "start_time": "2020-04-12T21:28:20.293097Z"
    }
   },
   "outputs": [],
   "source": [
    "class BiLinear2(Layer):\n",
    "    def __init__(self, name=\"bi_linear\", hidden_units=1):\n",
    "        super(BiLinear2, self).__init__(name)\n",
    "        self.hidden_units = hidden_units\n",
    "        self.projecting_layer = tf.keras.layers.Dense(self.hidden_units,\n",
    "                                                          activation=None,\n",
    "                                                          use_bias=False)\n",
    "\n",
    "    def __call__(self, t0, t1):\n",
    "        # (?, 350, 22)\n",
    "        t0 = self.projecting_layer(t0)\n",
    "        # (?, 350, hidden_units)\n",
    "        # t0 = tf.expand_dims(t0, axis=2)\n",
    "        # (?, 350, 1, hidden_units)\n",
    "        \n",
    "#         (?, 8)\n",
    "        t1 = tf.expand_dims(t1, axis=2)\n",
    "        res = tf.squeeze(tf.matmul(t0, t1), axis=2)\n",
    "\n",
    "        return res"
   ]
  },
  {
   "cell_type": "code",
   "execution_count": 84,
   "metadata": {
    "ExecuteTime": {
     "end_time": "2020-04-12T21:33:53.525923Z",
     "start_time": "2020-04-12T21:33:53.521084Z"
    }
   },
   "outputs": [],
   "source": [
    "class PredictionLayer(Layer):\n",
    "    def __init__(self, question_hidden_size):\n",
    "        super(PredictionLayer, self).__init__()\n",
    "        self.question_hidden_size = question_hidden_size\n",
    "        self.bilinear = BiLinear2(hidden_units=self.question_hidden_size)\n",
    "        self.dense = tf.keras.layers.Dense(1, activation='sigmoid', use_bias=True)\n",
    "    \n",
    "    def __call__(self, passage_embeddings, question_embeddings):\n",
    "        p = self.bilinear(passage_embeddings, question_embeddings)\n",
    "\n",
    "        # p.shape = (?, 350)\n",
    "        p_yes_no = self.dense(p)\n",
    "\n",
    "        return p_yes_no"
   ]
  },
  {
   "cell_type": "code",
   "execution_count": 85,
   "metadata": {
    "ExecuteTime": {
     "end_time": "2020-04-12T21:33:53.731540Z",
     "start_time": "2020-04-12T21:33:53.723482Z"
    }
   },
   "outputs": [],
   "source": [
    "def drqa(*,\n",
    "         passage_size,\n",
    "         question_size,\n",
    "         embeds_dim,\n",
    "         match_dim,\n",
    "         token_features_dim,\n",
    "         alpha_dim,\n",
    "         passage_lstm,\n",
    "         question_lstm,\n",
    "         paragraph_params=dict(), \n",
    "         question_params=dict()):\n",
    "    question_input = tf.keras.Input(shape=(question_size, embeds_dim),\n",
    "                                    name='question')\n",
    "    passage_input = tf.keras.Input(shape=(passage_size, embeds_dim),\n",
    "                                   name='passage')\n",
    "    match_input = tf.keras.Input(shape=(passage_size, match_dim),\n",
    "                                 name='exact_match')\n",
    "    token_features_input = tf.keras.Input(\n",
    "        shape=(passage_size, token_features_dim),\n",
    "        name='token_features'\n",
    "    )\n",
    "\n",
    "    passage_encoder = ParagraphEncodingLayer(alpha_dim=alpha_dim, passage_lstm=passage_lstm, **paragraph_params)\n",
    "    passage_features = passage_encoder(passage_input, question_input,\n",
    "                                       match_input, token_features_input)\n",
    "\n",
    "    question_encoder = QuestionEncoding(quest_lstm=question_lstm, **question_params)\n",
    "    question_features = question_encoder(question_input)\n",
    "\n",
    "    question_hidden_size = 2 * question_lstm\n",
    "    prediction_layer = PredictionLayer(question_hidden_size=question_hidden_size)\n",
    "    prediction = prediction_layer(passage_features, question_features)\n",
    "\n",
    "    # Instantiate an end-to-end model predicting both priority and department\n",
    "    model = tf.keras.Model(\n",
    "        inputs=[\n",
    "            question_input, passage_input, match_input, token_features_input\n",
    "        ],\n",
    "        outputs=[prediction]\n",
    "    )\n",
    "    return model"
   ]
  },
  {
   "cell_type": "code",
   "execution_count": 86,
   "metadata": {},
   "outputs": [],
   "source": [
    "ALPHA_DIM = 1\n",
    "LSTM_PASSAGE_DIM = 16\n",
    "LSTM_QUESTION_DIM = 16\n",
    "\n",
    "BATCH_SIZES = [512]\n",
    "EPOCHS = 10"
   ]
  },
  {
   "cell_type": "code",
   "execution_count": 835,
   "metadata": {
    "ExecuteTime": {
     "end_time": "2020-04-12T21:34:10.683082Z",
     "start_time": "2020-04-12T21:34:09.817700Z"
    }
   },
   "outputs": [],
   "source": [
    "# question = np.random.random([3, 30, 256])\n",
    "# passage = np.random.random([3, 350, 256])\n",
    "# match_ft = np.random.random([3, 350, 3])\n",
    "# token_ft = np.random.random([3, 350, 2])\n",
    "\n",
    "_model = drqa(\n",
    "    passage_size=MAX_LEN_PASSAGE, \n",
    "    question_size=MAX_LEN_QUEST, \n",
    "    embeds_dim=FT_EMBEDS_DIM, \n",
    "    match_dim=1,\n",
    "    token_features_dim=TOKEN_FEATURES_DIM,\n",
    "    alpha_dim=ALPHA_DIM,\n",
    "    passage_lstm=LSTM_PASSAGE_DIM,\n",
    "    question_lstm=LSTM_QUESTION_DIM)"
   ]
  },
  {
   "cell_type": "code",
   "execution_count": 836,
   "metadata": {},
   "outputs": [],
   "source": [
    "_model.compile(optimizer='adam', loss='binary_crossentropy', metrics=['accuracy'])"
   ]
  },
  {
   "cell_type": "code",
   "execution_count": 837,
   "metadata": {},
   "outputs": [
    {
     "data": {
      "text/plain": [
       "350684400"
      ]
     },
     "execution_count": 837,
     "metadata": {},
     "output_type": "execute_result"
    }
   ],
   "source": [
    "train_df.shape[0]*(300*100 + 300*10 + 40*100 + 1*100 + 100)"
   ]
  },
  {
   "cell_type": "code",
   "execution_count": 838,
   "metadata": {},
   "outputs": [
    {
     "name": "stdout",
     "output_type": "stream",
     "text": [
      "Model: \"model_49\"\n",
      "__________________________________________________________________________________________________\n",
      "Layer (type)                    Output Shape         Param #     Connected to                     \n",
      "==================================================================================================\n",
      "passage (InputLayer)            [(None, 350, 300)]   0                                            \n",
      "__________________________________________________________________________________________________\n",
      "question (InputLayer)           [(None, 20, 300)]    0                                            \n",
      "__________________________________________________________________________________________________\n",
      "dense_212 (Dense)               multiple             300         passage[0][0]                    \n",
      "                                                                 question[0][0]                   \n",
      "__________________________________________________________________________________________________\n",
      "tf_op_layer_MatMul_158 (TensorF [(None, 350, 20)]    0           dense_212[0][0]                  \n",
      "                                                                 dense_212[1][0]                  \n",
      "__________________________________________________________________________________________________\n",
      "bidirectional_183 (Bidirectiona (None, 20, 32)       40576       question[0][0]                   \n",
      "__________________________________________________________________________________________________\n",
      "tf_op_layer_Softmax_65 (TensorF [(None, 350, 20)]    0           tf_op_layer_MatMul_158[0][0]     \n",
      "__________________________________________________________________________________________________\n",
      "bidirectional_184 (Bidirectiona (None, 20, 32)       6272        bidirectional_183[0][0]          \n",
      "__________________________________________________________________________________________________\n",
      "exact_match (InputLayer)        [(None, 350, 1)]     0                                            \n",
      "__________________________________________________________________________________________________\n",
      "tf_op_layer_MatMul_159 (TensorF [(None, 350, 300)]   0           tf_op_layer_Softmax_65[0][0]     \n",
      "                                                                 question[0][0]                   \n",
      "__________________________________________________________________________________________________\n",
      "bidirectional_185 (Bidirectiona (None, 20, 32)       6272        bidirectional_184[0][0]          \n",
      "__________________________________________________________________________________________________\n",
      "tf_op_layer_concat_53 (TensorFl [(None, 350, 601)]   0           passage[0][0]                    \n",
      "                                                                 exact_match[0][0]                \n",
      "                                                                 tf_op_layer_MatMul_159[0][0]     \n",
      "__________________________________________________________________________________________________\n",
      "dense_213 (Dense)               (None, 20, 1)        32          bidirectional_185[0][0]          \n",
      "__________________________________________________________________________________________________\n",
      "bidirectional_180 (Bidirectiona (None, 350, 32)      79104       tf_op_layer_concat_53[0][0]      \n",
      "__________________________________________________________________________________________________\n",
      "tf_op_layer_Softmax_66 (TensorF [(None, 20, 1)]      0           dense_213[0][0]                  \n",
      "__________________________________________________________________________________________________\n",
      "bidirectional_181 (Bidirectiona (None, 350, 32)      6272        bidirectional_180[0][0]          \n",
      "__________________________________________________________________________________________________\n",
      "tf_op_layer_Mul_10 (TensorFlowO [(None, 20, 32)]     0           tf_op_layer_Softmax_66[0][0]     \n",
      "                                                                 bidirectional_185[0][0]          \n",
      "__________________________________________________________________________________________________\n",
      "bidirectional_182 (Bidirectiona (None, 350, 32)      6272        bidirectional_181[0][0]          \n",
      "__________________________________________________________________________________________________\n",
      "tf_op_layer_Sum_10 (TensorFlowO [(None, 32)]         0           tf_op_layer_Mul_10[0][0]         \n",
      "__________________________________________________________________________________________________\n",
      "dense_214 (Dense)               (None, 350, 32)      1024        bidirectional_182[0][0]          \n",
      "__________________________________________________________________________________________________\n",
      "tf_op_layer_ExpandDims_52 (Tens [(None, 32, 1)]      0           tf_op_layer_Sum_10[0][0]         \n",
      "__________________________________________________________________________________________________\n",
      "tf_op_layer_MatMul_160 (TensorF [(None, 350, 1)]     0           dense_214[0][0]                  \n",
      "                                                                 tf_op_layer_ExpandDims_52[0][0]  \n",
      "__________________________________________________________________________________________________\n",
      "tf_op_layer_Squeeze_52 (TensorF [(None, 350)]        0           tf_op_layer_MatMul_160[0][0]     \n",
      "__________________________________________________________________________________________________\n",
      "token_features (InputLayer)     [(None, 350, 47)]    0                                            \n",
      "__________________________________________________________________________________________________\n",
      "dense_215 (Dense)               (None, 1)            351         tf_op_layer_Squeeze_52[0][0]     \n",
      "==================================================================================================\n",
      "Total params: 146,475\n",
      "Trainable params: 146,475\n",
      "Non-trainable params: 0\n",
      "__________________________________________________________________________________________________\n"
     ]
    }
   ],
   "source": [
    "_model.summary()"
   ]
  },
  {
   "cell_type": "code",
   "execution_count": 793,
   "metadata": {
    "ExecuteTime": {
     "end_time": "2020-04-12T21:34:12.082306Z",
     "start_time": "2020-04-12T21:34:11.792995Z"
    },
    "scrolled": true
   },
   "outputs": [
    {
     "data": {
      "image/png": "[encoded data removed]",
      "text/plain": [
       "<IPython.core.display.Image object>"
      ]
     },
     "execution_count": 793,
     "metadata": {},
     "output_type": "execute_result"
    }
   ],
   "source": [
    "tf.keras.utils.plot_model(_model, 'drqa.png', show_shapes=True)"
   ]
  },
  {
   "cell_type": "code",
   "execution_count": 840,
   "metadata": {},
   "outputs": [],
   "source": [
    "def plot_history(train, dev):\n",
    "    epoch_count = range(1, len(train) + 1)\n",
    "\n",
    "    plt.plot(epoch_count, train)\n",
    "    plt.plot(epoch_count, dev)\n",
    "    plt.legend(['train', 'dev'])\n",
    "    plt.xlabel('epoch')\n",
    "    plt.ylabel('accuracy')\n",
    "    plt.show()"
   ]
  },
  {
   "cell_type": "code",
   "execution_count": 841,
   "metadata": {},
   "outputs": [],
   "source": [
    "def X_to_inputs(X):\n",
    "    passage_embeddings, question_embeddings, match_features, token_features = X\n",
    "    return {\n",
    "         'passage': passage_embeddings,\n",
    "         'question': question_embeddings,\n",
    "         'token_features': token_features,\n",
    "         'exact_match': match_features,\n",
    "    }"
   ]
  },
  {
   "cell_type": "code",
   "execution_count": 842,
   "metadata": {},
   "outputs": [],
   "source": [
    "def evaluate_model(current_model, X_test, y_test, do_print=False):\n",
    "    acc = current_model.evaluate(X_to_inputs(X_test), y_test)\n",
    "    return acc"
   ]
  },
  {
   "cell_type": "code",
   "execution_count": 843,
   "metadata": {},
   "outputs": [],
   "source": [
    "def train_model(\n",
    "    current_model, model_name, X, y, X_dev, y_dev, compute_class_weight=False,\n",
    "    batch_sizes=BATCH_SIZES, epochs=EPOCHS, verbose=1,\n",
    "):\n",
    "    \n",
    "    if compute_class_weight:\n",
    "        class_weight = compute_sample_weight('balanced', np.unique(y), y)\n",
    "    else:\n",
    "        class_weight = None\n",
    "    \n",
    "    checkpoint_path = f'models/{model_name}/chkpt/{model_name}.checkpoint'\n",
    "    final_path = f'models/{model_name}/tf/{model_name}'\n",
    "\n",
    "    save_checkpoint = tf.keras.callbacks.ModelCheckpoint(\n",
    "        checkpoint_path, monitor='val_loss', verbose=verbose,\n",
    "        save_best_only=True, save_weights_only=True,\n",
    "        save_freq='epoch')\n",
    "    \n",
    "    train_acc = []\n",
    "    dev_acc = []\n",
    "\n",
    "    for batch_size in batch_sizes:\n",
    "        if verbose:\n",
    "            print(batch_size)\n",
    "        history = current_model.fit(\n",
    "            X_to_inputs(X),\n",
    "            y,\n",
    "            validation_data=(\n",
    "                X_to_inputs(X_dev),\n",
    "                y_dev),\n",
    "            callbacks=[save_checkpoint],\n",
    "            epochs=epochs,\n",
    "            verbose=verbose,\n",
    "            class_weight=class_weight,\n",
    "            batch_size=batch_size)\n",
    "\n",
    "        train_acc.extend(history.history['accuracy'])\n",
    "        dev_acc.extend(history.history['val_accuracy'])\n",
    "    current_model.save_weights(final_path)\n",
    "    plot_history(train_acc, dev_acc)"
   ]
  },
  {
   "cell_type": "markdown",
   "metadata": {},
   "source": [
    "## !!!!!!!!!!!!!!!!!!1"
   ]
  },
  {
   "cell_type": "code",
   "execution_count": 824,
   "metadata": {},
   "outputs": [
    {
     "name": "stdout",
     "output_type": "stream",
     "text": [
      "512\n",
      "Train on 9427 samples, validate on 2190 samples\n",
      "Epoch 1/10\n",
      "9216/9427 [============================>.] - ETA: 2s - loss: 0.6806 - accuracy: 0.5971\n",
      "Epoch 00001: val_loss improved from inf to 0.66721, saving model to models/test_model/chkpt/test_model.checkpoint\n",
      "9427/9427 [==============================] - 101s 11ms/sample - loss: 0.6804 - accuracy: 0.5974 - val_loss: 0.6672 - val_accuracy: 0.6224\n",
      "Epoch 2/10\n",
      "9216/9427 [============================>.] - ETA: 1s - loss: 0.6659 - accuracy: 0.6217\n",
      "Epoch 00002: val_loss improved from 0.66721 to 0.66050, saving model to models/test_model/chkpt/test_model.checkpoint\n",
      "9427/9427 [==============================] - 72s 8ms/sample - loss: 0.6658 - accuracy: 0.6217 - val_loss: 0.6605 - val_accuracy: 0.6219\n",
      "Epoch 3/10\n",
      "9216/9427 [============================>.] - ETA: 1s - loss: 0.6587 - accuracy: 0.6247\n",
      "Epoch 00003: val_loss improved from 0.66050 to 0.65794, saving model to models/test_model/chkpt/test_model.checkpoint\n",
      "9427/9427 [==============================] - 72s 8ms/sample - loss: 0.6589 - accuracy: 0.6246 - val_loss: 0.6579 - val_accuracy: 0.6224\n",
      "Epoch 4/10\n",
      "9216/9427 [============================>.] - ETA: 1s - loss: 0.6574 - accuracy: 0.6223\n",
      "Epoch 00004: val_loss did not improve from 0.65794\n",
      "9427/9427 [==============================] - 72s 8ms/sample - loss: 0.6572 - accuracy: 0.6224 - val_loss: 0.6613 - val_accuracy: 0.6247\n",
      "Epoch 5/10\n",
      "9216/9427 [============================>.] - ETA: 1s - loss: 0.6546 - accuracy: 0.6222\n",
      "Epoch 00005: val_loss improved from 0.65794 to 0.65272, saving model to models/test_model/chkpt/test_model.checkpoint\n",
      "9427/9427 [==============================] - 72s 8ms/sample - loss: 0.6536 - accuracy: 0.6227 - val_loss: 0.6527 - val_accuracy: 0.6251\n",
      "Epoch 6/10\n",
      "9216/9427 [============================>.] - ETA: 1s - loss: 0.6480 - accuracy: 0.6287\n",
      "Epoch 00006: val_loss did not improve from 0.65272\n",
      "9427/9427 [==============================] - 72s 8ms/sample - loss: 0.6478 - accuracy: 0.6285 - val_loss: 0.6533 - val_accuracy: 0.6265\n",
      "Epoch 7/10\n",
      "9216/9427 [============================>.] - ETA: 1s - loss: 0.6430 - accuracy: 0.6379\n",
      "Epoch 00007: val_loss improved from 0.65272 to 0.64992, saving model to models/test_model/chkpt/test_model.checkpoint\n",
      "9427/9427 [==============================] - 72s 8ms/sample - loss: 0.6420 - accuracy: 0.6385 - val_loss: 0.6499 - val_accuracy: 0.6301\n",
      "Epoch 8/10\n",
      "9216/9427 [============================>.] - ETA: 1s - loss: 0.6391 - accuracy: 0.6382\n",
      "Epoch 00008: val_loss improved from 0.64992 to 0.64714, saving model to models/test_model/chkpt/test_model.checkpoint\n",
      "9427/9427 [==============================] - 71s 8ms/sample - loss: 0.6387 - accuracy: 0.6391 - val_loss: 0.6471 - val_accuracy: 0.6361\n",
      "Epoch 9/10\n",
      "9216/9427 [============================>.] - ETA: 1s - loss: 0.6371 - accuracy: 0.6412\n",
      "Epoch 00009: val_loss improved from 0.64714 to 0.64400, saving model to models/test_model/chkpt/test_model.checkpoint\n",
      "9427/9427 [==============================] - 71s 8ms/sample - loss: 0.6373 - accuracy: 0.6410 - val_loss: 0.6440 - val_accuracy: 0.6342\n",
      "Epoch 10/10\n",
      "9216/9427 [============================>.] - ETA: 1s - loss: 0.6318 - accuracy: 0.6438\n",
      "Epoch 00010: val_loss improved from 0.64400 to 0.64281, saving model to models/test_model/chkpt/test_model.checkpoint\n",
      "9427/9427 [==============================] - 71s 8ms/sample - loss: 0.6312 - accuracy: 0.6448 - val_loss: 0.6428 - val_accuracy: 0.6402\n"
     ]
    },
    {
     "data": {
      "image/png": "[encoded data removed]",
      "text/plain": [
       "<Figure size 432x288 with 1 Axes>"
      ]
     },
     "metadata": {
      "needs_background": "light"
     },
     "output_type": "display_data"
    },
    {
     "name": "stdout",
     "output_type": "stream",
     "text": [
      "1080/1080 [==============================] - 8s 7ms/sample - loss: 0.6284 - accuracy: 0.6463\n"
     ]
    },
    {
     "data": {
      "text/plain": [
       "[0.6283612975367794, 0.6462963]"
      ]
     },
     "execution_count": 824,
     "metadata": {},
     "output_type": "execute_result"
    }
   ],
   "source": [
    "_model = drqa(\n",
    "    passage_size=MAX_LEN_PASSAGE, \n",
    "    question_size=MAX_LEN_QUEST, \n",
    "    embeds_dim=FT_EMBEDS_DIM, \n",
    "    match_dim=1,\n",
    "    token_features_dim=TOKEN_FEATURES_DIM,\n",
    "    alpha_dim=ALPHA_DIM,\n",
    "    passage_lstm=LSTM_PASSAGE_DIM,\n",
    "    question_lstm=LSTM_QUESTION_DIM,\n",
    "    paragraph_params = {\n",
    "        'dropout': 0.3,\n",
    "        'recurrent_dropout': 0.3,\n",
    "    },\n",
    "    question_params = {\n",
    "        'dropout': 0.3,\n",
    "        'recurrent_dropout': 0.3,\n",
    "    }\n",
    ")\n",
    "_model.compile(optimizer='adam', loss='binary_crossentropy', metrics=['accuracy'])\n",
    "train_model(\n",
    "    _model, 'test_model',\n",
    "    X=train_embeds, y=y_train,\n",
    "    X_dev=dev_embeds, y_dev=y_dev,\n",
    "    epochs=EPOCHS,\n",
    ")\n",
    "evaluate_model(_model, test_embeds, y_test)"
   ]
  },
  {
   "cell_type": "markdown",
   "metadata": {},
   "source": [
    "## !!!!!!!!!!!!!!!!!!1"
   ]
  },
  {
   "cell_type": "code",
   "execution_count": 851,
   "metadata": {},
   "outputs": [
    {
     "name": "stdout",
     "output_type": "stream",
     "text": [
      "512\n",
      "Train on 9427 samples, validate on 2190 samples\n",
      "Epoch 1/20\n",
      "9216/9427 [============================>.] - ETA: 2s - loss: 0.6815 - accuracy: 0.5845\n",
      "Epoch 00001: val_loss improved from inf to 0.66626, saving model to models/test_model/chkpt/test_model.checkpoint\n",
      "9427/9427 [==============================] - 105s 11ms/sample - loss: 0.6813 - accuracy: 0.5850 - val_loss: 0.6663 - val_accuracy: 0.6215\n",
      "Epoch 2/20\n",
      "9216/9427 [============================>.] - ETA: 1s - loss: 0.6668 - accuracy: 0.6215\n",
      "Epoch 00002: val_loss improved from 0.66626 to 0.66135, saving model to models/test_model/chkpt/test_model.checkpoint\n",
      "9427/9427 [==============================] - 72s 8ms/sample - loss: 0.6666 - accuracy: 0.6215 - val_loss: 0.6614 - val_accuracy: 0.6219\n",
      "Epoch 3/20\n",
      "9216/9427 [============================>.] - ETA: 1s - loss: 0.6623 - accuracy: 0.6233\n",
      "Epoch 00003: val_loss improved from 0.66135 to 0.66078, saving model to models/test_model/chkpt/test_model.checkpoint\n",
      "9427/9427 [==============================] - 73s 8ms/sample - loss: 0.6623 - accuracy: 0.6230 - val_loss: 0.6608 - val_accuracy: 0.6219\n",
      "Epoch 4/20\n",
      "9216/9427 [============================>.] - ETA: 1s - loss: 0.6562 - accuracy: 0.6213\n",
      "Epoch 00004: val_loss improved from 0.66078 to 0.65686, saving model to models/test_model/chkpt/test_model.checkpoint\n",
      "9427/9427 [==============================] - 71s 8ms/sample - loss: 0.6562 - accuracy: 0.6215 - val_loss: 0.6569 - val_accuracy: 0.6219\n",
      "Epoch 5/20\n",
      "9216/9427 [============================>.] - ETA: 1s - loss: 0.6547 - accuracy: 0.6230\n",
      "Epoch 00005: val_loss improved from 0.65686 to 0.65439, saving model to models/test_model/chkpt/test_model.checkpoint\n",
      "9427/9427 [==============================] - 72s 8ms/sample - loss: 0.6540 - accuracy: 0.6235 - val_loss: 0.6544 - val_accuracy: 0.6219\n",
      "Epoch 6/20\n",
      "9216/9427 [============================>.] - ETA: 1s - loss: 0.6508 - accuracy: 0.6223\n",
      "Epoch 00006: val_loss improved from 0.65439 to 0.65152, saving model to models/test_model/chkpt/test_model.checkpoint\n",
      "9427/9427 [==============================] - 71s 8ms/sample - loss: 0.6507 - accuracy: 0.6229 - val_loss: 0.6515 - val_accuracy: 0.6279\n",
      "Epoch 7/20\n",
      "9216/9427 [============================>.] - ETA: 1s - loss: 0.6464 - accuracy: 0.6281\n",
      "Epoch 00007: val_loss improved from 0.65152 to 0.65027, saving model to models/test_model/chkpt/test_model.checkpoint\n",
      "9427/9427 [==============================] - 72s 8ms/sample - loss: 0.6460 - accuracy: 0.6287 - val_loss: 0.6503 - val_accuracy: 0.6324\n",
      "Epoch 8/20\n",
      "9216/9427 [============================>.] - ETA: 1s - loss: 0.6409 - accuracy: 0.6357\n",
      "Epoch 00008: val_loss did not improve from 0.65027\n",
      "9427/9427 [==============================] - 72s 8ms/sample - loss: 0.6405 - accuracy: 0.6363 - val_loss: 0.6525 - val_accuracy: 0.6352\n",
      "Epoch 9/20\n",
      "9216/9427 [============================>.] - ETA: 1s - loss: 0.6410 - accuracy: 0.6404\n",
      "Epoch 00009: val_loss improved from 0.65027 to 0.64607, saving model to models/test_model/chkpt/test_model.checkpoint\n",
      "9427/9427 [==============================] - 71s 8ms/sample - loss: 0.6408 - accuracy: 0.6406 - val_loss: 0.6461 - val_accuracy: 0.6425\n",
      "Epoch 10/20\n",
      "9216/9427 [============================>.] - ETA: 1s - loss: 0.6302 - accuracy: 0.6387\n",
      "Epoch 00010: val_loss improved from 0.64607 to 0.64369, saving model to models/test_model/chkpt/test_model.checkpoint\n",
      "9427/9427 [==============================] - 71s 8ms/sample - loss: 0.6301 - accuracy: 0.6400 - val_loss: 0.6437 - val_accuracy: 0.6379\n",
      "Epoch 11/20\n",
      "9216/9427 [============================>.] - ETA: 1s - loss: 0.6271 - accuracy: 0.6515\n",
      "Epoch 00011: val_loss did not improve from 0.64369\n",
      "9427/9427 [==============================] - 71s 7ms/sample - loss: 0.6269 - accuracy: 0.6512 - val_loss: 0.6445 - val_accuracy: 0.6352\n",
      "Epoch 12/20\n",
      "9216/9427 [============================>.] - ETA: 1s - loss: 0.6251 - accuracy: 0.6500\n",
      "Epoch 00012: val_loss improved from 0.64369 to 0.64308, saving model to models/test_model/chkpt/test_model.checkpoint\n",
      "9427/9427 [==============================] - 71s 8ms/sample - loss: 0.6244 - accuracy: 0.6506 - val_loss: 0.6431 - val_accuracy: 0.6447\n",
      "Epoch 13/20\n",
      "9216/9427 [============================>.] - ETA: 1s - loss: 0.6222 - accuracy: 0.6514\n",
      "Epoch 00013: val_loss did not improve from 0.64308\n",
      "9427/9427 [==============================] - 71s 8ms/sample - loss: 0.6231 - accuracy: 0.6503 - val_loss: 0.6437 - val_accuracy: 0.6333\n",
      "Epoch 14/20\n",
      "9216/9427 [============================>.] - ETA: 1s - loss: 0.6219 - accuracy: 0.6546\n",
      "Epoch 00014: val_loss did not improve from 0.64308\n",
      "9427/9427 [==============================] - 71s 7ms/sample - loss: 0.6222 - accuracy: 0.6542 - val_loss: 0.6446 - val_accuracy: 0.6365\n",
      "Epoch 15/20\n",
      "9216/9427 [============================>.] - ETA: 1s - loss: 0.6139 - accuracy: 0.6599\n",
      "Epoch 00015: val_loss did not improve from 0.64308\n",
      "9427/9427 [==============================] - 71s 8ms/sample - loss: 0.6145 - accuracy: 0.6595 - val_loss: 0.6449 - val_accuracy: 0.6311\n",
      "Epoch 16/20\n",
      "9216/9427 [============================>.] - ETA: 1s - loss: 0.6129 - accuracy: 0.6609\n",
      "Epoch 00016: val_loss did not improve from 0.64308\n",
      "9427/9427 [==============================] - 71s 7ms/sample - loss: 0.6131 - accuracy: 0.6602 - val_loss: 0.6457 - val_accuracy: 0.6365\n",
      "Epoch 17/20\n",
      "9216/9427 [============================>.] - ETA: 1s - loss: 0.6082 - accuracy: 0.6678\n",
      "Epoch 00017: val_loss did not improve from 0.64308\n",
      "9427/9427 [==============================] - 71s 8ms/sample - loss: 0.6083 - accuracy: 0.6677 - val_loss: 0.6438 - val_accuracy: 0.6411\n",
      "Epoch 18/20\n",
      "9216/9427 [============================>.] - ETA: 1s - loss: 0.6092 - accuracy: 0.6629\n",
      "Epoch 00018: val_loss did not improve from 0.64308\n",
      "9427/9427 [==============================] - 72s 8ms/sample - loss: 0.6091 - accuracy: 0.6630 - val_loss: 0.6461 - val_accuracy: 0.6329\n",
      "Epoch 19/20\n",
      "9216/9427 [============================>.] - ETA: 1s - loss: 0.6091 - accuracy: 0.6701\n",
      "Epoch 00019: val_loss did not improve from 0.64308\n",
      "9427/9427 [==============================] - 72s 8ms/sample - loss: 0.6093 - accuracy: 0.6702 - val_loss: 0.6447 - val_accuracy: 0.6356\n",
      "Epoch 20/20\n",
      "9216/9427 [============================>.] - ETA: 1s - loss: 0.6026 - accuracy: 0.6683\n",
      "Epoch 00020: val_loss did not improve from 0.64308\n",
      "9427/9427 [==============================] - 72s 8ms/sample - loss: 0.6031 - accuracy: 0.6682 - val_loss: 0.6471 - val_accuracy: 0.6374\n"
     ]
    },
    {
     "data": {
      "image/png": "[encoded data removed]",
      "text/plain": [
       "<Figure size 432x288 with 1 Axes>"
      ]
     },
     "metadata": {
      "needs_background": "light"
     },
     "output_type": "display_data"
    },
    {
     "name": "stdout",
     "output_type": "stream",
     "text": [
      "1080/1080 [==============================] - 8s 7ms/sample - loss: 0.6299 - accuracy: 0.6500\n"
     ]
    },
    {
     "data": {
      "text/plain": [
       "[0.6299417915167632, 0.65]"
      ]
     },
     "execution_count": 851,
     "metadata": {},
     "output_type": "execute_result"
    }
   ],
   "source": [
    "_model = drqa(\n",
    "    passage_size=MAX_LEN_PASSAGE, \n",
    "    question_size=MAX_LEN_QUEST, \n",
    "    embeds_dim=FT_EMBEDS_DIM, \n",
    "    match_dim=1,\n",
    "    token_features_dim=TOKEN_FEATURES_DIM,\n",
    "    alpha_dim=ALPHA_DIM,\n",
    "    passage_lstm=LSTM_PASSAGE_DIM,\n",
    "    question_lstm=LSTM_QUESTION_DIM,\n",
    "    paragraph_params = {\n",
    "        'dropout': 0.3,\n",
    "        'recurrent_dropout': 0.3,\n",
    "    },\n",
    "    question_params = {\n",
    "        'dropout': 0.3,\n",
    "        'recurrent_dropout': 0.3,\n",
    "    }\n",
    ")\n",
    "_model.compile(optimizer='adam', loss='binary_crossentropy', metrics=['accuracy'])\n",
    "train_model(\n",
    "    _model, 'test_model',\n",
    "    X=train_embeds, y=y_train,\n",
    "    X_dev=dev_embeds, y_dev=y_dev,\n",
    "    epochs=20,\n",
    ")\n",
    "evaluate_model(_model, test_embeds, y_test)"
   ]
  },
  {
   "cell_type": "code",
   "execution_count": 935,
   "metadata": {},
   "outputs": [
    {
     "name": "stdout",
     "output_type": "stream",
     "text": [
      "512\n",
      "Train on 9427 samples, validate on 2190 samples\n",
      "Epoch 1/20\n",
      "9216/9427 [============================>.] - ETA: 2s - loss: 0.6805 - accuracy: 0.5907\n",
      "Epoch 00001: val_loss improved from inf to 0.66388, saving model to models/test_model/chkpt/test_model.checkpoint\n",
      "9427/9427 [==============================] - 100s 11ms/sample - loss: 0.6803 - accuracy: 0.5911 - val_loss: 0.6639 - val_accuracy: 0.6219\n",
      "Epoch 2/20\n",
      "9216/9427 [============================>.] - ETA: 1s - loss: 0.6650 - accuracy: 0.6209\n",
      "Epoch 00002: val_loss improved from 0.66388 to 0.66069, saving model to models/test_model/chkpt/test_model.checkpoint\n",
      "9427/9427 [==============================] - 74s 8ms/sample - loss: 0.6649 - accuracy: 0.6206 - val_loss: 0.6607 - val_accuracy: 0.6219\n",
      "Epoch 3/20\n",
      "9216/9427 [============================>.] - ETA: 1s - loss: 0.6590 - accuracy: 0.6221\n",
      "Epoch 00003: val_loss improved from 0.66069 to 0.65797, saving model to models/test_model/chkpt/test_model.checkpoint\n",
      "9427/9427 [==============================] - 72s 8ms/sample - loss: 0.6593 - accuracy: 0.6217 - val_loss: 0.6580 - val_accuracy: 0.6224\n",
      "Epoch 4/20\n",
      "9216/9427 [============================>.] - ETA: 1s - loss: 0.6539 - accuracy: 0.6213\n",
      "Epoch 00004: val_loss improved from 0.65797 to 0.65396, saving model to models/test_model/chkpt/test_model.checkpoint\n",
      "9427/9427 [==============================] - 73s 8ms/sample - loss: 0.6538 - accuracy: 0.6216 - val_loss: 0.6540 - val_accuracy: 0.6242\n",
      "Epoch 5/20\n",
      "9216/9427 [============================>.] - ETA: 1s - loss: 0.6514 - accuracy: 0.6241\n",
      "Epoch 00005: val_loss improved from 0.65396 to 0.65225, saving model to models/test_model/chkpt/test_model.checkpoint\n",
      "9427/9427 [==============================] - 74s 8ms/sample - loss: 0.6511 - accuracy: 0.6242 - val_loss: 0.6522 - val_accuracy: 0.6260\n",
      "Epoch 6/20\n",
      "9216/9427 [============================>.] - ETA: 1s - loss: 0.6461 - accuracy: 0.6261\n",
      "Epoch 00006: val_loss improved from 0.65225 to 0.65010, saving model to models/test_model/chkpt/test_model.checkpoint\n",
      "9427/9427 [==============================] - 72s 8ms/sample - loss: 0.6456 - accuracy: 0.6268 - val_loss: 0.6501 - val_accuracy: 0.6256\n",
      "Epoch 7/20\n",
      "9216/9427 [============================>.] - ETA: 1s - loss: 0.6445 - accuracy: 0.6332\n",
      "Epoch 00007: val_loss did not improve from 0.65010\n",
      "9427/9427 [==============================] - 73s 8ms/sample - loss: 0.6440 - accuracy: 0.6342 - val_loss: 0.6521 - val_accuracy: 0.6356\n",
      "Epoch 8/20\n",
      "9216/9427 [============================>.] - ETA: 1s - loss: 0.6387 - accuracy: 0.6343\n",
      "Epoch 00008: val_loss improved from 0.65010 to 0.64907, saving model to models/test_model/chkpt/test_model.checkpoint\n",
      "9427/9427 [==============================] - 72s 8ms/sample - loss: 0.6389 - accuracy: 0.6345 - val_loss: 0.6491 - val_accuracy: 0.6329\n",
      "Epoch 9/20\n",
      "9216/9427 [============================>.] - ETA: 1s - loss: 0.6319 - accuracy: 0.6474\n",
      "Epoch 00009: val_loss improved from 0.64907 to 0.64563, saving model to models/test_model/chkpt/test_model.checkpoint\n",
      "9427/9427 [==============================] - 72s 8ms/sample - loss: 0.6317 - accuracy: 0.6470 - val_loss: 0.6456 - val_accuracy: 0.6352\n",
      "Epoch 10/20\n",
      "9216/9427 [============================>.] - ETA: 1s - loss: 0.6311 - accuracy: 0.6429\n",
      "Epoch 00010: val_loss did not improve from 0.64563\n",
      "9427/9427 [==============================] - 72s 8ms/sample - loss: 0.6305 - accuracy: 0.6434 - val_loss: 0.6471 - val_accuracy: 0.6393\n",
      "Epoch 11/20\n",
      "9216/9427 [============================>.] - ETA: 1s - loss: 0.6264 - accuracy: 0.6479\n",
      "Epoch 00011: val_loss did not improve from 0.64563\n",
      "9427/9427 [==============================] - 74s 8ms/sample - loss: 0.6260 - accuracy: 0.6487 - val_loss: 0.6489 - val_accuracy: 0.6342\n",
      "Epoch 12/20\n",
      "9216/9427 [============================>.] - ETA: 1s - loss: 0.6238 - accuracy: 0.6558\n",
      "Epoch 00012: val_loss did not improve from 0.64563\n",
      "9427/9427 [==============================] - 72s 8ms/sample - loss: 0.6231 - accuracy: 0.6563 - val_loss: 0.6470 - val_accuracy: 0.6416\n",
      "Epoch 13/20\n",
      "9216/9427 [============================>.] - ETA: 1s - loss: 0.6205 - accuracy: 0.6570\n",
      "Epoch 00013: val_loss improved from 0.64563 to 0.64558, saving model to models/test_model/chkpt/test_model.checkpoint\n",
      "9427/9427 [==============================] - 71s 8ms/sample - loss: 0.6221 - accuracy: 0.6557 - val_loss: 0.6456 - val_accuracy: 0.6388\n",
      "Epoch 14/20\n",
      "9216/9427 [============================>.] - ETA: 1s - loss: 0.6187 - accuracy: 0.6596\n",
      "Epoch 00014: val_loss improved from 0.64558 to 0.64324, saving model to models/test_model/chkpt/test_model.checkpoint\n",
      "9427/9427 [==============================] - 71s 8ms/sample - loss: 0.6190 - accuracy: 0.6598 - val_loss: 0.6432 - val_accuracy: 0.6370\n",
      "Epoch 15/20\n",
      "9216/9427 [============================>.] - ETA: 1s - loss: 0.6169 - accuracy: 0.6624\n",
      "Epoch 00015: val_loss did not improve from 0.64324\n",
      "9427/9427 [==============================] - 72s 8ms/sample - loss: 0.6176 - accuracy: 0.6607 - val_loss: 0.6469 - val_accuracy: 0.6329\n",
      "Epoch 16/20\n",
      "9216/9427 [============================>.] - ETA: 1s - loss: 0.6120 - accuracy: 0.6636\n",
      "Epoch 00016: val_loss did not improve from 0.64324\n",
      "9427/9427 [==============================] - 72s 8ms/sample - loss: 0.6122 - accuracy: 0.6634 - val_loss: 0.6468 - val_accuracy: 0.6384\n",
      "Epoch 17/20\n",
      "9216/9427 [============================>.] - ETA: 1s - loss: 0.6091 - accuracy: 0.6700\n",
      "Epoch 00017: val_loss did not improve from 0.64324\n",
      "9427/9427 [==============================] - 72s 8ms/sample - loss: 0.6106 - accuracy: 0.6694 - val_loss: 0.6453 - val_accuracy: 0.6429\n",
      "Epoch 18/20\n",
      "9216/9427 [============================>.] - ETA: 1s - loss: 0.6036 - accuracy: 0.6755\n",
      "Epoch 00018: val_loss did not improve from 0.64324\n",
      "9427/9427 [==============================] - 72s 8ms/sample - loss: 0.6044 - accuracy: 0.6754 - val_loss: 0.6521 - val_accuracy: 0.6215\n",
      "Epoch 19/20\n",
      "9216/9427 [============================>.] - ETA: 1s - loss: 0.6035 - accuracy: 0.6751\n",
      "Epoch 00019: val_loss did not improve from 0.64324\n",
      "9427/9427 [==============================] - 72s 8ms/sample - loss: 0.6038 - accuracy: 0.6752 - val_loss: 0.6442 - val_accuracy: 0.6361\n",
      "Epoch 20/20\n",
      "9216/9427 [============================>.] - ETA: 1s - loss: 0.5973 - accuracy: 0.6827\n",
      "Epoch 00020: val_loss did not improve from 0.64324\n",
      "9427/9427 [==============================] - 72s 8ms/sample - loss: 0.5982 - accuracy: 0.6818 - val_loss: 0.6449 - val_accuracy: 0.6374\n"
     ]
    },
    {
     "data": {
      "image/png": "[encoded data removed]",
      "text/plain": [
       "<Figure size 432x288 with 1 Axes>"
      ]
     },
     "metadata": {
      "needs_background": "light"
     },
     "output_type": "display_data"
    },
    {
     "name": "stdout",
     "output_type": "stream",
     "text": [
      "1080/1080 [==============================] - 8s 7ms/sample - loss: 0.6361 - accuracy: 0.6417\n"
     ]
    },
    {
     "data": {
      "text/plain": [
       "[0.6360792177694815, 0.64166665]"
      ]
     },
     "execution_count": 935,
     "metadata": {},
     "output_type": "execute_result"
    }
   ],
   "source": [
    "_model = drqa(\n",
    "    passage_size=MAX_LEN_PASSAGE, \n",
    "    question_size=MAX_LEN_QUEST, \n",
    "    embeds_dim=FT_EMBEDS_DIM, \n",
    "    match_dim=1,\n",
    "    token_features_dim=TOKEN_FEATURES_DIM,\n",
    "    alpha_dim=1,\n",
    "    passage_lstm=LSTM_PASSAGE_DIM,\n",
    "    question_lstm=LSTM_QUESTION_DIM,\n",
    "    paragraph_params = {\n",
    "        'dropout': 0.3,\n",
    "        'recurrent_dropout': 0.3,\n",
    "    },\n",
    "    question_params = {\n",
    "        'dropout': 0.3,\n",
    "        'recurrent_dropout': 0.3,\n",
    "    }\n",
    ")\n",
    "_model.compile(optimizer='adam', loss='binary_crossentropy', metrics=['accuracy'])\n",
    "train_model(\n",
    "    _model, 'test_model',\n",
    "    X=train_embeds, y=y_train,\n",
    "    X_dev=dev_embeds, y_dev=y_dev,\n",
    "    epochs=20,\n",
    ")\n",
    "evaluate_model(_model, test_embeds, y_test)"
   ]
  },
  {
   "cell_type": "code",
   "execution_count": 803,
   "metadata": {},
   "outputs": [
    {
     "name": "stdout",
     "output_type": "stream",
     "text": [
      "512\n",
      "Train on 9427 samples, validate on 2190 samples\n",
      "Epoch 1/10\n",
      "9216/9427 [============================>.] - ETA: 2s - loss: 0.6808 - accuracy: 0.5778\n",
      "Epoch 00001: val_loss improved from inf to 0.66250, saving model to models/test_model/chkpt/test_model.checkpoint\n",
      "9427/9427 [==============================] - 104s 11ms/sample - loss: 0.6806 - accuracy: 0.5787 - val_loss: 0.6625 - val_accuracy: 0.6219\n",
      "Epoch 2/10\n",
      "9216/9427 [============================>.] - ETA: 1s - loss: 0.6634 - accuracy: 0.6214\n",
      "Epoch 00002: val_loss improved from 0.66250 to 0.65857, saving model to models/test_model/chkpt/test_model.checkpoint\n",
      "9427/9427 [==============================] - 73s 8ms/sample - loss: 0.6633 - accuracy: 0.6213 - val_loss: 0.6586 - val_accuracy: 0.6219\n",
      "Epoch 3/10\n",
      "9216/9427 [============================>.] - ETA: 1s - loss: 0.6579 - accuracy: 0.6230\n",
      "Epoch 00003: val_loss improved from 0.65857 to 0.65656, saving model to models/test_model/chkpt/test_model.checkpoint\n",
      "9427/9427 [==============================] - 72s 8ms/sample - loss: 0.6581 - accuracy: 0.6223 - val_loss: 0.6566 - val_accuracy: 0.6215\n",
      "Epoch 4/10\n",
      "9216/9427 [============================>.] - ETA: 1s - loss: 0.6548 - accuracy: 0.6221\n",
      "Epoch 00004: val_loss improved from 0.65656 to 0.65590, saving model to models/test_model/chkpt/test_model.checkpoint\n",
      "9427/9427 [==============================] - 73s 8ms/sample - loss: 0.6548 - accuracy: 0.6217 - val_loss: 0.6559 - val_accuracy: 0.6237\n",
      "Epoch 5/10\n",
      "9216/9427 [============================>.] - ETA: 1s - loss: 0.6509 - accuracy: 0.6290\n",
      "Epoch 00005: val_loss improved from 0.65590 to 0.65115, saving model to models/test_model/chkpt/test_model.checkpoint\n",
      "9427/9427 [==============================] - 73s 8ms/sample - loss: 0.6504 - accuracy: 0.6292 - val_loss: 0.6512 - val_accuracy: 0.6228\n",
      "Epoch 6/10\n",
      "9216/9427 [============================>.] - ETA: 1s - loss: 0.6459 - accuracy: 0.6283\n",
      "Epoch 00006: val_loss improved from 0.65115 to 0.65020, saving model to models/test_model/chkpt/test_model.checkpoint\n",
      "9427/9427 [==============================] - 72s 8ms/sample - loss: 0.6455 - accuracy: 0.6292 - val_loss: 0.6502 - val_accuracy: 0.6406\n",
      "Epoch 7/10\n",
      "9216/9427 [============================>.] - ETA: 1s - loss: 0.6380 - accuracy: 0.6420\n",
      "Epoch 00007: val_loss did not improve from 0.65020\n",
      "9427/9427 [==============================] - 72s 8ms/sample - loss: 0.6375 - accuracy: 0.6422 - val_loss: 0.6508 - val_accuracy: 0.6338\n",
      "Epoch 8/10\n",
      "9216/9427 [============================>.] - ETA: 1s - loss: 0.6349 - accuracy: 0.6420\n",
      "Epoch 00008: val_loss improved from 0.65020 to 0.64904, saving model to models/test_model/chkpt/test_model.checkpoint\n",
      "9427/9427 [==============================] - 72s 8ms/sample - loss: 0.6349 - accuracy: 0.6424 - val_loss: 0.6490 - val_accuracy: 0.6370\n",
      "Epoch 9/10\n",
      "9216/9427 [============================>.] - ETA: 1s - loss: 0.6309 - accuracy: 0.6451\n",
      "Epoch 00009: val_loss improved from 0.64904 to 0.64620, saving model to models/test_model/chkpt/test_model.checkpoint\n",
      "9427/9427 [==============================] - 72s 8ms/sample - loss: 0.6310 - accuracy: 0.6453 - val_loss: 0.6462 - val_accuracy: 0.6379\n",
      "Epoch 10/10\n",
      "9216/9427 [============================>.] - ETA: 1s - loss: 0.6277 - accuracy: 0.6479\n",
      "Epoch 00010: val_loss did not improve from 0.64620\n",
      "9427/9427 [==============================] - 73s 8ms/sample - loss: 0.6271 - accuracy: 0.6487 - val_loss: 0.6488 - val_accuracy: 0.6324\n"
     ]
    },
    {
     "data": {
      "image/png": "[encoded data removed]",
      "text/plain": [
       "<Figure size 432x288 with 1 Axes>"
      ]
     },
     "metadata": {
      "needs_background": "light"
     },
     "output_type": "display_data"
    },
    {
     "name": "stdout",
     "output_type": "stream",
     "text": [
      "1080/1080 [==============================] - 8s 8ms/sample - loss: 0.6304 - accuracy: 0.6407\n"
     ]
    },
    {
     "data": {
      "text/plain": [
       "[0.630398362212711, 0.64074075]"
      ]
     },
     "execution_count": 803,
     "metadata": {},
     "output_type": "execute_result"
    }
   ],
   "source": [
    "_model = drqa(\n",
    "    passage_size=MAX_LEN_PASSAGE, \n",
    "    question_size=MAX_LEN_QUEST, \n",
    "    embeds_dim=FT_EMBEDS_DIM, \n",
    "    match_dim=1,\n",
    "    token_features_dim=TOKEN_FEATURES_DIM,\n",
    "    alpha_dim=ALPHA_DIM,\n",
    "    passage_lstm=LSTM_PASSAGE_DIM,\n",
    "    question_lstm=LSTM_QUESTION_DIM,\n",
    "    paragraph_params = {\n",
    "        'dropout': 0.3,\n",
    "        'recurrent_dropout': 0.3,\n",
    "    },\n",
    "    question_params = {\n",
    "        'dropout': 0.3,\n",
    "        'recurrent_dropout': 0.3,\n",
    "    }\n",
    ")\n",
    "_model.compile(optimizer='adam', loss='binary_crossentropy', metrics=['accuracy'])\n",
    "train_model(\n",
    "    _model, 'test_model',\n",
    "    X=train_embeds, y=y_train,\n",
    "    X_dev=dev_embeds, y_dev=y_dev,\n",
    "    epochs=10,\n",
    ")\n",
    "evaluate_model(_model, test_embeds, y_test)"
   ]
  },
  {
   "cell_type": "code",
   "execution_count": 757,
   "metadata": {},
   "outputs": [],
   "source": [
    "# question = np.random.random([3, 30, 256])\n",
    "# passage = np.random.random([3, 350, 256])\n",
    "# match_ft = np.random.random([3, 350, 3])\n",
    "# token_ft = np.random.random([3, 350, 2])\n",
    "\n",
    "_model = drqa(\n",
    "    passage_size=MAX_LEN_PASSAGE, \n",
    "    question_size=MAX_LEN_QUEST, \n",
    "    embeds_dim=FT_EMBEDS_DIM, \n",
    "    match_dim=1,\n",
    "    token_features_dim=TOKEN_FEATURES_DIM,\n",
    "    alpha_dim=ALPHA_DIM,\n",
    "    passage_lstm=LSTM_PASSAGE_DIM,\n",
    "    question_lstm=LSTM_QUESTION_DIM)\n",
    "\n",
    "_model.compile(optimizer='adam', loss='binary_crossentropy', metrics=['accuracy'])"
   ]
  },
  {
   "cell_type": "code",
   "execution_count": null,
   "metadata": {},
   "outputs": [],
   "source": []
  },
  {
   "cell_type": "code",
   "execution_count": 758,
   "metadata": {},
   "outputs": [
    {
     "name": "stdout",
     "output_type": "stream",
     "text": [
      "512\n",
      "Train on 9427 samples, validate on 2190 samples\n",
      "Epoch 1/10\n",
      "9216/9427 [============================>.] - ETA: 1s - loss: 0.6717 - accuracy: 0.6146\n",
      "Epoch 00001: val_loss improved from inf to 0.66167, saving model to models/test_model/chkpt/test_model.checkpoint\n",
      "9427/9427 [==============================] - 59s 6ms/sample - loss: 0.6717 - accuracy: 0.6144 - val_loss: 0.6617 - val_accuracy: 0.6228\n",
      "Epoch 2/10\n",
      "9216/9427 [============================>.] - ETA: 0s - loss: 0.6587 - accuracy: 0.6227\n",
      "Epoch 00002: val_loss improved from 0.66167 to 0.65739, saving model to models/test_model/chkpt/test_model.checkpoint\n",
      "9427/9427 [==============================] - 43s 5ms/sample - loss: 0.6585 - accuracy: 0.6228 - val_loss: 0.6574 - val_accuracy: 0.6242\n",
      "Epoch 3/10\n",
      "9216/9427 [============================>.] - ETA: 0s - loss: 0.6470 - accuracy: 0.6308\n",
      "Epoch 00003: val_loss improved from 0.65739 to 0.65243, saving model to models/test_model/chkpt/test_model.checkpoint\n",
      "9427/9427 [==============================] - 42s 4ms/sample - loss: 0.6470 - accuracy: 0.6306 - val_loss: 0.6524 - val_accuracy: 0.6292\n",
      "Epoch 4/10\n",
      "9216/9427 [============================>.] - ETA: 0s - loss: 0.6382 - accuracy: 0.6419\n",
      "Epoch 00004: val_loss did not improve from 0.65243\n",
      "9427/9427 [==============================] - 42s 4ms/sample - loss: 0.6375 - accuracy: 0.6426 - val_loss: 0.6534 - val_accuracy: 0.6169\n",
      "Epoch 5/10\n",
      "9216/9427 [============================>.] - ETA: 0s - loss: 0.6260 - accuracy: 0.6483\n",
      "Epoch 00005: val_loss improved from 0.65243 to 0.64765, saving model to models/test_model/chkpt/test_model.checkpoint\n",
      "9427/9427 [==============================] - 42s 4ms/sample - loss: 0.6253 - accuracy: 0.6492 - val_loss: 0.6477 - val_accuracy: 0.6256\n",
      "Epoch 6/10\n",
      "9216/9427 [============================>.] - ETA: 0s - loss: 0.6155 - accuracy: 0.6566\n",
      "Epoch 00006: val_loss did not improve from 0.64765\n",
      "9427/9427 [==============================] - 42s 4ms/sample - loss: 0.6150 - accuracy: 0.6574 - val_loss: 0.6563 - val_accuracy: 0.6311\n",
      "Epoch 7/10\n",
      "9216/9427 [============================>.] - ETA: 0s - loss: 0.6067 - accuracy: 0.6643\n",
      "Epoch 00007: val_loss did not improve from 0.64765\n",
      "9427/9427 [==============================] - 42s 4ms/sample - loss: 0.6057 - accuracy: 0.6656 - val_loss: 0.6524 - val_accuracy: 0.6256\n",
      "Epoch 8/10\n",
      "9216/9427 [============================>.] - ETA: 0s - loss: 0.5947 - accuracy: 0.6770\n",
      "Epoch 00008: val_loss did not improve from 0.64765\n",
      "9427/9427 [==============================] - 42s 4ms/sample - loss: 0.5946 - accuracy: 0.6773 - val_loss: 0.6507 - val_accuracy: 0.6338\n",
      "Epoch 9/10\n",
      "9216/9427 [============================>.] - ETA: 0s - loss: 0.5886 - accuracy: 0.6845\n",
      "Epoch 00009: val_loss did not improve from 0.64765\n",
      "9427/9427 [==============================] - 42s 4ms/sample - loss: 0.5876 - accuracy: 0.6846 - val_loss: 0.6572 - val_accuracy: 0.6365\n",
      "Epoch 10/10\n",
      "9216/9427 [============================>.] - ETA: 0s - loss: 0.5782 - accuracy: 0.6929\n",
      "Epoch 00010: val_loss did not improve from 0.64765\n",
      "9427/9427 [==============================] - 42s 4ms/sample - loss: 0.5778 - accuracy: 0.6933 - val_loss: 0.6818 - val_accuracy: 0.6301\n"
     ]
    },
    {
     "data": {
      "image/png": "[encoded data removed]",
      "text/plain": [
       "<Figure size 432x288 with 1 Axes>"
      ]
     },
     "metadata": {
      "needs_background": "light"
     },
     "output_type": "display_data"
    }
   ],
   "source": [
    "train_model(\n",
    "    _model, 'test_model',\n",
    "    X=train_embeds, y=y_train,\n",
    "    X_dev=dev_embeds, y_dev=y_dev,\n",
    "    epochs=EPOCHS\n",
    ")"
   ]
  },
  {
   "cell_type": "code",
   "execution_count": 759,
   "metadata": {},
   "outputs": [
    {
     "name": "stdout",
     "output_type": "stream",
     "text": [
      "1080/1080 [==============================] - 4s 3ms/sample - loss: 0.6444 - accuracy: 0.6519\n"
     ]
    },
    {
     "data": {
      "text/plain": [
       "[0.6444457122573146, 0.65185183]"
      ]
     },
     "execution_count": 759,
     "metadata": {},
     "output_type": "execute_result"
    }
   ],
   "source": [
    "evaluate_model(_model, test_embeds, y_test)"
   ]
  },
  {
   "cell_type": "code",
   "execution_count": 528,
   "metadata": {},
   "outputs": [
    {
     "name": "stdout",
     "output_type": "stream",
     "text": [
      "1080/1080 [==============================] - 3s 3ms/sample - loss: 0.6644 - accuracy: 0.6565\n"
     ]
    },
    {
     "data": {
      "text/plain": [
       "[0.6643944872750176, 0.6564815]"
      ]
     },
     "execution_count": 528,
     "metadata": {},
     "output_type": "execute_result"
    }
   ],
   "source": [
    "evaluate_model(_model, test_embeds, y_test)"
   ]
  },
  {
   "cell_type": "code",
   "execution_count": 366,
   "metadata": {
    "ExecuteTime": {
     "end_time": "2020-04-12T22:03:17.193822Z",
     "start_time": "2020-04-12T22:03:15.983867Z"
    }
   },
   "outputs": [
    {
     "name": "stdout",
     "output_type": "stream",
     "text": [
      "passage_embeddings = (9427, 350, 300)\n",
      "question_embeddings = (9427, 20, 300)\n",
      "match_features = (9427, 350, 1)\n",
      "token_features = (9427, 350, 47)\n"
     ]
    }
   ],
   "source": [
    "train_model(_model, train_embeds)"
   ]
  },
  {
   "cell_type": "code",
   "execution_count": null,
   "metadata": {},
   "outputs": [],
   "source": []
  },
  {
   "cell_type": "code",
   "execution_count": 265,
   "metadata": {
    "ExecuteTime": {
     "end_time": "2020-04-12T19:22:34.552357Z",
     "start_time": "2020-04-12T19:22:34.545542Z"
    }
   },
   "outputs": [
    {
     "data": {
      "text/plain": [
       "(3, 94500)"
      ]
     },
     "execution_count": 265,
     "metadata": {},
     "output_type": "execute_result"
    }
   ],
   "source": [
    "passage.shape"
   ]
  },
  {
   "cell_type": "code",
   "execution_count": 266,
   "metadata": {
    "ExecuteTime": {
     "end_time": "2020-04-12T19:22:34.738822Z",
     "start_time": "2020-04-12T19:22:34.732391Z"
    }
   },
   "outputs": [
    {
     "data": {
      "text/plain": [
       "(3, 7680)"
      ]
     },
     "execution_count": 266,
     "metadata": {},
     "output_type": "execute_result"
    }
   ],
   "source": [
    "question.shape"
   ]
  },
  {
   "cell_type": "code",
   "execution_count": 267,
   "metadata": {
    "ExecuteTime": {
     "end_time": "2020-04-12T19:22:34.900245Z",
     "start_time": "2020-04-12T19:22:34.896405Z"
    }
   },
   "outputs": [
    {
     "data": {
      "text/plain": [
       "(3, 102180)"
      ]
     },
     "execution_count": 267,
     "metadata": {},
     "output_type": "execute_result"
    }
   ],
   "source": [
    "inputs.shape"
   ]
  },
  {
   "cell_type": "code",
   "execution_count": 268,
   "metadata": {
    "ExecuteTime": {
     "end_time": "2020-04-12T19:22:35.099199Z",
     "start_time": "2020-04-12T19:22:35.092059Z"
    }
   },
   "outputs": [],
   "source": [
    "inputs = np.concatenate([passage, question], axis=1)"
   ]
  },
  {
   "cell_type": "code",
   "execution_count": 275,
   "metadata": {
    "ExecuteTime": {
     "end_time": "2020-04-12T19:22:52.930552Z",
     "start_time": "2020-04-12T19:22:52.926741Z"
    }
   },
   "outputs": [],
   "source": [
    "def get_model(model_class=QuestionEncoding, sentence_size=10, embed_dim=256, quest_lstm=5,\n",
    "             pos_dim=10, ner_dim=1, match_dim=3):\n",
    "#     model = model_class(quest_lstm=quest_lstm)\n",
    "    model = model_class()\n",
    "#     model.build(input_shape=(None, sentence_size, embed_dim))\n",
    "    model.build(input_shape=(None, sentence_size, 102180))\n",
    "    model.compile(optimizer='adam',\n",
    "                  loss='categorical_crossentropy',\n",
    "                  metrics=['acc'])\n",
    "    return model"
   ]
  },
  {
   "cell_type": "code",
   "execution_count": 276,
   "metadata": {
    "ExecuteTime": {
     "end_time": "2020-04-12T19:22:53.727520Z",
     "start_time": "2020-04-12T19:22:53.189751Z"
    }
   },
   "outputs": [
    {
     "name": "stdout",
     "output_type": "stream",
     "text": [
      "lstm shape: (None, 350, 22)\n"
     ]
    }
   ],
   "source": [
    "model = get_model(model_class=ParagraphEncoding)\n",
    "# model = get_model()"
   ]
  },
  {
   "cell_type": "code",
   "execution_count": 277,
   "metadata": {
    "ExecuteTime": {
     "end_time": "2020-04-12T19:22:54.696344Z",
     "start_time": "2020-04-12T19:22:54.694166Z"
    }
   },
   "outputs": [],
   "source": [
    "# test_sent = test_sent.reshape(1, test_sent.shape[0], test_sent.shape[1])"
   ]
  },
  {
   "cell_type": "code",
   "execution_count": 278,
   "metadata": {
    "ExecuteTime": {
     "end_time": "2020-04-12T19:22:55.632608Z",
     "start_time": "2020-04-12T19:22:55.628928Z"
    }
   },
   "outputs": [
    {
     "data": {
      "text/plain": [
       "(3, 7680)"
      ]
     },
     "execution_count": 278,
     "metadata": {},
     "output_type": "execute_result"
    }
   ],
   "source": [
    "question.shape"
   ]
  },
  {
   "cell_type": "markdown",
   "metadata": {},
   "source": [
    "## Часть 4. [3 балла] BiDAF-подобная архитектура\n",
    "\n",
    "Основана на статье: Bidirectional Attention Flow for Machine Comprehension\n",
    "\n",
    "Minjoon Seo, Aniruddha Kembhavi, Ali Farhadi, Hannaneh Hajishirzi\n",
    "\n",
    "https://arxiv.org/abs/1611.01603\n",
    "\n",
    "Архитектура BiDAF предложена для задачи SQuAD, но легко может быть адаптирована к текущему заданию. Модель состоит из следующих блоков:\n",
    "1. Кодировщик  получает на вход два представления слова: эмбеддинг слова и полученное из CNN посимвольное представление слова. Кодировщики для вопроса и для параграфа одинаковы. \n",
    "2. Слой внимания (детальное описание приведено в статье, см. пункт Attention Flow Layer)\n",
    "3. Промежуточный слой, который получает на вход контекстуализированные эмбеддинги слов из параграфа, состоящие из трех частей (выход кодировщика параграфа,   Query2Context (один вектор) и Context2Query (матрица) выравнивания\n",
    "\n",
    "4. Слой предсказания. \n",
    "\n",
    "Предложите, как можно было модифицировать последний слой предсказания в архитектуре BiDAF, с учетом того, что итоговое предсказание – это метка yes / no, предсказание которой проще, чем предсказание спана ответа для SQuAD.\n",
    "\n",
    "Оцените качество этой модели для решения задачи. \n",
    "\n",
    "[bonus] Замените входные эмбеддинги и все дополнительные признаки, используемые кодировщиками, на BERT эмбеддинги. Улучшит ли это качество результатов?\n",
    "\n",
    "Сравнение DrQA и BiDAF:\n",
    "    \n",
    "![](https://www.researchgate.net/profile/Felix_Wu6/publication/321069852/figure/fig1/AS:560800147881984@1510716582560/Schematic-layouts-of-the-BiDAF-left-and-DrQA-right-architectures-We-propose-to.png)"
   ]
  },
  {
   "cell_type": "code",
   "execution_count": 87,
   "metadata": {},
   "outputs": [],
   "source": [
    "from tensorflow.keras.preprocessing.text import Tokenizer\n",
    "from tensorflow.keras.preprocessing.sequence import pad_sequences\n",
    "\n",
    "from tensorflow.keras.layers import Input, Embedding, Activation, Flatten, Dense\n",
    "from tensorflow.keras.layers import Conv1D, MaxPooling1D, Dropout, GlobalMaxPooling1D\n",
    "from tensorflow.keras.models import Model\n",
    "import sys"
   ]
  },
  {
   "cell_type": "code",
   "execution_count": 88,
   "metadata": {},
   "outputs": [],
   "source": [
    "\n",
    "\n",
    "\n",
    "# def tokenize_and_encode_sentences(sentence: Iterable[str], max_sentence_len):\n",
    "#     tk = Tokenizer(num_words=None, char_level=True, oov_token='UNK')\n",
    "#     word_index = {}\n",
    "#     for i, char in enumerate(alphabet):\n",
    "#         word_index[char] = i + 1\n",
    "\n",
    "#     tk.word_index = word_index.copy()\n",
    "#     tk.word_index[tk.oov_token] = max(word_index.values()) + 1\n",
    "\n",
    "#     char_encoding = tk.texts_to_sequences(sentence)\n",
    "#     char_encoding = pad_sequences(char_encoding, maxlen=max_sentence_len, padding='post')\n",
    "\n",
    "#     return np.array(char_encoding)"
   ]
  },
  {
   "cell_type": "code",
   "execution_count": 89,
   "metadata": {},
   "outputs": [],
   "source": [
    "# def tokenize_and_encode_sentences(texts: List[List[str]], max_word_len):\n",
    "#     encoded_sentences = []\n",
    "    \n",
    "#     # assert padding\n",
    "#     assert len(set([len(s) for s in texts])) == 1\n",
    "    \n",
    "#     for sentence in tqdm(texts):\n",
    "#         encoded_sentence = tokenize_and_encode_sentence(sentence, max_word_len=max_word_len)\n",
    "#         encoded_sentences.append(encoded_sentence)\n",
    "\n",
    "#     return np.array(encoded_sentences)"
   ]
  },
  {
   "cell_type": "code",
   "execution_count": 111,
   "metadata": {},
   "outputs": [],
   "source": [
    "alphabet = 'abcdefghijklmnopqrstuvwxyz0123456789,;.!?:\\'\"/\\\\|_@#$%^&*~`+-=<>()[]{}'\n",
    "ALPHABET_SIZE = len(alphabet)\n",
    "\n",
    "\n",
    "def tokenize_and_encode_sentence(sentence: Iterable[str], max_word_len):\n",
    "    tk = Tokenizer(num_words=None, char_level=True, oov_token='UNK')\n",
    "    word_index = {}\n",
    "    for i, char in enumerate(alphabet):\n",
    "        word_index[char] = i + 1\n",
    "\n",
    "    tk.word_index = word_index.copy()\n",
    "    tk.word_index[tk.oov_token] = max(word_index.values()) + 1\n",
    "\n",
    "    char_encoding = tk.texts_to_sequences(sentence)\n",
    "    char_encoding = pad_sequences(char_encoding, maxlen=max_word_len, padding='post')\n",
    "\n",
    "    return np.array(char_encoding)"
   ]
  },
  {
   "cell_type": "code",
   "execution_count": 91,
   "metadata": {},
   "outputs": [],
   "source": [
    "def tokenize_and_encode_sentences(texts: List[List[str]], max_word_len):\n",
    "    encoded_sentences = []\n",
    "    \n",
    "    # assert padding\n",
    "    assert len(set([len(s) for s in texts])) == 1\n",
    "    \n",
    "    for sentence in tqdm(texts):\n",
    "        encoded_sentence = tokenize_and_encode_sentence(sentence, max_word_len=max_word_len)\n",
    "        encoded_sentences.append(encoded_sentence)\n",
    "\n",
    "    return np.array(encoded_sentences, dtype='float64')"
   ]
  },
  {
   "cell_type": "code",
   "execution_count": 92,
   "metadata": {},
   "outputs": [],
   "source": [
    "def tokenize_and_encode_inputs(\n",
    "    questions_padded: List[List[str]],\n",
    "    passages_padded: List[List[str]],\n",
    "    embeds,\n",
    "):\n",
    "    passage_embeddings, question_embeddings, match_features, token_features = embeds\n",
    "    \n",
    "    question_chars = tokenize_and_encode_sentences(questions_padded, max_word_len=MAX_WORD_LEN_SYM)\n",
    "    \n",
    "    passage_chars = tokenize_and_encode_sentences(passages_padded, max_word_len=MAX_WORD_LEN_SYM)\n",
    "    \n",
    "    return {\n",
    "        'question_embeddings': question_embeddings,\n",
    "        'question_characters': question_chars,\n",
    "        'passage_embeddings': passage_embeddings,\n",
    "        'passage_characters': passage_chars,\n",
    "    }"
   ]
  },
  {
   "cell_type": "code",
   "execution_count": 97,
   "metadata": {},
   "outputs": [
    {
     "data": {
      "application/vnd.jupyter.widget-view+json": {
       "model_id": "36649b099c234deab8341f16b362ab8e",
       "version_major": 2,
       "version_minor": 0
      },
      "text/plain": [
       "HBox(children=(FloatProgress(value=0.0, max=9427.0), HTML(value='')))"
      ]
     },
     "metadata": {},
     "output_type": "display_data"
    },
    {
     "name": "stdout",
     "output_type": "stream",
     "text": [
      "\n"
     ]
    },
    {
     "data": {
      "application/vnd.jupyter.widget-view+json": {
       "model_id": "ccb1347a4286410f8d283121b2fc46c0",
       "version_major": 2,
       "version_minor": 0
      },
      "text/plain": [
       "HBox(children=(FloatProgress(value=0.0, max=9427.0), HTML(value='')))"
      ]
     },
     "metadata": {},
     "output_type": "display_data"
    },
    {
     "name": "stdout",
     "output_type": "stream",
     "text": [
      "\n"
     ]
    },
    {
     "data": {
      "application/vnd.jupyter.widget-view+json": {
       "model_id": "58fa724a95814e23b943431808c45b97",
       "version_major": 2,
       "version_minor": 0
      },
      "text/plain": [
       "HBox(children=(FloatProgress(value=0.0, max=2190.0), HTML(value='')))"
      ]
     },
     "metadata": {},
     "output_type": "display_data"
    },
    {
     "name": "stdout",
     "output_type": "stream",
     "text": [
      "\n"
     ]
    },
    {
     "data": {
      "application/vnd.jupyter.widget-view+json": {
       "model_id": "7004c895c91c4ebf91aa84e680314a4a",
       "version_major": 2,
       "version_minor": 0
      },
      "text/plain": [
       "HBox(children=(FloatProgress(value=0.0, max=2190.0), HTML(value='')))"
      ]
     },
     "metadata": {},
     "output_type": "display_data"
    },
    {
     "name": "stdout",
     "output_type": "stream",
     "text": [
      "\n"
     ]
    },
    {
     "data": {
      "application/vnd.jupyter.widget-view+json": {
       "model_id": "f69071e3c04f4d9a9938e9b6ab9fcf24",
       "version_major": 2,
       "version_minor": 0
      },
      "text/plain": [
       "HBox(children=(FloatProgress(value=0.0, max=2190.0), HTML(value='')))"
      ]
     },
     "metadata": {},
     "output_type": "display_data"
    },
    {
     "name": "stdout",
     "output_type": "stream",
     "text": [
      "\n"
     ]
    },
    {
     "data": {
      "application/vnd.jupyter.widget-view+json": {
       "model_id": "3f1c11238eac46d0b33cd7affcc7406e",
       "version_major": 2,
       "version_minor": 0
      },
      "text/plain": [
       "HBox(children=(FloatProgress(value=0.0, max=2190.0), HTML(value='')))"
      ]
     },
     "metadata": {},
     "output_type": "display_data"
    },
    {
     "name": "stdout",
     "output_type": "stream",
     "text": [
      "\n",
      "CPU times: user 8.83 s, sys: 113 ms, total: 8.95 s\n",
      "Wall time: 8.86 s\n"
     ]
    }
   ],
   "source": [
    "%%time\n",
    "train_bidaf = tokenize_and_encode_inputs(train_questions, train_passages, train_embeds)\n",
    "dev_bidaf = tokenize_and_encode_inputs(dev_questions, dev_passages, dev_embeds)\n",
    "test_bidaf = tokenize_and_encode_inputs(test_questions, test_passages, test_embeds)"
   ]
  },
  {
   "cell_type": "code",
   "execution_count": 98,
   "metadata": {},
   "outputs": [
    {
     "name": "stdout",
     "output_type": "stream",
     "text": [
      "(9427, 20, 300) (9427, 20, 15) (9427, 350, 300) (9427, 350, 15)\n",
      "(2190, 20, 300) (2190, 20, 15) (2190, 350, 300) (2190, 350, 15)\n",
      "(2190, 20, 300) (2190, 20, 15) (2190, 350, 300) (2190, 350, 15)\n"
     ]
    }
   ],
   "source": [
    "print(train_bidaf['question_embeddings'].shape, train_bidaf['question_characters'].shape,\n",
    "      train_bidaf['passage_embeddings'].shape, train_bidaf['passage_characters'].shape)\n",
    "print(dev_bidaf['question_embeddings'].shape, dev_bidaf['question_characters'].shape,\n",
    "      dev_bidaf['passage_embeddings'].shape, dev_bidaf['passage_characters'].shape)\n",
    "print(test_bidaf['question_embeddings'].shape, test_bidaf['question_characters'].shape,\n",
    "      test_bidaf['passage_embeddings'].shape, test_bidaf['passage_characters'].shape)"
   ]
  },
  {
   "cell_type": "code",
   "execution_count": 233,
   "metadata": {
    "ExecuteTime": {
     "end_time": "2020-04-12T21:33:53.525923Z",
     "start_time": "2020-04-12T21:33:53.521084Z"
    }
   },
   "outputs": [],
   "source": [
    "class CharacterTokensLayer(Layer):\n",
    "    def __init__(self, *, word_len, embedding_size, sentence_size, pooling_sizes, filters, kernels):\n",
    "        super(CharacterTokensLayer, self).__init__()\n",
    "        self.word_len = word_len\n",
    "        self.embedding_size = embedding_size\n",
    "        self.sentence_size = sentence_size\n",
    "\n",
    "        self.embedding_layer = Embedding(ALPHABET_SIZE + 2, embedding_size, input_length=sentence_size)\n",
    "        self.convs = [Conv1D(filters=filtr,\n",
    "                             kernel_size=kernel_size,\n",
    "                             activation='tanh',\n",
    "                             name=f'{self.name}_Conv1D_{filtr}_{kernel_size}')\n",
    "                      for filtr, kernel_size in zip(filters, kernels)]\n",
    "        self.pool = GlobalMaxPooling1D(name=f'{self.name}_MaxPoolingOverTime')\n",
    "    \n",
    "#         self.pools = [\n",
    "#             MaxPooling1D(name=f'MaxPooling1D_{pool_size}', pool_size=pool_size)\n",
    "#             for pool_size in pooling_sizes\n",
    "#         ]\n",
    "    \n",
    "    def __call__(self, inputs):\n",
    "        \n",
    "#         tf.print(f'CharacterTokensLayer start', output_stream=sys.stderr)\n",
    "        \n",
    "        embedding = self.embedding_layer(inputs)\n",
    "        \n",
    "        \n",
    "        embedding = tf.reshape(embedding, [-1, self.word_len, self.embedding_size]) \n",
    "        # batch * sentence_size, word_len, embedding_size\n",
    "        \n",
    "#         print(f'embedding.shape={embedding.shape}')\n",
    "        \n",
    "        outputs = []\n",
    "        for conv in self.convs:\n",
    "            conved = conv(embedding)\n",
    "#             print(f'conved={conved.shape}')\n",
    "            pooled = self.pool(conved)\n",
    "#             print(f'pooled={pooled.shape}')\n",
    "            outputs.append(pooled)\n",
    "#             print(f'outputs[i]={outputs[-1].shape}')\n",
    "\n",
    "        concated = tf.concat(outputs, axis=-1)\n",
    "#         print(f'concated.shape={concated.shape}')        \n",
    "        \n",
    "        final_embed_shape = concated.shape[-1]\n",
    "\n",
    "        \n",
    "        expanded = tf.reshape(concated, [-1, self.sentence_size, final_embed_shape])\n",
    "        \n",
    "        \n",
    "#         tf.print(f'CharacterTokensLayer end', output_stream=sys.stderr)\n",
    "        \n",
    "        return expanded"
   ]
  },
  {
   "cell_type": "code",
   "execution_count": 234,
   "metadata": {},
   "outputs": [],
   "source": [
    "class HighWayLayer(tf.keras.layers.Layer):\n",
    "#     _name_dict = defaultdict(int)\n",
    "    \n",
    "    def __init__(self, linear_dense_activation, transform_bias=-3, **kwargs):\n",
    "        super(HighWayLayer, self).__init__(**kwargs)\n",
    "        \n",
    "        self.linear_dense_activation = linear_dense_activation\n",
    "        self.transform_bias = transform_bias\n",
    "        \n",
    "        \n",
    "    def build(self, input_shape):\n",
    "    \n",
    "        # From Paper:\n",
    "        #    We optimized the initial learning rate, momentum,\n",
    "        #    learning rate decay rate, activation function for H (either\n",
    "        #    ReLU or tanh) and, for highway networks, the value for\n",
    "        #    the transform gate bias (between -1 and -10)\n",
    "        \n",
    "        dim = input_shape[-1]\n",
    "        \n",
    "        transorm_bias_initializer = tf.keras.initializers.Constant(self.transform_bias)\n",
    "        \n",
    "        # H\n",
    "        self.linear_transform = Dense(\n",
    "            dim, \n",
    "            activation=self.linear_dense_activation,\n",
    "            name=f'HighWay_H_{self.name}')\n",
    "\n",
    "        # T\n",
    "        self.non_linear_transofm = Dense(\n",
    "            dim, \n",
    "            activation='sigmoid',\n",
    "            bias_initializer=transorm_bias_initializer,\n",
    "            name=f'HighWay_T_{self.name}')\n",
    "        super(HighWayLayer, self).build(input_shape)\n",
    "        \n",
    "        \n",
    "    def call(self, x):\n",
    "#         tf.print(f'HighWayLayer start', output_stream=sys.stderr)\n",
    "        \n",
    "        # y = H(x,WH)· T(x,WT) + x · C(x,WC). \n",
    "        # C = 1 - T\n",
    "\n",
    "        H = self.linear_transform(x)\n",
    "        T = self.non_linear_transofm(x)\n",
    "\n",
    "        C = tf.keras.layers.Lambda(\n",
    "            lambda x: 1.0 - x,\n",
    "            name=f'HighWay_C'\n",
    "        )(T)\n",
    "\n",
    "        output1 = tf.multiply(H, T, name=f'HightWay_output1_{self.name}')\n",
    "        output2 = tf.multiply(x, C, name=f'HightWay_output2_{self.name}')\n",
    "        res = tf.keras.layers.add([output1, output2], name=f'HighWay_add_{self.name}')\n",
    "#         tf.print(f'HighWayLayer end', output_stream=sys.stderr)\n",
    "        return res\n",
    "    "
   ]
  },
  {
   "cell_type": "code",
   "execution_count": 235,
   "metadata": {},
   "outputs": [],
   "source": [
    "class HighWayLayers(Layer):\n",
    "    def __init__(self, num_layers, linear_dense_activation, transform_bias=-3):\n",
    "        super(HighWayLayers).__init__()\n",
    "        \n",
    "        self.layers = [\n",
    "            HighWayLayer(linear_dense_activation=linear_dense_activation, transform_bias=transform_bias)\n",
    "            for _ in range(num_layers)\n",
    "        ]\n",
    "        \n",
    "    def __call__(self, x):\n",
    "#         tf.print('HighWayLayers start', output_stream=sys.stderr)\n",
    "        for layer in self.layers:\n",
    "            x = layer(x)\n",
    "#         tf.print('HighWayLayers end', output_stream=sys.stderr)\n",
    "        return x"
   ]
  },
  {
   "cell_type": "code",
   "execution_count": 236,
   "metadata": {},
   "outputs": [],
   "source": [
    "class ContextualEmbeddingLayer(Layer):\n",
    "    def __init__(self, highway_params, lstm_params):\n",
    "        super(ContextualEmbeddingLayer).__init__()\n",
    "        self.highway = HighWayLayers(**highway_params)\n",
    "        self.BiLSTM = tf.keras.layers.Bidirectional(\n",
    "           tf.keras.layers.LSTM(\n",
    "               **lstm_params, \n",
    "               return_sequences=True,\n",
    "               name=f'question_BiLSTM_{i}'))\n",
    "        \n",
    "        \n",
    "    def __call__(self, word_embeddings, character_embeddings):\n",
    "        embeddings = tf.concat([word_embeddings, character_embeddings], axis=-1)\n",
    "        \n",
    "        embeddings = self.highway(embeddings)\n",
    "        \n",
    "        res = self.BiLSTM(embeddings)\n",
    "        return res        "
   ]
  },
  {
   "cell_type": "code",
   "execution_count": 237,
   "metadata": {},
   "outputs": [],
   "source": [
    "class C2QAttention(Layer):\n",
    "\n",
    "    def __init__(self, **kwargs):\n",
    "        super(C2QAttention, self).__init__(**kwargs)\n",
    "\n",
    "\n",
    "    def __call__(self, similarity_matrix, encoded_question):\n",
    "        context_to_query_attention = tf.nn.softmax(similarity_matrix, axis=-1, name=f'{self.name}_softmax')\n",
    "        encoded_question = tf.expand_dims(encoded_question, axis=1)\n",
    "        res = tf.keras.backend.sum(tf.expand_dims(context_to_query_attention, axis=-1) * encoded_question, -2)\n",
    "        return res"
   ]
  },
  {
   "cell_type": "code",
   "execution_count": 238,
   "metadata": {},
   "outputs": [],
   "source": [
    "class Q2CAttention(Layer):\n",
    "    def __init__(self, **kwargs):\n",
    "        super(Q2CAttention, self).__init__(**kwargs)\n",
    "        self.softmax = tf.keras.layers.Softmax(axis=-1, name=f'{self.name}_softmax')\n",
    "\n",
    "    def __call__(self, similarity_matrix, encoded_context):\n",
    "        max_similarity = tf.keras.backend.max(similarity_matrix, axis=-1)\n",
    "        context_to_query_attention = self.softmax(max_similarity)\n",
    "        \n",
    "        weighted_sum = tf.keras.backend.sum(tf.expand_dims(context_to_query_attention, axis=-1) * encoded_context, -2)\n",
    "        \n",
    "        expanded_weighted_sum = tf.expand_dims(weighted_sum, 1)\n",
    "        num_of_repeatations = tf.shape(encoded_context)[1]\n",
    "    \n",
    "        return tf.tile(expanded_weighted_sum, [1, num_of_repeatations, 1])"
   ]
  },
  {
   "cell_type": "code",
   "execution_count": 239,
   "metadata": {},
   "outputs": [],
   "source": [
    "class Similarity(Layer):\n",
    "\n",
    "    def __init__(self, passage_len, question_len, d, **kwargs):\n",
    "        super(Similarity, self).__init__(**kwargs)\n",
    "\n",
    "        self.T = passage_len\n",
    "        self.J = question_len\n",
    "        self.d = d\n",
    "\n",
    "        self.w = tf.keras.layers.Dense(units=1, activation=None, use_bias=False)\n",
    "\n",
    "\n",
    "    def __call__(self, context_vectors, query_vectors):\n",
    "        # (?, T, 2d), (?, J, 2d)\n",
    "\n",
    "        #shape = (-1, self.T, self.J, 2 * self.d)  # (N, T, J, 2d)\n",
    "        expanded_context_vectors = tf.expand_dims(context_vectors, 2)                  # (N, T, 1, 2d)\n",
    "        expanded_context_vectors = tf.repeat(expanded_context_vectors, self.J, axis=2) # (N, T, J, 2d)\n",
    "        expanded_query_vectors = tf.expand_dims(query_vectors, 1)                      # (N, 1, J, 2d)\n",
    "        expanded_query_vectors = tf.repeat(expanded_query_vectors, self.T, axis=1)     # (N, T, J, 2d)\n",
    "        \n",
    "        # element-wise\n",
    "        m = tf.math.multiply(expanded_context_vectors, expanded_query_vectors)      # (N, T, J, 2d)\n",
    "        \n",
    "        # [h; u; h◦u]\n",
    "        concated = tf.concat([expanded_context_vectors, expanded_query_vectors, m], axis=-1) # (N, T, J, 6d)\n",
    "        \n",
    "        similarity = self.w(concated)\n",
    "        similarity = tf.reshape(similarity, [-1, self.T, self.J])\n",
    "        \n",
    "        return similarity"
   ]
  },
  {
   "cell_type": "code",
   "execution_count": 240,
   "metadata": {},
   "outputs": [],
   "source": [
    "class MergedContext(Layer):\n",
    "    def __init__(self, **kwargs):\n",
    "        super(MergedContext, self).__init__(**kwargs)\n",
    "\n",
    "    def __call__(self, encoded_context, context_to_query_attention, query_to_context_attention):\n",
    "#         tf.print('MergedContext start', output_stream=sys.stderr)\n",
    "        element_wise_multiply1 = tf.math.multiply(encoded_context, context_to_query_attention)\n",
    "        element_wise_multiply2 = tf.math.multiply(encoded_context, query_to_context_attention)\n",
    "        concatenated_tensor = tf.concat(\n",
    "            [encoded_context, context_to_query_attention, element_wise_multiply1, element_wise_multiply2],\n",
    "            axis=-1,\n",
    "            name=f'{self.name}_contcat'\n",
    "        )\n",
    "#         tf.print('MergedContext end', output_stream=sys.stderr)\n",
    "        return concatenated_tensor"
   ]
  },
  {
   "cell_type": "code",
   "execution_count": 241,
   "metadata": {},
   "outputs": [],
   "source": [
    "class ModelingLayer(Layer):\n",
    "    def __init__(self, num_decoders, d, recurrent_dropout, **kwargs):\n",
    "        super(ModelingLayer, self).__init__(**kwargs)\n",
    "        self.BiLSTMS = [\n",
    "            tf.keras.layers.Bidirectional(\n",
    "                tf.keras.layers.LSTM(\n",
    "                    units=d,\n",
    "                    recurrent_dropout=recurrent_dropout,\n",
    "                    return_sequences=True,\n",
    "                    name=f'M_BiLSTM_No{i}'))\n",
    "            for i in range(num_decoders)\n",
    "        ]\n",
    "        \n",
    "    def __call__(self, G):\n",
    "#         tf.print('ModelingLayer start', output_stream=sys.stderr)\n",
    "        res = G\n",
    "        for BiLSTM in self.BiLSTMS:\n",
    "            res = BiLSTM(res)\n",
    "            \n",
    "#         tf.print('ModelingLayer end', output_stream=sys.stderr)\n",
    "        return res\n",
    "    \n",
    "    "
   ]
  },
  {
   "cell_type": "code",
   "execution_count": 242,
   "metadata": {},
   "outputs": [],
   "source": [
    "class BiDAFPredictionLayer(Layer):\n",
    "    def __init__(self, d, **kwargs):\n",
    "        super(BiDAFPredictionLayer, self).__init__(**kwargs)\n",
    "        self.predictor = tf.keras.layers.Dense(1)\n",
    "        self.dense = tf.keras.layers.Dense(1, activation='sigmoid')\n",
    "        \n",
    "        \n",
    "    def __call__(self, G, M):\n",
    "#         tf.print('BiDAFPredictionLayer start', output_stream=sys.stderr)\n",
    "        # G: (N, T, 8d)\n",
    "        # M: (N, T, 2d)\n",
    "        GM = tf.concat([G, M], axis=-1)\n",
    "        \n",
    "        p = self.predictor(GM)  # (N, T, 1)\n",
    "        p = tf.squeeze(p, 2) # (N, T)\n",
    "#         tf.print(f'predictor p.shape={p.shape}', output_stream=sys.stderr)\n",
    "        p = self.dense(p)\n",
    "#         tf.print(f'dense p.shape={p.shape}', output_stream=sys.stderr)\n",
    "#         tf.print('BiDAFPredictionLayer end', output_stream=sys.stderr)\n",
    "        return p"
   ]
  },
  {
   "cell_type": "code",
   "execution_count": 243,
   "metadata": {},
   "outputs": [],
   "source": [
    "def build_bidaf(*, question_size, passage_size,\n",
    "#                 question_size_sym, passage_size_sym,\n",
    "                word_len,\n",
    "                word_embedding_dim, lstm_dim,\n",
    "                question_character_tokens_params, passage_character_tokens_params,\n",
    "                contextual_embedding_params,\n",
    "                modeling_layer_params, \n",
    "                prediction_layer_params,\n",
    "               ):\n",
    "    question_embeddings = tf.keras.Input(shape=(question_size, word_embedding_dim),\n",
    "                                    name='question_embeddings')\n",
    "    passage_embeddings = tf.keras.Input(shape=(passage_size, word_embedding_dim),\n",
    "                                   name='passage_embeddings')\n",
    "    question_characters = tf.keras.Input(shape=(question_size, word_len),\n",
    "                                    name='question_characters')\n",
    "    passage_characters = tf.keras.Input(shape=(passage_size, word_len),\n",
    "                                   name='passage_characters')\n",
    "    \n",
    "    question_character_tokens_layer = CharacterTokensLayer(**question_character_tokens_params)\n",
    "    question_character_tokens = question_character_tokens_layer(question_characters)\n",
    "    \n",
    "    passage_character_tokens_layer = CharacterTokensLayer(**passage_character_tokens_params)\n",
    "    passage_character_tokens = passage_character_tokens_layer(passage_characters)\n",
    "    \n",
    "    question_contextual_embedding = ContextualEmbeddingLayer(**contextual_embedding_params['question'])\n",
    "    passage_contextual_embedding = ContextualEmbeddingLayer(**contextual_embedding_params['passage'])\n",
    "\n",
    "    question_context_embeds = question_contextual_embedding(question_embeddings, question_character_tokens)\n",
    "    passage_context_embeds = passage_contextual_embedding(passage_embeddings, passage_character_tokens)\n",
    "    \n",
    "    similarity_matrix_layer = Similarity(\n",
    "        name='similarity_layer', \n",
    "        passage_len=passage_size,\n",
    "        question_len=question_size,\n",
    "        d=lstm_dim\n",
    "    )\n",
    "    similarity_matrix = similarity_matrix_layer(passage_context_embeds, question_context_embeds)\n",
    "    \n",
    "#     p = tf.keras.layers.Dense(1)(tf.concat([question_context_embeds, passage_context_embeds], axis=1))\n",
    "#     p = tf.keras.layers.Dense(1)(similarity_matrix)\n",
    "#     p = tf.squeeze(p, 2)\n",
    "#     p = tf.keras.layers.Dense(1)(p)\n",
    "    \n",
    "    c2q_attention = C2QAttention(name='ContextToQueryAttention')\n",
    "    q2c_attention = Q2CAttention(name='QueryToContextAttention')\n",
    "\n",
    "    context_to_query_attention = c2q_attention(similarity_matrix, question_context_embeds)\n",
    "\n",
    "    query_to_context_attention = q2c_attention(similarity_matrix, passage_context_embeds)\n",
    "\n",
    "    G = MergedContext(name='MergedContext')(\n",
    "        encoded_context=passage_context_embeds,\n",
    "        context_to_query_attention=context_to_query_attention,\n",
    "        query_to_context_attention=query_to_context_attention\n",
    "    )\n",
    "    \n",
    "    modeling_layer = ModelingLayer(**modeling_layer_params)\n",
    "    M = modeling_layer(G)\n",
    "    # M: (N, T, 2d)\n",
    "    \n",
    "    predictor = BiDAFPredictionLayer(**prediction_layer_params)\n",
    "    p = predictor(G, M)\n",
    "\n",
    "    # Instantiate an end-to-end model predicting both priority and department\n",
    "    model = tf.keras.Model(\n",
    "        inputs=[\n",
    "            question_embeddings, question_characters,\n",
    "            passage_embeddings, passage_characters,\n",
    "        ],\n",
    "        outputs=[p]\n",
    "    )\n",
    "    return model"
   ]
  },
  {
   "cell_type": "code",
   "execution_count": 244,
   "metadata": {},
   "outputs": [
    {
     "name": "stdout",
     "output_type": "stream",
     "text": [
      "Q2CAttention start\n"
     ]
    }
   ],
   "source": [
    "lstm_dim=100\n",
    "\n",
    "bidaf_model = build_bidaf(\n",
    "    question_size=MAX_LEN_QUEST,\n",
    "    passage_size=MAX_LEN_PASSAGE,\n",
    "    word_len=MAX_WORD_LEN_SYM,\n",
    "    word_embedding_dim=FT_EMBEDS_DIM,\n",
    "    lstm_dim=lstm_dim,\n",
    "    contextual_embedding_params={\n",
    "        'question': {\n",
    "            'highway_params': {\n",
    "                'num_layers': 2,\n",
    "                'linear_dense_activation': 'relu',\n",
    "            },\n",
    "            'lstm_params': {\n",
    "                'units': lstm_dim,\n",
    "                'dropout': 0.3,\n",
    "                'recurrent_dropout': 0.3,\n",
    "            },\n",
    "        },\n",
    "        'passage': {\n",
    "            'highway_params': {\n",
    "                'num_layers': 2,\n",
    "                'linear_dense_activation': 'relu',\n",
    "            },\n",
    "            'lstm_params': {\n",
    "                'units': lstm_dim,\n",
    "                'dropout': 0.3,\n",
    "                'recurrent_dropout': 0.3,\n",
    "            },\n",
    "        }\n",
    "    },\n",
    "    question_character_tokens_params={\n",
    "        'word_len': MAX_WORD_LEN_SYM,\n",
    "        'sentence_size': MAX_LEN_QUEST,\n",
    "        'embedding_size': 1014,\n",
    "        'filters': [3, 4, 5],\n",
    "        'pooling_sizes': [3, 3, 3],\n",
    "        'kernels': [13, 13, 13],\n",
    "    },\n",
    "    passage_character_tokens_params={\n",
    "        'word_len': MAX_WORD_LEN_SYM,\n",
    "        'sentence_size': MAX_LEN_PASSAGE,\n",
    "        'embedding_size': 1014,\n",
    "        'filters': [3, 4, 5],\n",
    "        'pooling_sizes': [3, 3, 3],\n",
    "        'kernels': [13, 13, 13],\n",
    "    },\n",
    "    modeling_layer_params={\n",
    "        'num_decoders': 2,\n",
    "        'd': lstm_dim,\n",
    "        'recurrent_dropout': 0.3,\n",
    "    },\n",
    "    prediction_layer_params={\n",
    "        'd': lstm_dim,\n",
    "    },\n",
    ")\n",
    "bidaf_model.compile(optimizer='adam', loss='binary_crossentropy', metrics=['accuracy'])\n",
    "# tf.keras.utils.plot_model(bidaf_model, 'bidaf.png', show_shapes=True)"
   ]
  },
  {
   "cell_type": "code",
   "execution_count": 245,
   "metadata": {},
   "outputs": [],
   "source": [
    "# bidaf_model.summary()"
   ]
  },
  {
   "cell_type": "code",
   "execution_count": 246,
   "metadata": {},
   "outputs": [],
   "source": [
    "def _train_model(\n",
    "    current_model, model_name, X, y, X_dev, y_dev, compute_class_weight=False,\n",
    "    batch_sizes=BATCH_SIZES, epochs=EPOCHS, verbose=1,\n",
    "):\n",
    "    \n",
    "    if compute_class_weight:\n",
    "        class_weight = compute_sample_weight('balanced', np.unique(y), y)\n",
    "    else:\n",
    "        class_weight = None\n",
    "    \n",
    "    checkpoint_path = f'models/{model_name}/chkpt/{model_name}.checkpoint'\n",
    "    final_path = f'models/{model_name}/tf/{model_name}'\n",
    "\n",
    "    save_checkpoint = tf.keras.callbacks.ModelCheckpoint(\n",
    "        checkpoint_path, monitor='val_loss', verbose=verbose,\n",
    "        save_best_only=True, save_weights_only=True,\n",
    "        save_freq='epoch')\n",
    "    \n",
    "    train_acc = []\n",
    "    dev_acc = []\n",
    "\n",
    "    for batch_size in batch_sizes:\n",
    "        if verbose:\n",
    "            print(batch_size)\n",
    "        history = current_model.fit(\n",
    "            X,\n",
    "            y,\n",
    "            validation_data=(\n",
    "                X_dev,\n",
    "                y_dev),\n",
    "            callbacks=[save_checkpoint],\n",
    "            epochs=epochs,\n",
    "            verbose=verbose,\n",
    "            class_weight=class_weight,\n",
    "            batch_size=batch_size)\n",
    "\n",
    "        train_acc.extend(history.history['accuracy'])\n",
    "        dev_acc.extend(history.history['val_accuracy'])\n",
    "    current_model.save_weights(final_path)\n",
    "    plot_history(train_acc, dev_acc)"
   ]
  },
  {
   "cell_type": "code",
   "execution_count": null,
   "metadata": {
    "pixiedust": {
     "displayParams": {}
    }
   },
   "outputs": [
    {
     "name": "stdout",
     "output_type": "stream",
     "text": [
      "Q2CAttention start\n",
      "512\n",
      "Train on 9427 samples, validate on 2190 samples\n",
      "Epoch 1/2\n",
      " 512/9427 [>.............................] - ETA: 6:31 - loss: 0.6992 - accuracy: 0.4004"
     ]
    }
   ],
   "source": [
    "lstm_dim=40\n",
    "\n",
    "bidaf_model = build_bidaf(\n",
    "    question_size=MAX_LEN_QUEST,\n",
    "    passage_size=MAX_LEN_PASSAGE,\n",
    "    word_len=MAX_WORD_LEN_SYM,\n",
    "    lstm_dim=lstm_dim,\n",
    "    word_embedding_dim=FT_EMBEDS_DIM,\n",
    "    contextual_embedding_params={\n",
    "        'question': {\n",
    "            'highway_params': {\n",
    "                'num_layers': 2,\n",
    "                'linear_dense_activation': 'relu',\n",
    "            },\n",
    "            'lstm_params': {\n",
    "                'units': lstm_dim,\n",
    "                'dropout': 0,\n",
    "                'recurrent_dropout': 0,\n",
    "            },\n",
    "        },\n",
    "        'passage': {\n",
    "            'highway_params': {\n",
    "                'num_layers': 2,\n",
    "                'linear_dense_activation': 'relu',\n",
    "            },\n",
    "            'lstm_params': {\n",
    "                'units': lstm_dim,\n",
    "                'dropout': 0,\n",
    "                'recurrent_dropout': 0,\n",
    "            },\n",
    "        }\n",
    "    },\n",
    "    question_character_tokens_params={\n",
    "        'word_len': MAX_WORD_LEN_SYM,\n",
    "        'sentence_size': MAX_LEN_QUEST,\n",
    "        'embedding_size': 256,\n",
    "        'filters': [3, 4, 5],\n",
    "        'pooling_sizes': [3, 3, 3],\n",
    "        'kernels': [13, 13, 13],\n",
    "    },\n",
    "    passage_character_tokens_params={\n",
    "        'word_len': MAX_WORD_LEN_SYM,\n",
    "        'sentence_size': MAX_LEN_PASSAGE,\n",
    "        'embedding_size': 256,\n",
    "        'filters': [3, 4, 5],\n",
    "        'pooling_sizes': [3, 3, 3],\n",
    "        'kernels': [13, 13, 13],\n",
    "    },\n",
    "    modeling_layer_params={\n",
    "        'num_decoders': 2,\n",
    "        'd': lstm_dim,\n",
    "        'recurrent_dropout': 0.3,\n",
    "    },\n",
    "    prediction_layer_params={\n",
    "        'd': lstm_dim,\n",
    "    },\n",
    ")\n",
    "bidaf_model.compile(optimizer='adam', loss='binary_crossentropy', metrics=['accuracy'])\n",
    "_train_model(\n",
    "    bidaf_model, 'bidaf_model_test',\n",
    "    X=train_bidaf, y=y_train,\n",
    "    X_dev=dev_bidaf, y_dev=y_dev,\n",
    "    epochs=2,\n",
    ")\n",
    "evaluate_model(_model, test_bidaf, y_test)"
   ]
  },
  {
   "cell_type": "code",
   "execution_count": null,
   "metadata": {},
   "outputs": [],
   "source": [
    "y_dev.shape"
   ]
  },
  {
   "cell_type": "code",
   "execution_count": null,
   "metadata": {},
   "outputs": [],
   "source": [
    "for key in dev_bidaf:\n",
    "    print(key, dev_bidaf[key].shape)"
   ]
  },
  {
   "cell_type": "code",
   "execution_count": null,
   "metadata": {},
   "outputs": [],
   "source": []
  },
  {
   "cell_type": "code",
   "execution_count": null,
   "metadata": {},
   "outputs": [],
   "source": []
  },
  {
   "cell_type": "code",
   "execution_count": null,
   "metadata": {},
   "outputs": [],
   "source": []
  },
  {
   "cell_type": "code",
   "execution_count": null,
   "metadata": {},
   "outputs": [],
   "source": []
  },
  {
   "cell_type": "code",
   "execution_count": null,
   "metadata": {},
   "outputs": [],
   "source": []
  },
  {
   "cell_type": "code",
   "execution_count": null,
   "metadata": {},
   "outputs": [],
   "source": []
  },
  {
   "cell_type": "code",
   "execution_count": null,
   "metadata": {},
   "outputs": [],
   "source": []
  }
 ],
 "metadata": {
  "celltoolbar": "Initialization Cell",
  "kernelspec": {
   "display_name": "venv",
   "language": "python",
   "name": "venv"
  },
  "language_info": {
   "codemirror_mode": {
    "name": "ipython",
    "version": 3
   },
   "file_extension": ".py",
   "mimetype": "text/x-python",
   "name": "python",
   "nbconvert_exporter": "python",
   "pygments_lexer": "ipython3",
   "version": "3.7.7"
  },
  "toc": {
   "base_numbering": 1,
   "nav_menu": {},
   "number_sections": true,
   "sideBar": true,
   "skip_h1_title": false,
   "title_cell": "Table of Contents",
   "title_sidebar": "Contents",
   "toc_cell": false,
   "toc_position": {
    "height": "calc(100% - 180px)",
    "left": "10px",
    "top": "150px",
    "width": "307.2px"
   },
   "toc_section_display": true,
   "toc_window_display": true
  }
 },
 "nbformat": 4,
 "nbformat_minor": 2
}
